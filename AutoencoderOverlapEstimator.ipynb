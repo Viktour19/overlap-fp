{
 "cells": [
  {
   "cell_type": "code",
   "execution_count": 53,
   "metadata": {},
   "outputs": [],
   "source": [
    "import sys\n",
    "sys.path.append('../notebooks')\n",
    "\n",
    "import pandas as pd\n",
    "import numpy as np\n",
    "import tensorflow as tf\n",
    "\n",
    "import importlib\n",
    "import simpleautoencoder2\n",
    "importlib.reload(simpleautoencoder2)\n",
    "\n",
    "from simpleautoencoder2 import Autoencoder, loss, train, Encoder\n",
    "from sklearn.model_selection import train_test_split\n",
    "from sklearn.preprocessing import StandardScaler"
   ]
  },
  {
   "cell_type": "code",
   "execution_count": 5,
   "metadata": {},
   "outputs": [],
   "source": [
    "df = pd.read_csv('./fp_injectables_data.csv')\n",
    "\n",
    "y = df['outcome'] * 1\n",
    "a = df['treatment'] * 1\n",
    "X = df[df.columns[:-2]]\n",
    "X = X.apply(lambda x: x.fillna(x.median()),axis='rows')\n"
   ]
  },
  {
   "cell_type": "code",
   "execution_count": 59,
   "metadata": {},
   "outputs": [
    {
     "name": "stdout",
     "output_type": "stream",
     "text": [
      "(5649, 317)\n"
     ]
    }
   ],
   "source": [
    "from sklearn.preprocessing import OrdinalEncoder, OneHotEncoder\n",
    "\n",
    "encoding = pd.read_csv('encoding-Copy1.csv')\n",
    "\n",
    "# Select and Encode ordinal features\n",
    "v = encoding[encoding['encoding'] == 'O']['var_name'].values\n",
    "enc = OrdinalEncoder()\n",
    "ord_data = enc.fit_transform(X[v])\n",
    "ord_features = v\n",
    "\n",
    "# Select and Encode nominal features\n",
    "v = encoding[encoding['encoding'] == 'L']['var_name'].values\n",
    "j = X[v].astype(int)\n",
    "enc = OneHotEncoder(categories='auto')\n",
    "nom_data = enc.fit_transform(j)\n",
    "nom_data.dtype = int\n",
    "nom_features = enc.get_feature_names(v)\n",
    "\n",
    "# Select the discrete features\n",
    "v = encoding[encoding['encoding'] == 'N']['var_name'].values\n",
    "dis_data = X[v].values\n",
    "dis_features = v\n",
    "\n",
    "\n",
    "# Combine all the features\n",
    "X_arr = np.concatenate((ord_data, nom_data.toarray(), dis_data), axis=1)\n",
    "features_names = np.concatenate((ord_features, nom_features, dis_features))\n",
    "\n",
    "print(X_arr.shape)\n",
    "X_df = pd.DataFrame(X_arr, columns=features_names)"
   ]
  },
  {
   "cell_type": "code",
   "execution_count": 68,
   "metadata": {},
   "outputs": [],
   "source": [
    "enc = OneHotEncoder(categories='auto')\n",
    "label_data = enc.fit_transform(a.values.reshape(-1, 1))\n",
    "label_data = label_data.toarray()"
   ]
  },
  {
   "cell_type": "code",
   "execution_count": 4,
   "metadata": {},
   "outputs": [],
   "source": [
    "train_data = X_df.values"
   ]
  },
  {
   "cell_type": "code",
   "execution_count": 19,
   "metadata": {},
   "outputs": [
    {
     "name": "stdout",
     "output_type": "stream",
     "text": [
      "0.7110724\n"
     ]
    }
   ],
   "source": [
    "np.random.seed(1)\n",
    "tf.random.set_seed(1)\n",
    "\n",
    "learning_rate = 1e-2\n",
    "batch_size = 128\n",
    "epochs = 50\n",
    "dim = 317\n",
    "\n",
    "autoencoder = Autoencoder(intermediate_dim=64, original_dim=dim)\n",
    "opt = tf.optimizers.Adam(learning_rate=learning_rate)\n",
    "\n",
    "data = StandardScaler().fit_transform(X_df.values)\n",
    "training_features, test_features = train_test_split(data)\n",
    "training_features = training_features.astype('float32')\n",
    "training_dataset = tf.data.Dataset.from_tensor_slices(training_features)\n",
    "training_dataset = training_dataset.batch(batch_size)\n",
    "training_dataset = training_dataset.shuffle(training_features.shape[0])\n",
    "training_dataset = training_dataset.prefetch(batch_size * 4)\n",
    "\n",
    "writer = tf.summary.create_file_writer('tmp')\n",
    "\n",
    "with writer.as_default():\n",
    "    with tf.summary.record_if(True):\n",
    "        for epoch in range(epochs):\n",
    "            for step, batch_features in enumerate(training_dataset):\n",
    "                train(loss, autoencoder, opt, batch_features)\n",
    "                loss_values = loss(autoencoder, batch_features)\n",
    "\n",
    "                original = batch_features\n",
    "                reconstructed = autoencoder(tf.constant(batch_features))\n",
    "                \n",
    "            tf.summary.scalar('loss', loss_values, step=step)\n",
    "            tf.summary.histogram('original', original, step=step)\n",
    "            tf.summary.histogram('reconstructed', reconstructed,  step=step)\n",
    "\n",
    "\n",
    "test_loss = loss(autoencoder, test_features.astype('float32'))                \n",
    "print(test_loss.numpy())         "
   ]
  },
  {
   "cell_type": "code",
   "execution_count": 88,
   "metadata": {},
   "outputs": [],
   "source": [
    "class fc(tf.keras.Model):\n",
    "    def __init__(self, intermediate_dim, num_classes):\n",
    "        super(fc, self).__init__()\n",
    "        self.encoder = Encoder(intermediate_dim=intermediate_dim)\n",
    "        self.output_layer = tf.keras.layers.Dense(units=num_classes, activation=tf.nn.softmax)\n",
    "    \n",
    "    def call(self, input_features):\n",
    "        encoded = self.encoder(input_features)\n",
    "        return self.output_layer(encoded)\n",
    "\n",
    "def loss(model, input_features, label):\n",
    "\n",
    "    loss = tf.reduce_mean(tf.keras.losses.categorical_crossentropy(label, model(input_features)))\n",
    "    return loss\n",
    "\n",
    "def train(loss, model, opt, input_features, label):\n",
    "    with tf.GradientTape() as tape:\n",
    "        gradients = tape.gradient(loss(model, input_features, label), model.trainable_variables)\n",
    "        gradient_variables = zip(gradients, model.trainable_variables)\n",
    "        opt.apply_gradients(gradient_variables)"
   ]
  },
  {
   "cell_type": "code",
   "execution_count": 98,
   "metadata": {},
   "outputs": [
    {
     "name": "stdout",
     "output_type": "stream",
     "text": [
      "1.9480753\n"
     ]
    }
   ],
   "source": [
    "np.random.seed(1)\n",
    "tf.random.set_seed(1)\n",
    "\n",
    "learning_rate = 1e-2\n",
    "batch_size = 128\n",
    "epochs = 50\n",
    "dim = 317\n",
    "\n",
    "autoencoder = fc(intermediate_dim=64, num_classes=2)\n",
    "opt = tf.optimizers.Adam(learning_rate=learning_rate)\n",
    "\n",
    "data = StandardScaler().fit_transform(X_df.values)\n",
    "training_features, test_features, train_label, test_label = train_test_split(data, label_data)\n",
    "training_features = training_features.astype('float32')\n",
    "\n",
    "training_dataset = tf.data.Dataset.from_tensor_slices((training_features, train_label))\n",
    "training_dataset = training_dataset.batch(batch_size)\n",
    "training_dataset = training_dataset.shuffle(training_features.shape[0])\n",
    "training_dataset = training_dataset.prefetch(batch_size * 4)\n",
    "\n",
    "writer = tf.summary.create_file_writer('tmp')\n",
    "\n",
    "with writer.as_default():\n",
    "    with tf.summary.record_if(True):\n",
    "        for epoch in range(epochs):\n",
    "            for step, (batch_features, batch_labels) in enumerate(training_dataset):\n",
    "                train(loss, autoencoder, opt, batch_features, batch_labels)\n",
    "                loss_values = loss(autoencoder, batch_features, batch_labels)\n",
    "            tf.summary.scalar('fcc-loss', loss_values, step=epoch)\n",
    "\n",
    "test_loss = loss(autoencoder, test_features.astype('float32'), test_label)                \n",
    "print(test_loss.numpy())          "
   ]
  },
  {
   "cell_type": "code",
   "execution_count": 108,
   "metadata": {},
   "outputs": [],
   "source": [
    "predict_proba = autoencoder(data.astype('float32')).numpy()\n",
    "overlap = 1.0*(np.min(predict_proba,1) >= 0.1)"
   ]
  },
  {
   "cell_type": "code",
   "execution_count": 115,
   "metadata": {},
   "outputs": [
    {
     "data": {
      "text/plain": [
       "0.9493330461833616"
      ]
     },
     "execution_count": 115,
     "metadata": {},
     "output_type": "execute_result"
    }
   ],
   "source": [
    "from sklearn.metrics import roc_auc_score\n",
    "roc_auc_score(label_data, predict_proba)"
   ]
  },
  {
   "cell_type": "code",
   "execution_count": 32,
   "metadata": {},
   "outputs": [],
   "source": [
    "embeddings = autoencoder.encoder(data.astype('float32')).numpy()"
   ]
  },
  {
   "cell_type": "code",
   "execution_count": 26,
   "metadata": {},
   "outputs": [],
   "source": [
    "from scipy.stats import wasserstein_distance"
   ]
  },
  {
   "cell_type": "code",
   "execution_count": 42,
   "metadata": {},
   "outputs": [],
   "source": [
    "idist = []\n",
    "for i in range(len(embeddings)):\n",
    "    jdist = []\n",
    "    for j in range(len(embeddings)):\n",
    "        d = wasserstein_distance(embeddings[i], embeddings[j])\n",
    "        jdist.append(d)\n",
    "    idist.append(jdist)"
   ]
  },
  {
   "cell_type": "code",
   "execution_count": 6,
   "metadata": {},
   "outputs": [],
   "source": [
    "# dist_arr = np.array(idist)\n",
    "dist_arr = np.load('fp_autoencoder_dist_arr.npy')\n",
    "treated_untreated = dist_arr[a[a==1].index][:, a[a==0].index]"
   ]
  },
  {
   "cell_type": "code",
   "execution_count": 15,
   "metadata": {},
   "outputs": [
    {
     "data": {
      "text/plain": [
       "(array([1018., 1576.,  802.,  435.,  239.,  106.,   44.,   14.,    4.,\n",
       "           3.]),\n",
       " array([0.09189656, 0.24790996, 0.40392337, 0.55993678, 0.71595018,\n",
       "        0.87196359, 1.027977  , 1.1839904 , 1.34000381, 1.49601722,\n",
       "        1.65203062]),\n",
       " <a list of 10 Patch objects>)"
      ]
     },
     "execution_count": 15,
     "metadata": {},
     "output_type": "execute_result"
    },
    {
     "data": {
      "image/png": "[encoded data removed]",
      "text/plain": [
       "<Figure size 432x288 with 1 Axes>"
      ]
     },
     "metadata": {},
     "output_type": "display_data"
    }
   ],
   "source": [
    "import matplotlib.pyplot as plt\n",
    "plt.hist(treated_untreated[20])"
   ]
  },
  {
   "cell_type": "code",
   "execution_count": 29,
   "metadata": {},
   "outputs": [
    {
     "data": {
      "text/plain": [
       "(array([159., 382., 309., 225., 173.,  89.,  32.,  25.,   9.,   5.]),\n",
       " array([0.12015467, 0.26589773, 0.41164079, 0.55738385, 0.7031269 ,\n",
       "        0.84886996, 0.99461302, 1.14035608, 1.28609914, 1.43184219,\n",
       "        1.57758525]),\n",
       " <a list of 10 Patch objects>)"
      ]
     },
     "execution_count": 29,
     "metadata": {},
     "output_type": "execute_result"
    },
    {
     "data": {
      "image/png": "[encoded data removed]",
      "text/plain": [
       "<Figure size 432x288 with 1 Axes>"
      ]
     },
     "metadata": {},
     "output_type": "display_data"
    }
   ],
   "source": [
    "plt.hist(treated_untreated[:, 20])"
   ]
  },
  {
   "cell_type": "code",
   "execution_count": 65,
   "metadata": {},
   "outputs": [],
   "source": [
    "np.save('fp_autoencoder_dist_arr', dist_arr)"
   ]
  },
  {
   "cell_type": "code",
   "execution_count": 32,
   "metadata": {},
   "outputs": [],
   "source": [
    "l_data = pd.read_stata('http://www.nber.org/~rdehejia/data/nsw.dta')"
   ]
  },
  {
   "cell_type": "code",
   "execution_count": 41,
   "metadata": {},
   "outputs": [
    {
     "name": "stdout",
     "output_type": "stream",
     "text": [
      "(445, 10)\n"
     ]
    },
    {
     "data": {
      "text/html": [
       "<div>\n",
       "<style scoped>\n",
       "    .dataframe tbody tr th:only-of-type {\n",
       "        vertical-align: middle;\n",
       "    }\n",
       "\n",
       "    .dataframe tbody tr th {\n",
       "        vertical-align: top;\n",
       "    }\n",
       "\n",
       "    .dataframe thead th {\n",
       "        text-align: right;\n",
       "    }\n",
       "</style>\n",
       "<table border=\"1\" class=\"dataframe\">\n",
       "  <thead>\n",
       "    <tr style=\"text-align: right;\">\n",
       "      <th></th>\n",
       "      <th>training</th>\n",
       "      <th>age</th>\n",
       "      <th>education</th>\n",
       "      <th>black</th>\n",
       "      <th>hispanic</th>\n",
       "      <th>married</th>\n",
       "      <th>no_degree</th>\n",
       "      <th>re74</th>\n",
       "      <th>re75</th>\n",
       "      <th>re78</th>\n",
       "    </tr>\n",
       "  </thead>\n",
       "  <tbody>\n",
       "    <tr>\n",
       "      <th>0</th>\n",
       "      <td>1.0</td>\n",
       "      <td>37.0</td>\n",
       "      <td>11.0</td>\n",
       "      <td>1.0</td>\n",
       "      <td>0.0</td>\n",
       "      <td>1.0</td>\n",
       "      <td>1.0</td>\n",
       "      <td>0.0</td>\n",
       "      <td>0.0</td>\n",
       "      <td>9930.0460</td>\n",
       "    </tr>\n",
       "    <tr>\n",
       "      <th>1</th>\n",
       "      <td>1.0</td>\n",
       "      <td>22.0</td>\n",
       "      <td>9.0</td>\n",
       "      <td>0.0</td>\n",
       "      <td>1.0</td>\n",
       "      <td>0.0</td>\n",
       "      <td>1.0</td>\n",
       "      <td>0.0</td>\n",
       "      <td>0.0</td>\n",
       "      <td>3595.8940</td>\n",
       "    </tr>\n",
       "    <tr>\n",
       "      <th>2</th>\n",
       "      <td>1.0</td>\n",
       "      <td>30.0</td>\n",
       "      <td>12.0</td>\n",
       "      <td>1.0</td>\n",
       "      <td>0.0</td>\n",
       "      <td>0.0</td>\n",
       "      <td>0.0</td>\n",
       "      <td>0.0</td>\n",
       "      <td>0.0</td>\n",
       "      <td>24909.4500</td>\n",
       "    </tr>\n",
       "    <tr>\n",
       "      <th>3</th>\n",
       "      <td>1.0</td>\n",
       "      <td>27.0</td>\n",
       "      <td>11.0</td>\n",
       "      <td>1.0</td>\n",
       "      <td>0.0</td>\n",
       "      <td>0.0</td>\n",
       "      <td>1.0</td>\n",
       "      <td>0.0</td>\n",
       "      <td>0.0</td>\n",
       "      <td>7506.1460</td>\n",
       "    </tr>\n",
       "    <tr>\n",
       "      <th>4</th>\n",
       "      <td>1.0</td>\n",
       "      <td>33.0</td>\n",
       "      <td>8.0</td>\n",
       "      <td>1.0</td>\n",
       "      <td>0.0</td>\n",
       "      <td>0.0</td>\n",
       "      <td>1.0</td>\n",
       "      <td>0.0</td>\n",
       "      <td>0.0</td>\n",
       "      <td>289.7899</td>\n",
       "    </tr>\n",
       "  </tbody>\n",
       "</table>\n",
       "</div>"
      ],
      "text/plain": [
       "   training   age  education  black  hispanic  married  no_degree  re74  re75  \\\n",
       "0       1.0  37.0       11.0    1.0       0.0      1.0        1.0   0.0   0.0   \n",
       "1       1.0  22.0        9.0    0.0       1.0      0.0        1.0   0.0   0.0   \n",
       "2       1.0  30.0       12.0    1.0       0.0      0.0        0.0   0.0   0.0   \n",
       "3       1.0  27.0       11.0    1.0       0.0      0.0        1.0   0.0   0.0   \n",
       "4       1.0  33.0        8.0    1.0       0.0      0.0        1.0   0.0   0.0   \n",
       "\n",
       "         re78  \n",
       "0   9930.0460  \n",
       "1   3595.8940  \n",
       "2  24909.4500  \n",
       "3   7506.1460  \n",
       "4    289.7899  "
      ]
     },
     "execution_count": 41,
     "metadata": {},
     "output_type": "execute_result"
    }
   ],
   "source": [
    "columns = [\"training\",   # Treatment assignment indicator\n",
    "           \"age\",        # Age of participant\n",
    "           \"education\",  # Years of education\n",
    "           \"black\",      # Indicate whether individual is black\n",
    "           \"hispanic\",   # Indicate whether individual is hispanic\n",
    "           \"married\",    # Indicate whether individual is married\n",
    "           \"no_degree\",  # Indicate if individual has no high-school diploma\n",
    "           \"re74\",       # Real earnings in 1974, prior to study participation\n",
    "           \"re75\",       # Real earnings in 1975, prior to study participation\n",
    "           \"re78\"]       # Real earnings in 1978, after study end\n",
    "\n",
    "treated = pd.read_csv(\"http://www.nber.org/~rdehejia/data/nswre74_treated.txt\", \n",
    "                      delim_whitespace=True, header=None, names=columns)\n",
    "control = pd.read_csv(\"http://www.nber.org/~rdehejia/data/nswre74_control.txt\",\n",
    "                      delim_whitespace=True, header=None, names=columns)\n",
    "lalonde = pd.concat([treated, control], ignore_index=True)\n",
    "# lalonde = lalonde.sample(frac=1.0, random_state=42)  # Shuffle\n",
    "\n",
    "print(lalonde.shape)\n",
    "lalonde.head()"
   ]
  },
  {
   "cell_type": "code",
   "execution_count": 44,
   "metadata": {},
   "outputs": [],
   "source": [
    "non_exp = pd.read_csv('http://users.nber.org/~rdehejia/data/cps3_controls.txt', \n",
    "                      delim_whitespace=True, header=None, names=columns)"
   ]
  },
  {
   "cell_type": "code",
   "execution_count": 50,
   "metadata": {},
   "outputs": [
    {
     "data": {
      "text/html": [
       "<div>\n",
       "<style scoped>\n",
       "    .dataframe tbody tr th:only-of-type {\n",
       "        vertical-align: middle;\n",
       "    }\n",
       "\n",
       "    .dataframe tbody tr th {\n",
       "        vertical-align: top;\n",
       "    }\n",
       "\n",
       "    .dataframe thead th {\n",
       "        text-align: right;\n",
       "    }\n",
       "</style>\n",
       "<table border=\"1\" class=\"dataframe\">\n",
       "  <thead>\n",
       "    <tr style=\"text-align: right;\">\n",
       "      <th></th>\n",
       "      <th>training</th>\n",
       "      <th>age</th>\n",
       "      <th>education</th>\n",
       "      <th>black</th>\n",
       "      <th>hispanic</th>\n",
       "      <th>married</th>\n",
       "      <th>no_degree</th>\n",
       "      <th>re74</th>\n",
       "      <th>re75</th>\n",
       "      <th>re78</th>\n",
       "    </tr>\n",
       "  </thead>\n",
       "  <tbody>\n",
       "    <tr>\n",
       "      <th>0</th>\n",
       "      <td>0.0</td>\n",
       "      <td>30.0</td>\n",
       "      <td>12.0</td>\n",
       "      <td>0.0</td>\n",
       "      <td>0.0</td>\n",
       "      <td>1.0</td>\n",
       "      <td>0.0</td>\n",
       "      <td>20166.73</td>\n",
       "      <td>18347.23</td>\n",
       "      <td>25564.67</td>\n",
       "    </tr>\n",
       "    <tr>\n",
       "      <th>1</th>\n",
       "      <td>0.0</td>\n",
       "      <td>26.0</td>\n",
       "      <td>12.0</td>\n",
       "      <td>0.0</td>\n",
       "      <td>0.0</td>\n",
       "      <td>1.0</td>\n",
       "      <td>0.0</td>\n",
       "      <td>25862.32</td>\n",
       "      <td>17806.55</td>\n",
       "      <td>25564.67</td>\n",
       "    </tr>\n",
       "    <tr>\n",
       "      <th>2</th>\n",
       "      <td>0.0</td>\n",
       "      <td>25.0</td>\n",
       "      <td>16.0</td>\n",
       "      <td>0.0</td>\n",
       "      <td>0.0</td>\n",
       "      <td>1.0</td>\n",
       "      <td>0.0</td>\n",
       "      <td>25862.32</td>\n",
       "      <td>15316.21</td>\n",
       "      <td>25564.67</td>\n",
       "    </tr>\n",
       "    <tr>\n",
       "      <th>3</th>\n",
       "      <td>0.0</td>\n",
       "      <td>42.0</td>\n",
       "      <td>11.0</td>\n",
       "      <td>0.0</td>\n",
       "      <td>0.0</td>\n",
       "      <td>1.0</td>\n",
       "      <td>1.0</td>\n",
       "      <td>21787.05</td>\n",
       "      <td>14265.29</td>\n",
       "      <td>15491.01</td>\n",
       "    </tr>\n",
       "    <tr>\n",
       "      <th>4</th>\n",
       "      <td>0.0</td>\n",
       "      <td>25.0</td>\n",
       "      <td>9.0</td>\n",
       "      <td>1.0</td>\n",
       "      <td>0.0</td>\n",
       "      <td>1.0</td>\n",
       "      <td>1.0</td>\n",
       "      <td>14829.69</td>\n",
       "      <td>13776.53</td>\n",
       "      <td>0.00</td>\n",
       "    </tr>\n",
       "  </tbody>\n",
       "</table>\n",
       "</div>"
      ],
      "text/plain": [
       "   training   age  education  black  hispanic  married  no_degree      re74  \\\n",
       "0       0.0  30.0       12.0    0.0       0.0      1.0        0.0  20166.73   \n",
       "1       0.0  26.0       12.0    0.0       0.0      1.0        0.0  25862.32   \n",
       "2       0.0  25.0       16.0    0.0       0.0      1.0        0.0  25862.32   \n",
       "3       0.0  42.0       11.0    0.0       0.0      1.0        1.0  21787.05   \n",
       "4       0.0  25.0        9.0    1.0       0.0      1.0        1.0  14829.69   \n",
       "\n",
       "       re75      re78  \n",
       "0  18347.23  25564.67  \n",
       "1  17806.55  25564.67  \n",
       "2  15316.21  25564.67  \n",
       "3  14265.29  15491.01  \n",
       "4  13776.53      0.00  "
      ]
     },
     "execution_count": 50,
     "metadata": {},
     "output_type": "execute_result"
    }
   ],
   "source": [
    "non_exp.head()"
   ]
  }
 ],
 "metadata": {
  "kernelspec": {
   "display_name": "Python 3",
   "language": "python",
   "name": "python3"
  },
  "language_info": {
   "codemirror_mode": {
    "name": "ipython",
    "version": 3
   },
   "file_extension": ".py",
   "mimetype": "text/x-python",
   "name": "python",
   "nbconvert_exporter": "python",
   "pygments_lexer": "ipython3",
   "version": "3.7.7"
  }
 },
 "nbformat": 4,
 "nbformat_minor": 4
}
