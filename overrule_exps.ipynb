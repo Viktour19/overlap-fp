{
 "cells": [
  {
   "cell_type": "code",
   "execution_count": 160,
   "metadata": {},
   "outputs": [
    {
     "name": "stdout",
     "output_type": "stream",
     "text": [
      "The autoreload extension is already loaded. To reload it, use:\n",
      "  %reload_ext autoreload\n"
     ]
    }
   ],
   "source": [
    "from comp_overrule import learn_srules, learn_s_orules, get_overlap_violations\n",
    "from comp_overrule_knn import learn_orules as learn_knnrules\n",
    "from comp_overrule_clr import learn_orules as learn_clrrules\n",
    "\n",
    "from comp_overrule import plt_cl_lit, plt_sem, get_sem_optim\n",
    "from utils import rule_str, rules_stats, transcribe, recent_model, read_model\n",
    "from comp_preprocessing import get_data, get_lbl\n",
    "\n",
    "from comp_causalmodel import causal_eval, model, bootstrap_effects, placebo_effects\n",
    "\n",
    "import numpy as np\n",
    "from matplotlib_venn import venn2, venn3\n",
    "import matplotlib.pyplot as plt\n",
    "import time\n",
    "\n",
    "%load_ext autoreload\n",
    "%autoreload 2\n",
    "\n",
    "folder = '/home/victora/PositivityViolation/'"
   ]
  },
  {
   "cell_type": "code",
   "execution_count": 173,
   "metadata": {},
   "outputs": [
    {
     "data": {
      "text/plain": [
       "array([1.00000000e-07, 5.84341413e-07, 3.41454887e-06, 1.99526231e-05,\n",
       "       1.16591440e-04, 6.81292069e-04, 3.98107171e-03, 2.32630507e-02,\n",
       "       1.35935639e-01, 7.94328235e-01])"
      ]
     },
     "execution_count": 173,
     "metadata": {},
     "output_type": "execute_result"
    }
   ],
   "source": [
    "np.logspace(-7, -0.1, 10)"
   ]
  },
  {
   "cell_type": "code",
   "execution_count": 174,
   "metadata": {},
   "outputs": [
    {
     "data": {
      "text/plain": [
       "0.794328235"
      ]
     },
     "execution_count": 174,
     "metadata": {},
     "output_type": "execute_result"
    }
   ],
   "source": [
    "7.94328235e-01"
   ]
  },
  {
   "cell_type": "markdown",
   "metadata": {},
   "source": [
    "### Learn support rules"
   ]
  },
  {
   "cell_type": "code",
   "execution_count": 168,
   "metadata": {},
   "outputs": [],
   "source": [
    "DATA_PATH = folder + 'data/ET_2016_Preprocessed_newT.csv'"
   ]
  },
  {
   "cell_type": "code",
   "execution_count": 145,
   "metadata": {},
   "outputs": [],
   "source": [
    "modelpath = folder + recent_model('clrmodel')\n",
    "M, RS_s, RS_o, auc, score_base = learn_s_orules(modelpath, 0.0006812920690579615, 0.0006812920690579615,\\\n",
    "                                                0.0006812920690579615, 0.0006812920690579615, data_path=DATA_PATH, encode=False)"
   ]
  },
  {
   "cell_type": "code",
   "execution_count": 152,
   "metadata": {},
   "outputs": [
    {
     "name": "stdout",
     "output_type": "stream",
     "text": [
      "0.9110526315789473\n"
     ]
    }
   ],
   "source": [
    "overlap_index_clr, violating_index_clr = get_overlap_violations(RS_s, RS_o, data_path=DATA_PATH, encode=False)\n",
    "X_df, _, _ = get_data(data_path=DATA_PATH, encode=False)\n",
    "print(len(overlap_index_clr)/len(X_df))"
   ]
  },
  {
   "cell_type": "code",
   "execution_count": 170,
   "metadata": {},
   "outputs": [
    {
     "data": {
      "text/plain": [
       "2726"
      ]
     },
     "execution_count": 170,
     "metadata": {},
     "output_type": "execute_result"
    }
   ],
   "source": [
    "df = pd.read_csv(DATA_PATH)\n",
    "len(df)"
   ]
  },
  {
   "cell_type": "code",
   "execution_count": 166,
   "metadata": {},
   "outputs": [
    {
     "name": "stdout",
     "output_type": "stream",
     "text": [
      "v101 Region\n",
      "v102 Type of place of residence\n",
      "v106 Highest educational level\n",
      "v133 Education in single years\n",
      "v136 Number of household members (listed)\n",
      "v137 Number of children 5 and under in household (de jure)\n",
      "v151 Sex of household head\n",
      "v155 Literacy\n",
      "v157 Frequency of reading newspaper or magazine\n",
      "v158 Frequency of listening to radio\n",
      "v159 Frequency of watching television\n",
      "v190 Wealth index combined\n",
      "v201 Total children ever born\n",
      "v208 Births in last five years\n",
      "v209 Births in past year\n",
      "v215 Time since last menstrual period\n",
      "v217 Knowledge of ovulatory cycle\n",
      "v228 Ever had a terminated pregnancy\n",
      "v301 Knowledge of any method\n",
      "v313 Current use by method type\n",
      "v361 Pattern of use\n",
      "v393 Visited by fieldworker in last 12 months\n",
      "v394 Visited health facility last 12 months\n",
      "v501 Current marital status\n",
      "v502 Currently/formerly/never in union\n",
      "v513 Cohabitation duration (grouped)\n",
      "v525 Age at first sex\n",
      "v536 Recent sexual activity\n",
      "v605 Desire for more children\n",
      "v613 Ideal number of children\n",
      "v623 Exposure\n",
      "v624 Unmet need\n",
      "v012 Respondent's current age\n",
      "v384a Heard family planning on radio last few months\n",
      "v384b Heard family planning on TV last few months\n",
      "v384c Heard family planning on newspaper/magazine last few months\n",
      "outcome None\n",
      "treatment None\n"
     ]
    }
   ],
   "source": [
    "import pandas as pd\n",
    "df = pd.read_csv(DATA_PATH)\n",
    "for col in df.columns:\n",
    "    print(col, get_lbl(col))"
   ]
  },
  {
   "cell_type": "code",
   "execution_count": null,
   "metadata": {},
   "outputs": [
    {
     "name": "stderr",
     "output_type": "stream",
     "text": [
      "  0%|          | 0/10 [00:00<?, ?it/s]\n",
      "  0%|          | 0/10 [00:00<?, ?it/s]\u001b[A\n",
      " 10%|█         | 1/10 [09:21<1:24:12, 561.42s/it]\u001b[A\n",
      " 20%|██        | 2/10 [18:43<1:14:52, 561.57s/it]\u001b[A\n",
      " 30%|███       | 3/10 [27:48<1:04:56, 556.62s/it]\u001b[A\n",
      " 40%|████      | 4/10 [36:26<54:30, 545.09s/it]  \u001b[A\n",
      " 50%|█████     | 5/10 [43:09<41:51, 502.33s/it]\u001b[A\n",
      " 60%|██████    | 6/10 [46:53<27:55, 418.86s/it]\u001b[A\n",
      " 70%|███████   | 7/10 [48:33<16:09, 323.30s/it]\u001b[A\n",
      " 80%|████████  | 8/10 [48:58<07:47, 233.77s/it]\u001b[A\n",
      " 90%|█████████ | 9/10 [49:06<02:46, 166.04s/it]\u001b[A\n",
      "100%|██████████| 10/10 [49:07<00:00, 294.80s/it]\u001b[A\n",
      " 10%|█         | 1/10 [49:07<7:22:11, 2947.96s/it]\n",
      "  0%|          | 0/10 [00:00<?, ?it/s]\u001b[A\n",
      " 10%|█         | 1/10 [09:18<1:23:44, 558.30s/it]\u001b[A\n",
      " 20%|██        | 2/10 [18:22<1:13:53, 554.18s/it]\u001b[A\n",
      " 30%|███       | 3/10 [27:25<1:04:15, 550.84s/it]\u001b[A\n",
      " 40%|████      | 4/10 [36:31<54:55, 549.22s/it]  \u001b[A\n",
      " 50%|█████     | 5/10 [43:14<42:06, 505.34s/it]\u001b[A\n",
      " 60%|██████    | 6/10 [47:01<28:07, 421.79s/it]\u001b[A\n",
      " 70%|███████   | 7/10 [48:42<16:16, 325.57s/it]\u001b[A\n",
      " 80%|████████  | 8/10 [49:07<07:50, 235.38s/it]\u001b[A\n",
      " 90%|█████████ | 9/10 [49:15<02:47, 167.15s/it]\u001b[A\n",
      "100%|██████████| 10/10 [49:16<00:00, 295.66s/it]\u001b[A\n",
      " 20%|██        | 2/10 [1:38:24<6:33:24, 2950.54s/it]\n",
      "  0%|          | 0/10 [00:00<?, ?it/s]\u001b[A\n",
      " 10%|█         | 1/10 [08:50<1:19:30, 530.01s/it]\u001b[A\n",
      " 20%|██        | 2/10 [17:40<1:10:41, 530.24s/it]\u001b[A\n",
      " 30%|███       | 3/10 [26:47<1:02:26, 535.28s/it]\u001b[A\n",
      " 40%|████      | 4/10 [35:10<52:33, 525.51s/it]  \u001b[A\n",
      " 50%|█████     | 5/10 [41:39<40:22, 484.59s/it]\u001b[A\n",
      " 60%|██████    | 6/10 [45:24<27:07, 406.81s/it]\u001b[A\n",
      " 70%|███████   | 7/10 [47:04<15:43, 314.63s/it]\u001b[A\n",
      " 80%|████████  | 8/10 [47:30<07:35, 227.94s/it]\u001b[A\n",
      " 90%|█████████ | 9/10 [47:37<02:41, 161.89s/it]\u001b[A\n",
      "100%|██████████| 10/10 [47:39<00:00, 285.94s/it]\u001b[A\n",
      " 30%|███       | 3/10 [2:26:03<5:41:02, 2923.21s/it]\n",
      "  0%|          | 0/10 [00:00<?, ?it/s]\u001b[A\n",
      " 10%|█         | 1/10 [08:35<1:17:22, 515.81s/it]\u001b[A\n",
      " 20%|██        | 2/10 [17:10<1:08:43, 515.49s/it]\u001b[A\n",
      " 30%|███       | 3/10 [25:45<1:00:07, 515.34s/it]\u001b[A\n",
      " 40%|████      | 4/10 [34:37<52:02, 520.35s/it]  \u001b[A\n",
      " 50%|█████     | 5/10 [41:04<40:02, 480.41s/it]\u001b[A\n",
      " 60%|██████    | 6/10 [44:26<26:27, 396.76s/it]\u001b[A\n",
      " 70%|███████   | 7/10 [46:07<15:24, 308.20s/it]\u001b[A\n",
      " 80%|████████  | 8/10 [46:33<07:26, 223.43s/it]\u001b[A\n",
      " 90%|█████████ | 9/10 [46:41<02:38, 158.72s/it]\u001b[A\n",
      "100%|██████████| 10/10 [46:42<00:00, 280.28s/it]\u001b[A\n",
      " 40%|████      | 4/10 [3:12:46<4:48:42, 2887.08s/it]\n",
      "  0%|          | 0/10 [00:00<?, ?it/s]\u001b[A\n",
      " 10%|█         | 1/10 [08:43<1:18:32, 523.65s/it]\u001b[A\n",
      " 20%|██        | 2/10 [16:58<1:08:40, 515.04s/it]\u001b[A\n",
      " 30%|███       | 3/10 [24:45<58:24, 500.62s/it]  \u001b[A\n",
      " 40%|████      | 4/10 [32:08<48:20, 483.39s/it]\u001b[A\n",
      " 50%|█████     | 5/10 [37:23<36:03, 432.75s/it]\u001b[A\n",
      " 60%|██████    | 6/10 [41:44<25:25, 381.36s/it]\u001b[A\n",
      " 70%|███████   | 7/10 [43:25<14:51, 297.04s/it]\u001b[A\n",
      " 80%|████████  | 8/10 [43:50<07:11, 215.62s/it]\u001b[A\n",
      " 90%|█████████ | 9/10 [43:58<02:33, 153.34s/it]\u001b[A\n",
      "100%|██████████| 10/10 [44:00<00:00, 264.03s/it]\u001b[A\n",
      " 50%|█████     | 5/10 [3:56:46<3:54:25, 2813.03s/it]\n",
      "  0%|          | 0/10 [00:00<?, ?it/s]\u001b[A\n",
      " 10%|█         | 1/10 [05:46<52:00, 346.74s/it]\u001b[A\n",
      " 20%|██        | 2/10 [11:49<46:52, 351.62s/it]\u001b[A\n",
      " 30%|███       | 3/10 [18:01<41:43, 357.71s/it]\u001b[A\n",
      " 40%|████      | 4/10 [23:26<34:47, 347.89s/it]\u001b[A"
     ]
    }
   ],
   "source": [
    "results = learn_srules(logspace=10, data_path=DATA_PATH)"
   ]
  },
  {
   "cell_type": "code",
   "execution_count": 176,
   "metadata": {},
   "outputs": [
    {
     "data": {
      "text/plain": [
       "(<Figure size 288x288 with 1 Axes>,\n",
       " <matplotlib.axes._subplots.AxesSubplot at 0x7f4cdfcad3c8>)"
      ]
     },
     "execution_count": 176,
     "metadata": {},
     "output_type": "execute_result"
    },
    {
     "data": {
      "image/png": "[encoded data removed]",
      "text/plain": [
       "<Figure size 288x288 with 1 Axes>"
      ]
     },
     "metadata": {},
     "output_type": "display_data"
    },
    {
     "data": {
      "image/png": "[encoded data removed]",
      "text/plain": [
       "<Figure size 288x288 with 1 Axes>"
      ]
     },
     "metadata": {},
     "output_type": "display_data"
    }
   ],
   "source": [
    "plt_cl_lit(results)\n",
    "plt_sem(results)"
   ]
  },
  {
   "cell_type": "code",
   "execution_count": 9,
   "metadata": {},
   "outputs": [],
   "source": [
    "optim = get_sem_optim(results, rtype='support')"
   ]
  },
  {
   "cell_type": "markdown",
   "metadata": {},
   "source": [
    "### Learn overlap rules"
   ]
  },
  {
   "cell_type": "code",
   "execution_count": 10,
   "metadata": {},
   "outputs": [
    {
     "name": "stderr",
     "output_type": "stream",
     "text": [
      "  0%|          | 0/10 [00:00<?, ?it/s]\n",
      "  0%|          | 0/10 [00:00<?, ?it/s]\u001b[A\n",
      " 10%|█         | 1/10 [04:51<43:45, 291.77s/it]\u001b[A\n",
      " 20%|██        | 2/10 [08:04<34:55, 261.99s/it]\u001b[A\n",
      " 30%|███       | 3/10 [11:17<28:09, 241.33s/it]\u001b[A\n",
      " 40%|████      | 4/10 [14:27<22:35, 225.88s/it]\u001b[A\n",
      " 50%|█████     | 5/10 [17:26<17:40, 212.03s/it]\u001b[A\n",
      " 60%|██████    | 6/10 [20:01<12:59, 194.93s/it]\u001b[A\n",
      " 70%|███████   | 7/10 [21:13<07:54, 158.02s/it]\u001b[A\n",
      " 80%|████████  | 8/10 [21:31<03:51, 115.86s/it]\u001b[A\n",
      " 90%|█████████ | 9/10 [21:36<01:22, 82.75s/it] \u001b[A\n",
      "100%|██████████| 10/10 [21:39<00:00, 129.90s/it][A\n",
      " 10%|█         | 1/10 [21:39<3:14:51, 1299.01s/it]\n",
      "  0%|          | 0/10 [00:00<?, ?it/s]\u001b[A\n",
      " 10%|█         | 1/10 [03:10<28:30, 190.03s/it]\u001b[A\n",
      " 20%|██        | 2/10 [06:20<25:21, 190.15s/it]\u001b[A\n",
      " 30%|███       | 3/10 [09:32<22:14, 190.70s/it]\u001b[A\n",
      " 40%|████      | 4/10 [12:43<19:05, 190.94s/it]\u001b[A\n",
      " 50%|█████     | 5/10 [15:46<15:41, 188.33s/it]\u001b[A\n",
      " 60%|██████    | 6/10 [18:22<11:54, 178.59s/it]\u001b[A\n",
      " 70%|███████   | 7/10 [19:34<07:20, 146.90s/it]\u001b[A\n",
      " 80%|████████  | 8/10 [19:52<03:36, 108.14s/it]\u001b[A\n",
      " 90%|█████████ | 9/10 [19:58<01:17, 77.32s/it] \u001b[A\n",
      "100%|██████████| 10/10 [20:00<00:00, 120.04s/it][A\n",
      " 20%|██        | 2/10 [41:39<2:49:15, 1269.43s/it]\n",
      "  0%|          | 0/10 [00:00<?, ?it/s]\u001b[A\n",
      " 10%|█         | 1/10 [03:10<28:37, 190.88s/it]\u001b[A\n",
      " 20%|██        | 2/10 [06:23<25:31, 191.46s/it]\u001b[A\n",
      " 30%|███       | 3/10 [09:35<22:21, 191.62s/it]\u001b[A\n",
      " 40%|████      | 4/10 [12:46<19:08, 191.47s/it]\u001b[A\n",
      " 50%|█████     | 5/10 [15:40<15:30, 186.01s/it]\u001b[A\n",
      " 60%|██████    | 6/10 [18:24<11:58, 179.60s/it]\u001b[A\n",
      " 70%|███████   | 7/10 [19:28<07:14, 144.81s/it]\u001b[A\n",
      " 80%|████████  | 8/10 [19:45<03:33, 106.55s/it]\u001b[A\n",
      " 90%|█████████ | 9/10 [19:50<01:16, 76.15s/it] \u001b[A\n",
      "100%|██████████| 10/10 [19:53<00:00, 119.31s/it][A\n",
      " 30%|███       | 3/10 [1:01:32<2:25:25, 1246.54s/it]\n",
      "  0%|          | 0/10 [00:00<?, ?it/s]\u001b[A\n",
      " 10%|█         | 1/10 [03:18<29:43, 198.20s/it]\u001b[A\n",
      " 20%|██        | 2/10 [06:37<26:29, 198.67s/it]\u001b[A\n",
      " 30%|███       | 3/10 [09:50<22:57, 196.75s/it]\u001b[A\n",
      " 40%|████      | 4/10 [13:00<19:29, 194.85s/it]\u001b[A\n",
      " 50%|█████     | 5/10 [16:06<16:00, 192.11s/it]\u001b[A\n",
      " 60%|██████    | 6/10 [18:30<11:51, 177.85s/it]\u001b[A\n",
      " 70%|███████   | 7/10 [19:42<07:18, 146.03s/it]\u001b[A\n",
      " 80%|████████  | 8/10 [20:00<03:34, 107.41s/it]\u001b[A\n",
      " 90%|█████████ | 9/10 [20:05<01:16, 76.76s/it] \u001b[A\n",
      "100%|██████████| 10/10 [20:07<00:00, 120.74s/it][A\n",
      " 40%|████      | 4/10 [1:21:39<2:03:28, 1234.80s/it]\n",
      "  0%|          | 0/10 [00:00<?, ?it/s]\u001b[A\n",
      " 10%|█         | 1/10 [03:18<29:50, 198.97s/it]\u001b[A\n",
      " 20%|██        | 2/10 [06:31<26:17, 197.15s/it]\u001b[A\n",
      " 30%|███       | 3/10 [09:43<22:48, 195.52s/it]\u001b[A\n",
      " 40%|████      | 4/10 [13:00<19:34, 195.80s/it]\u001b[A\n",
      " 50%|█████     | 5/10 [15:50<15:41, 188.27s/it]\u001b[A\n",
      " 60%|██████    | 6/10 [18:16<11:42, 175.59s/it]\u001b[A\n",
      " 70%|███████   | 7/10 [19:28<07:13, 144.44s/it]\u001b[A\n",
      " 80%|████████  | 8/10 [19:45<03:32, 106.26s/it]\u001b[A\n",
      " 90%|█████████ | 9/10 [19:50<01:15, 75.95s/it] \u001b[A\n",
      "100%|██████████| 10/10 [19:53<00:00, 119.31s/it][A\n",
      " 50%|█████     | 5/10 [1:41:33<1:41:51, 1222.31s/it]\n",
      "  0%|          | 0/10 [00:00<?, ?it/s]\u001b[A\n",
      " 10%|█         | 1/10 [02:44<24:40, 164.48s/it]\u001b[A\n",
      " 20%|██        | 2/10 [05:28<21:55, 164.40s/it]\u001b[A\n",
      " 30%|███       | 3/10 [08:29<19:44, 169.28s/it]\u001b[A\n",
      " 40%|████      | 4/10 [11:37<17:28, 174.79s/it]\u001b[A\n",
      " 50%|█████     | 5/10 [14:24<14:23, 172.61s/it]\u001b[A\n",
      " 60%|██████    | 6/10 [17:01<11:11, 167.87s/it]\u001b[A\n",
      " 70%|███████   | 7/10 [18:13<06:57, 139.04s/it]\u001b[A\n",
      " 80%|████████  | 8/10 [18:30<03:24, 102.50s/it]\u001b[A\n",
      " 90%|█████████ | 9/10 [18:35<01:13, 73.31s/it] \u001b[A\n",
      "100%|██████████| 10/10 [18:37<00:00, 111.77s/it][A\n",
      " 60%|██████    | 6/10 [2:00:10<1:19:23, 1190.93s/it]\n",
      "  0%|          | 0/10 [00:00<?, ?it/s]\u001b[A\n",
      " 10%|█         | 1/10 [02:27<22:05, 147.25s/it]\u001b[A\n",
      " 20%|██        | 2/10 [04:53<19:34, 146.85s/it]\u001b[A\n",
      " 30%|███       | 3/10 [07:17<17:02, 146.07s/it]\u001b[A\n",
      " 40%|████      | 4/10 [09:42<14:33, 145.66s/it]\u001b[A\n",
      " 50%|█████     | 5/10 [12:15<12:20, 148.03s/it]\u001b[A\n",
      " 60%|██████    | 6/10 [14:04<09:05, 136.25s/it]\u001b[A\n",
      " 70%|███████   | 7/10 [15:06<05:42, 114.03s/it]\u001b[A\n",
      " 80%|████████  | 8/10 [15:23<02:49, 84.98s/it] \u001b[A\n",
      " 90%|█████████ | 9/10 [15:29<01:01, 61.08s/it]\u001b[A\n",
      "100%|██████████| 10/10 [15:31<00:00, 93.15s/it]\u001b[A\n",
      " 70%|███████   | 7/10 [2:15:42<55:39, 1113.10s/it]  \n",
      "  0%|          | 0/10 [00:00<?, ?it/s]\u001b[A\n",
      " 10%|█         | 1/10 [01:20<12:02, 80.25s/it]\u001b[A\n",
      " 20%|██        | 2/10 [02:40<10:42, 80.28s/it]\u001b[A\n",
      " 30%|███       | 3/10 [04:00<09:21, 80.22s/it]\u001b[A\n",
      " 40%|████      | 4/10 [05:20<07:59, 79.96s/it]\u001b[A\n",
      " 50%|█████     | 5/10 [06:39<06:39, 79.88s/it]\u001b[A\n",
      " 60%|██████    | 6/10 [07:35<04:50, 72.52s/it]\u001b[A\n",
      " 70%|███████   | 7/10 [07:56<02:51, 57.09s/it]\u001b[A\n",
      " 80%|████████  | 8/10 [08:08<01:27, 43.51s/it]\u001b[A\n",
      " 90%|█████████ | 9/10 [08:13<00:32, 32.01s/it]\u001b[A\n",
      "100%|██████████| 10/10 [08:15<00:00, 49.53s/it]\u001b[A\n",
      " 80%|████████  | 8/10 [2:23:57<30:55, 927.78s/it] \n",
      "  0%|          | 0/10 [00:00<?, ?it/s]\u001b[A\n",
      " 10%|█         | 1/10 [00:12<01:55, 12.88s/it]\u001b[A\n",
      " 20%|██        | 2/10 [00:25<01:43, 12.88s/it]\u001b[A\n",
      " 30%|███       | 3/10 [00:38<01:30, 12.87s/it]\u001b[A\n",
      " 40%|████      | 4/10 [00:51<01:17, 12.91s/it]\u001b[A\n",
      " 50%|█████     | 5/10 [01:04<01:05, 13.05s/it]\u001b[A\n",
      " 60%|██████    | 6/10 [01:17<00:52, 13.02s/it]\u001b[A\n",
      " 70%|███████   | 7/10 [01:30<00:38, 12.83s/it]\u001b[A\n",
      " 80%|████████  | 8/10 [01:45<00:27, 13.58s/it]\u001b[A\n",
      " 90%|█████████ | 9/10 [01:50<00:10, 10.90s/it]\u001b[A\n",
      "100%|██████████| 10/10 [01:52<00:00, 11.24s/it]\u001b[A\n",
      " 90%|█████████ | 9/10 [2:25:50<11:23, 683.18s/it]\n",
      "  0%|          | 0/10 [00:00<?, ?it/s]\u001b[A\n",
      " 10%|█         | 1/10 [00:03<00:28,  3.14s/it]\u001b[A\n",
      " 20%|██        | 2/10 [00:06<00:25,  3.14s/it]\u001b[A\n",
      " 30%|███       | 3/10 [00:09<00:22,  3.15s/it]\u001b[A\n",
      " 40%|████      | 4/10 [00:12<00:18,  3.16s/it]\u001b[A\n",
      " 50%|█████     | 5/10 [00:15<00:15,  3.16s/it]\u001b[A\n",
      " 60%|██████    | 6/10 [00:18<00:12,  3.15s/it]\u001b[A\n",
      " 70%|███████   | 7/10 [00:22<00:09,  3.16s/it]\u001b[A\n",
      " 80%|████████  | 8/10 [00:24<00:06,  3.04s/it]\u001b[A\n",
      " 90%|█████████ | 9/10 [00:27<00:02,  2.84s/it]\u001b[A\n",
      "100%|██████████| 10/10 [00:29<00:00,  2.97s/it]\u001b[A\n",
      "100%|██████████| 10/10 [2:26:19<00:00, 877.99s/it]\n"
     ]
    }
   ],
   "source": [
    "clr_results = learn_clrrules(LAMBDA0_s=optim[4], LAMBDA1_s=optim[5], logspace=10, data_path=DATA_PATH)"
   ]
  },
  {
   "cell_type": "code",
   "execution_count": 11,
   "metadata": {},
   "outputs": [
    {
     "data": {
      "text/plain": [
       "(<Figure size 288x288 with 1 Axes>,\n",
       " <matplotlib.axes._subplots.AxesSubplot at 0x7f4ce4a73be0>)"
      ]
     },
     "execution_count": 11,
     "metadata": {},
     "output_type": "execute_result"
    },
    {
     "data": {
      "image/png": "[encoded data removed]",
      "text/plain": [
       "<Figure size 288x288 with 1 Axes>"
      ]
     },
     "metadata": {},
     "output_type": "display_data"
    },
    {
     "data": {
      "image/png": "[encoded data removed]",
      "text/plain": [
       "<Figure size 288x288 with 1 Axes>"
      ]
     },
     "metadata": {},
     "output_type": "display_data"
    }
   ],
   "source": [
    "plt_cl_lit(clr_results, rtype='overlap')\n",
    "plt_sem(clr_results, rtype='overlap')"
   ]
  },
  {
   "cell_type": "code",
   "execution_count": 67,
   "metadata": {},
   "outputs": [],
   "source": [
    "optim_clr = get_sem_optim(clr_results, rtype='overlap')"
   ]
  },
  {
   "cell_type": "code",
   "execution_count": 13,
   "metadata": {},
   "outputs": [
    {
     "name": "stderr",
     "output_type": "stream",
     "text": [
      "  0%|          | 0/10 [00:00<?, ?it/s]\n",
      "  0%|          | 0/10 [00:00<?, ?it/s]\u001b[A\n",
      " 10%|█         | 1/10 [01:59<17:53, 119.24s/it]\u001b[A\n",
      " 20%|██        | 2/10 [02:21<11:59, 90.00s/it] \u001b[A\n",
      " 30%|███       | 3/10 [02:49<08:20, 71.46s/it]\u001b[A\n",
      " 40%|████      | 4/10 [03:18<05:52, 58.76s/it]\u001b[A\n",
      " 50%|█████     | 5/10 [03:46<04:08, 49.65s/it]\u001b[A\n",
      " 60%|██████    | 6/10 [04:13<02:50, 42.69s/it]\u001b[A\n",
      " 70%|███████   | 7/10 [04:39<01:53, 37.75s/it]\u001b[A\n",
      " 80%|████████  | 8/10 [04:59<01:05, 32.56s/it]\u001b[A\n",
      " 90%|█████████ | 9/10 [05:09<00:25, 25.75s/it]\u001b[A\n",
      "100%|██████████| 10/10 [05:18<00:00, 31.83s/it]\u001b[A\n",
      " 10%|█         | 1/10 [05:18<47:44, 318.31s/it]\n",
      "  0%|          | 0/10 [00:00<?, ?it/s]\u001b[A\n",
      " 10%|█         | 1/10 [00:19<02:59, 19.97s/it]\u001b[A\n",
      " 20%|██        | 2/10 [00:43<02:49, 21.18s/it]\u001b[A\n",
      " 30%|███       | 3/10 [01:12<02:43, 23.38s/it]\u001b[A\n",
      " 40%|████      | 4/10 [01:41<02:30, 25.10s/it]\u001b[A\n",
      " 50%|█████     | 5/10 [02:09<02:09, 25.87s/it]\u001b[A\n",
      " 60%|██████    | 6/10 [02:35<01:44, 26.10s/it]\u001b[A\n",
      " 70%|███████   | 7/10 [03:02<01:18, 26.31s/it]\u001b[A\n",
      " 80%|████████  | 8/10 [03:23<00:49, 24.59s/it]\u001b[A\n",
      " 90%|█████████ | 9/10 [03:33<00:20, 20.16s/it]\u001b[A\n",
      "100%|██████████| 10/10 [03:41<00:00, 22.17s/it]\u001b[A\n",
      " 20%|██        | 2/10 [08:59<38:34, 289.32s/it]\n",
      "  0%|          | 0/10 [00:00<?, ?it/s]\u001b[A\n",
      " 10%|█         | 1/10 [00:36<05:25, 36.16s/it]\u001b[A\n",
      " 20%|██        | 2/10 [01:14<04:53, 36.67s/it]\u001b[A\n",
      " 30%|███       | 3/10 [01:44<04:04, 34.86s/it]\u001b[A\n",
      " 40%|████      | 4/10 [02:13<03:19, 33.19s/it]\u001b[A\n",
      " 50%|█████     | 5/10 [02:41<02:36, 31.35s/it]\u001b[A\n",
      " 60%|██████    | 6/10 [03:11<02:04, 31.12s/it]\u001b[A\n",
      " 70%|███████   | 7/10 [03:37<01:29, 29.68s/it]\u001b[A\n",
      " 80%|████████  | 8/10 [03:58<00:53, 26.96s/it]\u001b[A\n",
      " 90%|█████████ | 9/10 [04:08<00:21, 21.86s/it]\u001b[A\n",
      "100%|██████████| 10/10 [04:17<00:00, 25.72s/it]\u001b[A\n",
      " 30%|███       | 3/10 [13:17<32:37, 279.69s/it]\n",
      "  0%|          | 0/10 [00:00<?, ?it/s]\u001b[A\n",
      " 10%|█         | 1/10 [00:39<05:58, 39.84s/it]\u001b[A\n",
      " 20%|██        | 2/10 [01:19<05:19, 39.91s/it]\u001b[A\n",
      " 30%|███       | 3/10 [01:58<04:36, 39.46s/it]\u001b[A\n",
      " 40%|████      | 4/10 [02:29<03:41, 36.86s/it]\u001b[A\n",
      " 50%|█████     | 5/10 [02:56<02:49, 33.99s/it]\u001b[A\n",
      " 60%|██████    | 6/10 [03:22<02:07, 31.77s/it]\u001b[A\n",
      " 70%|███████   | 7/10 [03:49<01:30, 30.15s/it]\u001b[A\n",
      " 80%|████████  | 8/10 [04:09<00:54, 27.24s/it]\u001b[A\n",
      " 90%|█████████ | 9/10 [04:19<00:22, 22.01s/it]\u001b[A\n",
      "100%|██████████| 10/10 [04:28<00:00, 26.82s/it]\u001b[A\n",
      " 40%|████      | 4/10 [17:45<27:37, 276.24s/it]\n",
      "  0%|          | 0/10 [00:00<?, ?it/s]\u001b[A\n",
      " 10%|█         | 1/10 [00:31<04:39, 31.09s/it]\u001b[A\n",
      " 20%|██        | 2/10 [01:01<04:07, 30.91s/it]\u001b[A\n",
      " 30%|███       | 3/10 [01:31<03:34, 30.58s/it]\u001b[A\n",
      " 40%|████      | 4/10 [01:54<02:49, 28.26s/it]\u001b[A\n",
      " 50%|█████     | 5/10 [02:15<02:11, 26.27s/it]\u001b[A\n",
      " 60%|██████    | 6/10 [02:43<01:46, 26.53s/it]\u001b[A\n",
      " 70%|███████   | 7/10 [03:09<01:19, 26.58s/it]\u001b[A\n",
      " 80%|████████  | 8/10 [03:30<00:49, 24.74s/it]\u001b[A\n",
      " 90%|█████████ | 9/10 [03:40<00:20, 20.29s/it]\u001b[A\n",
      "100%|██████████| 10/10 [03:48<00:00, 22.86s/it]\u001b[A\n",
      " 50%|█████     | 5/10 [21:34<21:49, 261.96s/it]\n",
      "  0%|          | 0/10 [00:00<?, ?it/s]\u001b[A\n",
      " 10%|█         | 1/10 [00:26<04:00, 26.73s/it]\u001b[A\n",
      " 20%|██        | 2/10 [00:56<03:42, 27.78s/it]\u001b[A\n",
      " 30%|███       | 3/10 [01:26<03:18, 28.39s/it]\u001b[A\n",
      " 40%|████      | 4/10 [01:56<02:52, 28.76s/it]\u001b[A\n",
      " 50%|█████     | 5/10 [02:21<02:18, 27.63s/it]\u001b[A\n",
      " 60%|██████    | 6/10 [02:51<01:53, 28.30s/it]\u001b[A\n",
      " 70%|███████   | 7/10 [03:19<01:25, 28.39s/it]\u001b[A\n",
      " 80%|████████  | 8/10 [03:40<00:52, 26.02s/it]\u001b[A\n",
      " 90%|█████████ | 9/10 [03:50<00:21, 21.19s/it]\u001b[A\n",
      "100%|██████████| 10/10 [03:58<00:00, 23.89s/it]\u001b[A\n",
      " 60%|██████    | 6/10 [25:32<17:00, 255.03s/it]\n",
      "  0%|          | 0/10 [00:00<?, ?it/s]\u001b[A\n",
      " 10%|█         | 1/10 [00:28<04:13, 28.15s/it]\u001b[A\n",
      " 20%|██        | 2/10 [00:56<03:45, 28.17s/it]\u001b[A\n",
      " 30%|███       | 3/10 [01:24<03:17, 28.14s/it]\u001b[A\n",
      " 40%|████      | 4/10 [01:54<02:51, 28.67s/it]\u001b[A\n",
      " 50%|█████     | 5/10 [02:23<02:24, 28.83s/it]\u001b[A\n",
      " 60%|██████    | 6/10 [02:57<02:01, 30.31s/it]\u001b[A\n",
      " 70%|███████   | 7/10 [03:23<01:27, 29.20s/it]\u001b[A\n",
      " 80%|████████  | 8/10 [03:44<00:53, 26.63s/it]\u001b[A\n",
      " 90%|█████████ | 9/10 [03:54<00:21, 21.60s/it]\u001b[A\n",
      "100%|██████████| 10/10 [04:02<00:00, 24.30s/it]\u001b[A\n",
      " 70%|███████   | 7/10 [29:35<12:34, 251.42s/it]\n",
      "  0%|          | 0/10 [00:00<?, ?it/s]\u001b[A\n",
      " 10%|█         | 1/10 [00:37<05:40, 37.80s/it]\u001b[A\n",
      " 20%|██        | 2/10 [01:16<05:03, 37.94s/it]\u001b[A\n",
      " 30%|███       | 3/10 [01:50<04:17, 36.78s/it]\u001b[A\n",
      " 40%|████      | 4/10 [02:24<03:36, 36.03s/it]\u001b[A\n",
      " 50%|█████     | 5/10 [03:02<03:03, 36.74s/it]\u001b[A\n",
      " 60%|██████    | 6/10 [03:44<02:32, 38.25s/it]\u001b[A\n",
      " 70%|███████   | 7/10 [04:19<01:51, 37.23s/it]\u001b[A\n",
      " 80%|████████  | 8/10 [04:37<01:02, 31.46s/it]\u001b[A\n",
      " 90%|█████████ | 9/10 [04:47<00:24, 24.97s/it]\u001b[A\n",
      "100%|██████████| 10/10 [04:55<00:00, 29.59s/it]\u001b[A\n",
      " 80%|████████  | 8/10 [34:31<08:49, 264.75s/it]\n",
      "  0%|          | 0/10 [00:00<?, ?it/s]\u001b[A\n",
      " 10%|█         | 1/10 [00:31<04:38, 31.00s/it]\u001b[A\n",
      " 20%|██        | 2/10 [01:02<04:08, 31.03s/it]\u001b[A\n",
      " 30%|███       | 3/10 [01:33<03:36, 31.00s/it]\u001b[A\n",
      " 40%|████      | 4/10 [02:04<03:06, 31.04s/it]\u001b[A\n",
      " 50%|█████     | 5/10 [02:38<02:40, 32.06s/it]\u001b[A\n",
      " 60%|██████    | 6/10 [03:01<01:56, 29.17s/it]\u001b[A\n",
      " 70%|███████   | 7/10 [03:19<01:18, 26.10s/it]\u001b[A\n",
      " 80%|████████  | 8/10 [03:33<00:44, 22.23s/it]\u001b[A\n",
      " 90%|█████████ | 9/10 [03:42<00:18, 18.48s/it]\u001b[A\n",
      "100%|██████████| 10/10 [03:51<00:00, 23.16s/it]\u001b[A\n",
      " 90%|█████████ | 9/10 [38:23<04:14, 254.81s/it]\n",
      "  0%|          | 0/10 [00:00<?, ?it/s]\u001b[A\n",
      " 10%|█         | 1/10 [00:09<01:28,  9.85s/it]\u001b[A\n",
      " 20%|██        | 2/10 [00:19<01:18,  9.86s/it]\u001b[A\n",
      " 30%|███       | 3/10 [00:29<01:09,  9.86s/it]\u001b[A\n",
      " 40%|████      | 4/10 [00:39<00:59,  9.88s/it]\u001b[A\n",
      " 50%|█████     | 5/10 [00:49<00:49,  9.88s/it]\u001b[A\n",
      " 60%|██████    | 6/10 [00:59<00:39,  9.87s/it]\u001b[A\n",
      " 70%|███████   | 7/10 [01:08<00:28,  9.62s/it]\u001b[A\n",
      " 80%|████████  | 8/10 [01:17<00:18,  9.39s/it]\u001b[A\n",
      " 90%|█████████ | 9/10 [01:25<00:09,  9.16s/it]\u001b[A\n",
      "100%|██████████| 10/10 [01:34<00:00,  9.43s/it]\u001b[A\n",
      "100%|██████████| 10/10 [39:57<00:00, 239.77s/it]\n"
     ]
    }
   ],
   "source": [
    "knn_results = learn_knnrules(LAMBDA0_s=optim[4], LAMBDA1_s=optim[5], logspace=10, data_path=DATA_PATH)"
   ]
  },
  {
   "cell_type": "code",
   "execution_count": 14,
   "metadata": {},
   "outputs": [
    {
     "data": {
      "text/plain": [
       "(<Figure size 288x288 with 1 Axes>,\n",
       " <matplotlib.axes._subplots.AxesSubplot at 0x7f4ce4ab4be0>)"
      ]
     },
     "execution_count": 14,
     "metadata": {},
     "output_type": "execute_result"
    },
    {
     "data": {
      "image/png": "[encoded data removed]",
      "text/plain": [
       "<Figure size 288x288 with 1 Axes>"
      ]
     },
     "metadata": {},
     "output_type": "display_data"
    },
    {
     "data": {
      "image/png": "[encoded data removed]",
      "text/plain": [
       "<Figure size 288x288 with 1 Axes>"
      ]
     },
     "metadata": {},
     "output_type": "display_data"
    }
   ],
   "source": [
    "plt_cl_lit(knn_results, rtype='overlap')\n",
    "plt_sem(knn_results, rtype='overlap')"
   ]
  },
  {
   "cell_type": "code",
   "execution_count": 15,
   "metadata": {},
   "outputs": [],
   "source": [
    "optim_knn = get_sem_optim(knn_results, rtype='overlap')"
   ]
  },
  {
   "cell_type": "markdown",
   "metadata": {},
   "source": [
    "### Combined ruleset estimator"
   ]
  },
  {
   "cell_type": "code",
   "execution_count": 16,
   "metadata": {},
   "outputs": [],
   "source": [
    "X_df, a, y = get_data(DATA_PATH)"
   ]
  },
  {
   "cell_type": "code",
   "execution_count": 126,
   "metadata": {},
   "outputs": [],
   "source": [
    "modelpath = folder + recent_model('clrmodel')"
   ]
  },
  {
   "cell_type": "code",
   "execution_count": 127,
   "metadata": {},
   "outputs": [],
   "source": [
    "M, RS_s, RS_o, auc, score_base = learn_s_orules(modelpath, optim[4], optim[5], 0.023263050671536285, 0.0006812920690579615, data_path=DATA_PATH)"
   ]
  },
  {
   "cell_type": "code",
   "execution_count": 128,
   "metadata": {},
   "outputs": [
    {
     "data": {
      "text/plain": [
       "[['Region is not \"Dire Dawa\" and',\n",
       "  'Region is not \"Harari\" and',\n",
       "  'Time since last menstrual period > 207.5 and',\n",
       "  'Current use by method type is not \"Traditional method\" and',\n",
       "  'Recent sexual activity is not \"Never had sex\"'],\n",
       " ['Region is not \"Addis Adaba\" and',\n",
       "  'Time since last menstrual period <= 207.5 and',\n",
       "  'Current use by method type is not \"Traditional method\" and',\n",
       "  'Recent sexual activity is not \"Never had sex\"'],\n",
       " ['Region is not \"Addis Adaba\" and',\n",
       "  'Region is not \"Harari\" and',\n",
       "  'Wealth index combined <= 3.5 and',\n",
       "  'Current use by method type is not \"Traditional method\" and',\n",
       "  'Recent sexual activity is not \"Never had sex\"'],\n",
       " ['Wealth index combined > 3.5 and',\n",
       "  'Current use by method type is not \"Traditional method\" and',\n",
       "  'Recent sexual activity is not \"Never had sex\"']]"
      ]
     },
     "execution_count": 128,
     "metadata": {},
     "output_type": "execute_result"
    }
   ],
   "source": [
    "stats = rules_stats(RS_s.rules, X_df, a)\n",
    "transcribe(stats)"
   ]
  },
  {
   "cell_type": "code",
   "execution_count": 129,
   "metadata": {},
   "outputs": [
    {
     "data": {
      "text/plain": [
       "[['Region is not \"Gambela\" and',\n",
       "  'Literacy is not \"No card with required language\" and',\n",
       "  'Frequency of reading newspaper or magazine <= 0.5 and',\n",
       "  'Time since last menstrual period <= 699.0 and',\n",
       "  'Desire for more children is not \"Sterilized (respondent or partner)\" and',\n",
       "  'Unmet need is not \"Infecund, menopausal\"'],\n",
       " ['Region is not \"Gambela\" and',\n",
       "  'Literacy is not \"No card with required language\" and',\n",
       "  'Frequency of reading newspaper or magazine <= 0.5 and',\n",
       "  'Desire for more children is not \"Sterilized (respondent or partner)\" and',\n",
       "  'Unmet need is not \"Infecund, menopausal\"'],\n",
       " ['Highest educational level > 0.5 and',\n",
       "  'Literacy is not \"No card with required language\" and',\n",
       "  'Time since last menstrual period <= 699.0 and',\n",
       "  'Knowledge of ovulatory cycle is  \"Middle of the cycle\" and',\n",
       "  'Age at first sex <= 32.5 and',\n",
       "  'Desire for more children is not \"Sterilized (respondent or partner)\"'],\n",
       " ['Frequency of reading newspaper or magazine > 0.5 and',\n",
       "  'Visited by fieldworker in last 12 months is  \"Yes\" and',\n",
       "  'Unmet need is not \"Infecund, menopausal\"'],\n",
       " ['Number of household members (listed) > 4.5 and',\n",
       "  'Frequency of reading newspaper or magazine > 0.5 and',\n",
       "  'Knowledge of ovulatory cycle is not \"Middle of the cycle\"']]"
      ]
     },
     "execution_count": 129,
     "metadata": {},
     "output_type": "execute_result"
    }
   ],
   "source": [
    "stats = rules_stats(RS_o.rules, X_df, a)\n",
    "transcribe(stats)"
   ]
  },
  {
   "cell_type": "code",
   "execution_count": 130,
   "metadata": {},
   "outputs": [],
   "source": [
    "overlap_index_clr, violating_index_clr = get_overlap_violations(RS_s, RS_o, data_path=DATA_PATH)"
   ]
  },
  {
   "cell_type": "code",
   "execution_count": 131,
   "metadata": {},
   "outputs": [],
   "source": [
    "modelpath = folder + recent_model('knnmodel')"
   ]
  },
  {
   "cell_type": "code",
   "execution_count": 132,
   "metadata": {},
   "outputs": [],
   "source": [
    "M, RS_s, RS_o, auc, score_base = learn_s_orules(modelpath, optim[4], optim[5], optim_knn[4], optim_knn[5], data_path=DATA_PATH)"
   ]
  },
  {
   "cell_type": "code",
   "execution_count": 133,
   "metadata": {},
   "outputs": [
    {
     "data": {
      "text/plain": [
       "[[\"Respondent's current age > 26.5 and\",\n",
       "  'Unmet need is not \"Using for limiting\"'],\n",
       " [\"Respondent's current age > 26.5 and\", 'Region is not \"Gambela\"'],\n",
       " [\"Respondent's current age <= 21.5 and\",\n",
       "  'Heard family planning on newspaper/magazine last few months not  and',\n",
       "  'Unmet need is not \"Using for limiting\"'],\n",
       " ['Education in single years > 8.5 and',\n",
       "  'Cohabitation duration (grouped) is not \"Never married\"'],\n",
       " ['Region is not \"Gambela\" and', 'Unmet need is  \"Using for limiting\"'],\n",
       " ['Region is not \"Gambela\" and',\n",
       "  'Education in single years <= 8.5 and',\n",
       "  'Knowledge of ovulatory cycle is not \"Don\\'t know\" and',\n",
       "  'Age at first sex <= 23.5']]"
      ]
     },
     "execution_count": 133,
     "metadata": {},
     "output_type": "execute_result"
    }
   ],
   "source": [
    "stats = rules_stats(RS_o.rules, X_df, a)\n",
    "transcribe(stats)"
   ]
  },
  {
   "cell_type": "code",
   "execution_count": 134,
   "metadata": {},
   "outputs": [],
   "source": [
    "overlap_index_knn, violating_index_knn = get_overlap_violations(RS_s, RS_o, data_path=DATA_PATH)"
   ]
  },
  {
   "cell_type": "code",
   "execution_count": 135,
   "metadata": {},
   "outputs": [
    {
     "name": "stdout",
     "output_type": "stream",
     "text": [
      "0.8664710198092443\n",
      "0.9046221570066031\n"
     ]
    }
   ],
   "source": [
    "print(len(overlap_index_clr)/len(X_df))\n",
    "print(len(overlap_index_knn)/len(X_df))"
   ]
  },
  {
   "cell_type": "code",
   "execution_count": 136,
   "metadata": {},
   "outputs": [
    {
     "data": {
      "text/plain": [
       "<matplotlib_venn._common.VennDiagram at 0x7f4ce413cf98>"
      ]
     },
     "execution_count": 136,
     "metadata": {},
     "output_type": "execute_result"
    },
    {
     "data": {
      "image/png": "[encoded data removed]",
      "text/plain": [
       "<Figure size 432x288 with 1 Axes>"
      ]
     },
     "metadata": {},
     "output_type": "display_data"
    }
   ],
   "source": [
    "set1 = set(violating_index_clr)\n",
    "set2 = set(violating_index_knn)\n",
    "\n",
    "fig, ax = plt.subplots()\n",
    "venn2([set1, set2], ('Orule_CLR', 'Orule_KNN'), ax=ax)"
   ]
  },
  {
   "cell_type": "code",
   "execution_count": 137,
   "metadata": {},
   "outputs": [],
   "source": [
    "timestamp = str(int(time.time()))\n",
    "fig.savefig(folder + 'figures/venn2' + timestamp + '.pdf')"
   ]
  },
  {
   "cell_type": "code",
   "execution_count": 139,
   "metadata": {},
   "outputs": [
    {
     "name": "stdout",
     "output_type": "stream",
     "text": [
      "[1025, 1026, 1027, 1539, 1029, 1030, 1542, 2052, 521, 1033, 1034, 1545, 1546, 15, 2576, 18, 1044, 1045, 1049, 2074, 2585, 2076, 1053, 33, 545, 1057, 2084, 2597, 551, 552, 1576, 1069, 2606, 559, 2607, 561, 2610, 51, 2615, 571, 576, 1089, 1091, 70, 582, 1610, 1100, 1104, 1105, 598, 2656, 2658, 1125, 1126, 104, 1128, 2152, 107, 1132, 2664, 2158, 1651, 1140, 2675, 1142, 1147, 1148, 637, 125, 2171, 1664, 2173, 2175, 1667, 1668, 1669, 1670, 1159, 2183, 2184, 2690, 1675, 2693, 1679, 1169, 2193, 2705, 150, 2719, 2208, 163, 164, 2723, 166, 167, 680, 169, 170, 682, 172, 173, 686, 684, 1707, 689, 178, 1713, 2220, 2221, 2222, 695, 696, 2224, 2244, 198, 1222, 1223, 2248, 714, 1742, 2687, 1744, 1748, 2688, 214, 1764, 742, 231, 1768, 1259, 1260, 1773, 1774, 751, 1263, 2287, 1266, 2289, 1268, 1269, 246, 1270, 1271, 1275, 1282, 259, 2307, 2309, 774, 1800, 778, 2315, 270, 1806, 1808, 787, 1815, 794, 1819, 796, 797, 2334, 1311, 2336, 1825, 2339, 1318, 2343, 808, 2344, 810, 1326, 815, 2350, 817, 818, 819, 820, 309, 2351, 2352, 2353, 2355, 2358, 2359, 1344, 1345, 1350, 1353, 2388, 341, 342, 855, 346, 2394, 1884, 1885, 2400, 1891, 871, 1385, 874, 1392, 1904, 370, 885, 1911, 376, 1401, 1402, 1407, 2434, 1923, 390, 2215, 395, 397, 2217, 2453, 2218, 2457, 924, 2460, 414, 415, 1951, 419, 1956, 1957, 1446, 1958, 1959, 1961, 426, 1963, 1964, 941, 942, 943, 944, 433, 946, 1965, 954, 1980, 964, 1992, 459, 2508, 475, 2015, 2535, 490, 1516, 494, 2545, 1529, 507, 1022, 1023]\n"
     ]
    }
   ],
   "source": [
    "print(violating_index_knn)"
   ]
  },
  {
   "cell_type": "code",
   "execution_count": null,
   "metadata": {},
   "outputs": [],
   "source": []
  }
 ],
 "metadata": {
  "kernelspec": {
   "display_name": ".testenv",
   "language": "python",
   "name": ".testenv"
  },
  "language_info": {
   "codemirror_mode": {
    "name": "ipython",
    "version": 3
   },
   "file_extension": ".py",
   "mimetype": "text/x-python",
   "name": "python",
   "nbconvert_exporter": "python",
   "pygments_lexer": "ipython3",
   "version": "3.5.2"
  }
 },
 "nbformat": 4,
 "nbformat_minor": 4
}
