{
 "cells": [
  {
   "cell_type": "code",
   "execution_count": 1,
   "metadata": {},
   "outputs": [],
   "source": [
    "from itertools import groupby\n",
    "import pandas as pd\n",
    "import numpy as np\n",
    "\n",
    "%config Completer.use_jedi = False\n",
    "\n",
    "%matplotlib inline\n",
    "import matplotlib.pyplot as plt"
   ]
  },
  {
   "cell_type": "code",
   "execution_count": 2,
   "metadata": {},
   "outputs": [],
   "source": [
    "def load_df_dhs(filename='KEIR71FL.DTA'):\n",
    "    \"\"\"\n",
    "    load dhs data, make sure that calendar data is available\n",
    "    in the file and remove rows that don't contain calendar data.\n",
    "    \"\"\"\n",
    "    dhs = pd.read_stata(filename, convert_categoricals=False)\n",
    "    assert 'vcal_1' in dhs.columns\n",
    "    dhs = dhs[dhs.vcal_1 != '']\n",
    "    \n",
    "    return dhs\n",
    "\n",
    "def get_clean_calender(dhs):\n",
    "    \"\"\"\n",
    "    clean up the calender data by replacing episodes with no event\n",
    "    with 0 and align discontinuation data with contraceptive use data\n",
    "    \"\"\"\n",
    "    dhs_calendar = pd.DataFrame(columns=['vcal_1', 'vcal_2'])\n",
    "    for w in dhs.index:      \n",
    "        cero = list(dhs['vcal_1'][w])\n",
    "        disc = list(dhs['vcal_2'][w].ljust(80))\n",
    "\n",
    "        cs = []\n",
    "        ds = []\n",
    "        for c, d in zip(cero, disc):\n",
    "            if d == ' ':\n",
    "                d = '0'\n",
    "            cs.append(c)\n",
    "            ds.append(d)\n",
    "          \n",
    "        row = pd.Series({'vcal_1': ''.join(cs), 'vcal_2': ''.join(ds)}, name=w)\n",
    "        dhs_calendar = dhs_calendar.append(row, ignore_index=False)\n",
    "\n",
    "    return dhs_calendar\n",
    "\n",
    "def sideeffect_method(row_arg):\n",
    "    \n",
    "    vcal_1 = row_arg['vcal_1']\n",
    "    vcal_2 = row_arg['vcal_2'][-len(vcal_1.strip()):]\n",
    "\n",
    "    l = list(vcal_1.strip()[:60])\n",
    "    d = list(vcal_2.strip()[:60])\n",
    "    \n",
    "    methods = []\n",
    "    for ind, m in enumerate(d):\n",
    "        if m == '4':\n",
    "            methods.append(l[ind])\n",
    "    \n",
    "    return methods\n",
    "\n",
    "def methods(row_arg):\n",
    "    \n",
    "    vcal_1 = row_arg['vcal_1'].strip()\n",
    "    vcal_1 = vcal_1.replace(\"0\", \"\").replace(\"P\", \"\").replace(\"T\", \"\").replace(\"B\", \"\")\n",
    "    \n",
    "    return list(vcal_1)\n",
    "    \n",
    "    \n",
    "def pre(d, l, ix=60, TG=True):\n",
    "    \"\"\"\n",
    "    Find the first use of either injectables or one of (Pills, Implant, EC, or IUD).\n",
    "    If none of these methods are present, then return None.\n",
    "    T =1 corresponds to first use of injectables, otherwise, T=0. Also return the\n",
    "    corresponding month as the index date.\n",
    "    \"\"\"\n",
    "    \n",
    "    inj_index = 0\n",
    "    other_index = 0\n",
    "    \n",
    "    if '3' in l:\n",
    "        inj_index = ix - l[::-1].index('3')\n",
    "                \n",
    "    other_index = ix - min([l[::-1].index(i) if i in l else ix for i in ['1', '2', 'N', 'E']])\n",
    "    \n",
    "    if TG: \n",
    "        if inj_index > 0:\n",
    "            t = 1; ind = inj_index;\n",
    "        else:\n",
    "            return\n",
    "    else:\n",
    "        if other_index > 0:\n",
    "            t = 0; ind = other_index;\n",
    "        else:\n",
    "            return     \n",
    "    \n",
    "    return t, ind\n",
    "    \n",
    "\n",
    "def nmonth_discontinuation(row_arg, TG=True):\n",
    "    \"\"\"\n",
    "        for each record's (calendar data). We assume there is at least 60 months of \n",
    "        method use and discontinuation data. Classify each record into treated or control;\n",
    "        based on the method that is first used and 3 months of method-naivety.\n",
    "        Determine 12 month discontinuation from index date. If there are less than 12 months\n",
    "        from index date, then return NaN as the outcome.\n",
    "        \n",
    "    \"\"\"\n",
    "    \n",
    "    vcal_1 = row_arg['vcal_1']\n",
    "    vcal_2 = row_arg['vcal_2'][-len(vcal_1.strip()):]\n",
    "\n",
    "    l = list(vcal_1.strip()[:60])\n",
    "    d = list(vcal_2.strip()[:60])\n",
    "    \n",
    "    if pre(d, l, 60, TG):\n",
    "        t, ind = pre(d, l, 60, TG)\n",
    "    else:\n",
    "        return\n",
    "    \n",
    "    A = ['0', 'P', 'T', 'B']\n",
    "    for a in vcal_1.strip()[ind: ind + 3]:\n",
    "        if a not in A:\n",
    "            \n",
    "            l = list(vcal_1.strip()[:ind])\n",
    "            d = list(vcal_2.strip()[:ind])\n",
    "            \n",
    "            if pre(d, l, ind, TG):\n",
    "                t, ind = pre(d, l, ind, TG)\n",
    "                for a in vcal_1.strip()[ind: ind + 3]:\n",
    "                    if a not in A:\n",
    "                        return\n",
    "            else:\n",
    "                return\n",
    "    \n",
    "    if len(d[:ind]) < 12:\n",
    "        o = float('nan')\n",
    "        return t,o\n",
    "    else:\n",
    "        \n",
    "        nmonth_window = d[:ind][-12:]\n",
    "        assert len(nmonth_window) == 12\n",
    "        if '4' not in nmonth_window:\n",
    "            o = 0\n",
    "        else:\n",
    "            disc_ind = nmonth_window[::-1].index('4')\n",
    "            method = l[:ind][-12:][::-1][disc_ind]\n",
    "            \n",
    "            if method == l[ind-1]:\n",
    "                o = 1\n",
    "            else:\n",
    "                o = 0\n",
    "        return t,o\n",
    "    \n",
    "def plot_distr(calender_data, ctry):\n",
    "    \n",
    "    s = calender_data.apply(methods, axis=1)\n",
    "    m = [element for list_ in s for element in list_]\n",
    "\n",
    "    counts = np.unique(m, return_counts=True)[1]\n",
    "    unique = np.unique(m, return_counts=True)[0]\n",
    "    ratio = counts/counts.sum()\n",
    "\n",
    "    x = list(map(lambda x: x, unique[np.argsort(ratio)][::-1]))\n",
    "    y = np.sort(ratio)[::-1]\n",
    "\n",
    "    fig, ax = plt.subplots(1)\n",
    "\n",
    "    ax.barh(x, y)\n",
    "    plt.xticks(rotation='horizontal')\n",
    "    plt.tight_layout()\n",
    "    fig.savefig('figures/'+ ctry + '-distr.pdf')\n",
    "    \n",
    "\n",
    "\n",
    "def nmonth_discontinuation_multiple(df):\n",
    "    \n",
    "    t1 = df.apply(nmonth_discontinuation, axis=1)\n",
    "    t1 = t1[t1.notna()]\n",
    "    t0 = df.apply(nmonth_discontinuation, TG=False, axis=1)\n",
    "    t0 = t0[t0.notna()]\n",
    "\n",
    "    \n",
    "    A = t1[list(set(t1.index).difference(set(t0.index)))]\n",
    "    B = t0[list(set(t0.index).difference(set(t1.index)))]\n",
    "    \n",
    "    t_df = pd.concat((A, B))\n",
    "    \n",
    "    C = list(set(t1.index).intersection(set(t0.index)))\n",
    "    np.random.shuffle(C)\n",
    "    \n",
    "    D = t1.loc[C[:len(C) // 2]]\n",
    "    E = t0.loc[C[len(C) // 2:]]\n",
    "    \n",
    "    return pd.concat((t_df, D, E))"
   ]
  },
  {
   "cell_type": "markdown",
   "metadata": {},
   "source": [
    "### Load the DHS data"
   ]
  },
  {
   "cell_type": "code",
   "execution_count": 3,
   "metadata": {},
   "outputs": [
    {
     "name": "stdout",
     "output_type": "stream",
     "text": [
      "\u001b[34mBF\u001b[m\u001b[m       \u001b[34mCD\u001b[m\u001b[m       \u001b[34mGH\u001b[m\u001b[m       \u001b[34mKE\u001b[m\u001b[m       \u001b[34mNG\u001b[m\u001b[m       \u001b[34mSNIR8BDT\u001b[m\u001b[m \u001b[34mZA\u001b[m\u001b[m\r\n",
      "\u001b[34mBJIR71DT\u001b[m\u001b[m \u001b[34mCMIR71DT\u001b[m\u001b[m \u001b[34mGMIR81DT\u001b[m\u001b[m \u001b[34mLBIR7ADT\u001b[m\u001b[m \u001b[34mSLIR7ADT\u001b[m\u001b[m \u001b[34mTZ\u001b[m\u001b[m       \u001b[34mZM\u001b[m\u001b[m\r\n",
      "\u001b[34mBUIR71DT\u001b[m\u001b[m \u001b[34mET\u001b[m\u001b[m       \u001b[34mGNIR71DT\u001b[m\u001b[m \u001b[34mMLIR7ADT\u001b[m\u001b[m \u001b[34mSN\u001b[m\u001b[m       \u001b[34mUGIR7BDT\u001b[m\u001b[m \u001b[34mZMIR71DT\u001b[m\u001b[m\r\n"
     ]
    }
   ],
   "source": [
    "!ls ../../mnch/DHS_Data"
   ]
  },
  {
   "cell_type": "code",
   "execution_count": 5,
   "metadata": {},
   "outputs": [],
   "source": [
    "ng_data = load_df_dhs(filename='../../mnch/DHS_Data/NG/NG_2018_DHS_11142019_1941_132882/NGIR7ADT/NGIR7AFL.DTA')\n",
    "et_data = load_df_dhs(filename='../../mnch/DHS_Data/ET/ET_2016_DHS_07032019_843_132882/ETIR70DT/ETIR70FL.DTA')\n",
    "\n",
    "za_data = load_df_dhs(filename='../../mnch/DHS_Data/ZA/ZA_2016_DHS_10022019_417_132882/ZAIR71DT/ZAIR71FL.DTA')\n",
    "sn_data = load_df_dhs(filename='../../mnch/DHS_Data/SNIR8BDT/SNIR8BFL.DTA')\n",
    "bj_data = load_df_dhs(filename='../../mnch/DHS_Data/BJIR71DT/BJIR71FL.DTA')\n",
    "\n",
    "zm_data = load_df_dhs(filename='../../mnch/DHS_Data/ZMIR71DT/ZMIR71FL.DTA')\n",
    "sl_data = load_df_dhs(filename='../../mnch/DHS_Data/SLIR7ADT/SLIR7AFL.DTA')"
   ]
  },
  {
   "cell_type": "code",
   "execution_count": 6,
   "metadata": {},
   "outputs": [],
   "source": [
    "br_data = load_df_dhs(filename='../../mnch/DHS_Data/BUIR71DT/BUIR71FL.DTA')\n",
    "gm_data = load_df_dhs(filename='../../mnch/DHS_Data/GMIR81DT/GMIR81FL.DTA')\n",
    "gu_data = load_df_dhs(filename='../../mnch/DHS_Data/GNIR71DT/GNIR71FL.DTA')\n",
    "lb_data = load_df_dhs(filename='../../mnch/DHS_Data/LBIR7ADT/LBIR7AFL.DTA')\n",
    "ml_data = load_df_dhs(filename='../../mnch/DHS_Data/MLIR7ADT/MLIR7AFL.DTA')\n",
    "ug_data = load_df_dhs(filename='../../mnch/DHS_Data/UGIR7BDT/UGIR7BFL.DTA')"
   ]
  },
  {
   "cell_type": "code",
   "execution_count": null,
   "metadata": {
    "scrolled": false
   },
   "outputs": [],
   "source": [
    "countries = ['ke', 'ng', 'et', 'za', 'sn', 'bj', 'zm', 'sl', 'br', 'gm', 'gu', 'lb', 'ml', 'ug']\n",
    "\n",
    "plt.ioff()\n",
    "for ctry in countries:\n",
    "    data = eval(ctry + '_data')\n",
    "    calender_data = get_clean_calender(data)\n",
    "    \n",
    "    plot_distr(calender_data, ctry)"
   ]
  },
  {
   "cell_type": "code",
   "execution_count": 80,
   "metadata": {},
   "outputs": [],
   "source": [
    "ctry = 'zm'\n",
    "data = eval(ctry + '_data')\n",
    "calender_data = get_clean_calender(data)"
   ]
  },
  {
   "cell_type": "code",
   "execution_count": 81,
   "metadata": {},
   "outputs": [
    {
     "data": {
      "text/plain": [
       "67"
      ]
     },
     "execution_count": 81,
     "metadata": {},
     "output_type": "execute_result"
    }
   ],
   "source": [
    "calender_data['vcal_1'].apply(lambda x: len(x.strip())).min()"
   ]
  },
  {
   "cell_type": "markdown",
   "metadata": {},
   "source": [
    "### Basic preprocessing"
   ]
  },
  {
   "cell_type": "code",
   "execution_count": 82,
   "metadata": {},
   "outputs": [],
   "source": [
    "# Use data from Respondents basic data, Reproduction, Contraceptive table, Fertility preferences, and Marriage.\n",
    "filtered_data = data.filter(regex=(\"^v[2|1|3|6|5][0-9]{2}$\"))\n",
    "filtered_data = filtered_data.assign(v012 = data['v012'], v384a=data['v384a'], v384b=data['v384b'], v384c=data['v384c'])\n",
    "\n",
    "# Only select features/columns with at least 90% non-null values\n",
    "null_indices = np.argwhere((filtered_data.count() < (len(filtered_data) * .90)).values == True).flatten()\n",
    "filtered_data = filtered_data.drop(filtered_data.columns[null_indices], axis = 1)\n",
    "\n",
    "# Imput null values with the median of the column\n",
    "filtered_data = filtered_data.apply(lambda x: x.fillna(x.median()), axis='rows')"
   ]
  },
  {
   "cell_type": "markdown",
   "metadata": {},
   "source": [
    "### Classify into treatment groups and obtain the outcome from the data"
   ]
  },
  {
   "cell_type": "code",
   "execution_count": 83,
   "metadata": {
    "scrolled": false
   },
   "outputs": [],
   "source": [
    "treatment_outcome_df = nmonth_discontinuation_multiple(calender_data)"
   ]
  },
  {
   "cell_type": "markdown",
   "metadata": {},
   "source": [
    "### plot distribution of method use for discontinuation due to health reasons"
   ]
  },
  {
   "cell_type": "code",
   "execution_count": 511,
   "metadata": {},
   "outputs": [],
   "source": [
    "methods = []\n",
    "for idx, row in calender_data.apply(sideeffect_method, axis=1).iteritems():\n",
    "    if len(row) > 0:\n",
    "        methods = row + methods"
   ]
  },
  {
   "cell_type": "code",
   "execution_count": 512,
   "metadata": {},
   "outputs": [],
   "source": [
    "counts = np.unique(methods, return_counts=True)[1]\n",
    "unique = np.unique(methods, return_counts=True)[0]\n",
    "ratio = counts/counts.sum()"
   ]
  },
  {
   "cell_type": "code",
   "execution_count": 513,
   "metadata": {},
   "outputs": [
    {
     "data": {
      "text/plain": [
       "array(['1', '2', '3', '5', 'C', 'E', 'I', 'N'], dtype='<U1')"
      ]
     },
     "execution_count": 513,
     "metadata": {},
     "output_type": "execute_result"
    }
   ],
   "source": [
    "unique"
   ]
  },
  {
   "cell_type": "code",
   "execution_count": 514,
   "metadata": {
    "scrolled": false
   },
   "outputs": [],
   "source": [
    "method_dict = {'1': 'Pills', '2': 'IUD', '3': 'Injections', '5': 'Condom', 'E': 'Emergency', 'L': 'Lactational', 'N': 'Implant', 'W': 'Withdrawal', 'M': 'Other mordern', '9': 'Withdrawal', 'I': 'Unknown', 'C': 'Female condom', '8': 'Rhythm', 'S': 'Standard days', '7': 'Male Sterilization', '6': 'Female Sterilization'}\n",
    "\n",
    "x = list(map(lambda x: method_dict[x], unique[np.argsort(ratio)][::-1]))\n",
    "y = np.sort(ratio)[::-1]"
   ]
  },
  {
   "cell_type": "code",
   "execution_count": 515,
   "metadata": {},
   "outputs": [
    {
     "data": {
      "image/png": "[encoded data removed]",
      "text/plain": [
       "<Figure size 432x288 with 1 Axes>"
      ]
     },
     "metadata": {
      "needs_background": "light"
     },
     "output_type": "display_data"
    }
   ],
   "source": [
    "fig, ax = plt.subplots(1)\n",
    "\n",
    "ax.barh(x, y)\n",
    "plt.xticks(rotation='horizontal')\n",
    "plt.tight_layout()\n",
    "fig.savefig('figures/' + ctry + '-methods.pdf')"
   ]
  },
  {
   "cell_type": "markdown",
   "metadata": {},
   "source": [
    "### collate the covariate data and outcome/treatment data"
   ]
  },
  {
   "cell_type": "code",
   "execution_count": 84,
   "metadata": {
    "scrolled": false
   },
   "outputs": [],
   "source": [
    "series_list = []\n",
    "\n",
    "for idx, row in treatment_outcome_df.iteritems():\n",
    "    l = list(filtered_data.loc[idx])\n",
    "    t = row[0]\n",
    "    o = row[1]\n",
    "    \n",
    "    l = l + [t, o]\n",
    "    series_list.append(pd.Series(l, name=idx))"
   ]
  },
  {
   "cell_type": "code",
   "execution_count": 85,
   "metadata": {},
   "outputs": [
    {
     "data": {
      "text/html": [
       "<div>\n",
       "<style scoped>\n",
       "    .dataframe tbody tr th:only-of-type {\n",
       "        vertical-align: middle;\n",
       "    }\n",
       "\n",
       "    .dataframe tbody tr th {\n",
       "        vertical-align: top;\n",
       "    }\n",
       "\n",
       "    .dataframe thead th {\n",
       "        text-align: right;\n",
       "    }\n",
       "</style>\n",
       "<table border=\"1\" class=\"dataframe\">\n",
       "  <thead>\n",
       "    <tr style=\"text-align: right;\">\n",
       "      <th></th>\n",
       "      <th>v101</th>\n",
       "      <th>v102</th>\n",
       "      <th>v104</th>\n",
       "      <th>v106</th>\n",
       "      <th>v107</th>\n",
       "      <th>v113</th>\n",
       "      <th>v115</th>\n",
       "      <th>v116</th>\n",
       "      <th>v119</th>\n",
       "      <th>v120</th>\n",
       "      <th>...</th>\n",
       "      <th>v626</th>\n",
       "      <th>v627</th>\n",
       "      <th>v628</th>\n",
       "      <th>v629</th>\n",
       "      <th>v012</th>\n",
       "      <th>v384a</th>\n",
       "      <th>v384b</th>\n",
       "      <th>v384c</th>\n",
       "      <th>treatment</th>\n",
       "      <th>outcome</th>\n",
       "    </tr>\n",
       "  </thead>\n",
       "  <tbody>\n",
       "    <tr>\n",
       "      <th>8194</th>\n",
       "      <td>1.0</td>\n",
       "      <td>1.0</td>\n",
       "      <td>13.0</td>\n",
       "      <td>2.0</td>\n",
       "      <td>2.0</td>\n",
       "      <td>14.0</td>\n",
       "      <td>5.0</td>\n",
       "      <td>23.0</td>\n",
       "      <td>0.0</td>\n",
       "      <td>0.0</td>\n",
       "      <td>...</td>\n",
       "      <td>4.0</td>\n",
       "      <td>1.0</td>\n",
       "      <td>2.0</td>\n",
       "      <td>0.0</td>\n",
       "      <td>32.0</td>\n",
       "      <td>0.0</td>\n",
       "      <td>1.0</td>\n",
       "      <td>0.0</td>\n",
       "      <td>1.0</td>\n",
       "      <td>0.0</td>\n",
       "    </tr>\n",
       "    <tr>\n",
       "      <th>2</th>\n",
       "      <td>3.0</td>\n",
       "      <td>2.0</td>\n",
       "      <td>95.0</td>\n",
       "      <td>1.0</td>\n",
       "      <td>7.0</td>\n",
       "      <td>21.0</td>\n",
       "      <td>40.0</td>\n",
       "      <td>31.0</td>\n",
       "      <td>0.0</td>\n",
       "      <td>0.0</td>\n",
       "      <td>...</td>\n",
       "      <td>5.0</td>\n",
       "      <td>2.0</td>\n",
       "      <td>2.0</td>\n",
       "      <td>0.0</td>\n",
       "      <td>28.0</td>\n",
       "      <td>0.0</td>\n",
       "      <td>0.0</td>\n",
       "      <td>0.0</td>\n",
       "      <td>1.0</td>\n",
       "      <td>1.0</td>\n",
       "    </tr>\n",
       "  </tbody>\n",
       "</table>\n",
       "<p>2 rows × 97 columns</p>\n",
       "</div>"
      ],
      "text/plain": [
       "      v101  v102  v104  v106  v107  v113  v115  v116  v119  v120  ...  v626  \\\n",
       "8194   1.0   1.0  13.0   2.0   2.0  14.0   5.0  23.0   0.0   0.0  ...   4.0   \n",
       "2      3.0   2.0  95.0   1.0   7.0  21.0  40.0  31.0   0.0   0.0  ...   5.0   \n",
       "\n",
       "      v627  v628  v629  v012  v384a  v384b  v384c  treatment  outcome  \n",
       "8194   1.0   2.0   0.0  32.0    0.0    1.0    0.0        1.0      0.0  \n",
       "2      2.0   2.0   0.0  28.0    0.0    0.0    0.0        1.0      1.0  \n",
       "\n",
       "[2 rows x 97 columns]"
      ]
     },
     "execution_count": 85,
     "metadata": {},
     "output_type": "execute_result"
    }
   ],
   "source": [
    "cols = list(filtered_data.columns) + ['treatment', 'outcome']\n",
    "df = pd.DataFrame(series_list)\n",
    "df.columns = cols\n",
    "df.head(2)"
   ]
  },
  {
   "cell_type": "code",
   "execution_count": 86,
   "metadata": {},
   "outputs": [],
   "source": [
    "tmean, omean = df['treatment'].mean(), df['outcome'].mean()\n",
    "censored_tmean = df[df['outcome'].isna()]['treatment'].mean()\n",
    "sz = len(df)\n",
    "sz_uncensored  = len(df[~df['outcome'].isna()])\n",
    "\n",
    "outcome_group = df[['treatment', 'outcome']].groupby(['treatment']).mean()\n",
    "outcome_group_0 = outcome_group.loc[0].outcome\n",
    "outcome_group_1 = outcome_group.loc[1].outcome"
   ]
  },
  {
   "cell_type": "code",
   "execution_count": 87,
   "metadata": {},
   "outputs": [],
   "source": [
    "with open('datastats.txt', 'a+') as fp:\n",
    "    \n",
    "    fp.write(ctry + '\\n')\n",
    "    fp.write(str(tmean) + \",\" + str(omean) + '\\n')\n",
    "    fp.write(str(censored_tmean)  + '\\n')\n",
    "    fp.write(str(sz)  + \",\" + str(sz_uncensored)  + '\\n')\n",
    "    fp.write(str(outcome_group_0)  + \",\" + str(outcome_group_1)  + '\\n')"
   ]
  },
  {
   "cell_type": "code",
   "execution_count": 88,
   "metadata": {
    "scrolled": true
   },
   "outputs": [],
   "source": [
    "df.to_csv('data/' + ctry.upper() + '_Preprocessed.csv', index=False)"
   ]
  },
  {
   "cell_type": "markdown",
   "metadata": {},
   "source": [
    "### Uganda:\n",
    "\n",
    "T=1,0.6984973339796413   \n",
    "O=1,0.2525448376151236    \n",
    "N=4126   \n",
    "\n",
    "\n",
    "### Mali:\n",
    "\n",
    "T=1,0.39526276831976315   \n",
    "O=1,0.1073279052553664    \n",
    "N=1351   \n",
    "\n",
    "\n",
    "\n",
    "### Liberia:\n",
    "\n",
    "T=1,0.67138671875    \n",
    "O=1,0.197265625    \n",
    "N=2048   \n",
    "\n",
    "\n",
    "### Guinea:\n",
    "\n",
    "T=1,0.2556497175141243       \n",
    "O=1,0.3177966101694915    \n",
    "N=708   \n",
    "\n",
    "\n",
    "### Gambia:\n",
    "\n",
    "T=1,0.5262135922330097    \n",
    "O=1,0.14692556634304207   \n",
    "N=1545  \n",
    "\n",
    "\n",
    "### Burundi:\n",
    "\n",
    "T=1,0.5992524916943521   \n",
    "O=1,0.2084717607973422  \n",
    "N=2408\n",
    "\n",
    "### Senegal:\n",
    "\n",
    "T=1,0.45182972367438384  \n",
    "O=1,0.10082150858849888  \n",
    "N=1339\n",
    "\n",
    "### South Africa\n",
    "T=1,0.6669266770670826  \n",
    "O=1,0.1060842433697348  \n",
    "N=1282\n",
    "\n",
    "### Benin\n",
    "T=1,0.2437937619350732  \n",
    "O=0.09548058561425843  \n",
    "N=1571\n",
    "\n",
    "### Zambia\n",
    "T=1,0.6534862662239662  \n",
    "O=0.16480531240567461  \n",
    "N=3313\n",
    "\n",
    "### Sierra Leone\n",
    "T=1,0.44719642242862057  \n",
    "O=0.14516683866529068  \n",
    "N=2907"
   ]
  },
  {
   "cell_type": "markdown",
   "metadata": {},
   "source": [
    "### Power analysis"
   ]
  },
  {
   "cell_type": "code",
   "execution_count": 176,
   "metadata": {},
   "outputs": [],
   "source": [
    "df = pd.read_csv('data/ET_2016_Preprocessed.csv')"
   ]
  },
  {
   "cell_type": "code",
   "execution_count": 202,
   "metadata": {},
   "outputs": [],
   "source": [
    "X = df[~df['outcome'].isna()]"
   ]
  },
  {
   "cell_type": "code",
   "execution_count": 203,
   "metadata": {},
   "outputs": [],
   "source": [
    "from statsmodels.stats.power import TTestIndPower\n",
    "from statistics import mean, stdev\n",
    "from math import sqrt\n",
    "\n",
    "c0 = X[X['treatment'] == 0]['outcome'].values\n",
    "c1 = X[X['treatment'] == 1]['outcome'].values\n",
    "\n",
    "cohens_d = (mean(c0) - mean(c1)) / (sqrt((stdev(c0) ** 2 + stdev(c1) ** 2) / 2))\n",
    "cohens_d\n",
    "\n",
    "p = X['treatment'].mean()\n",
    "random_a = pd.Series(np.random.binomial(1, p, size=X.shape[0]))\n",
    "\n",
    "AD = X[X['treatment'] == 1]['outcome'].mean() - (X['outcome'].iloc[random_a[random_a == 1].index]).mean()\n",
    "POB = 0.5 * (AD + 1)"
   ]
  },
  {
   "cell_type": "code",
   "execution_count": 101,
   "metadata": {},
   "outputs": [],
   "source": [
    "cohens_d_r = np.arange(0.05, 0.25, 0.05)"
   ]
  },
  {
   "cell_type": "code",
   "execution_count": 102,
   "metadata": {},
   "outputs": [],
   "source": [
    "results = []\n",
    "for cohens_d in cohens_d_r:\n",
    "    effect = cohens_d\n",
    "    alpha = 0.01\n",
    "    power = 0.9\n",
    "\n",
    "    analysis = TTestIndPower()\n",
    "    result = analysis.solve_power(effect, power=power, nobs1=None, ratio=len(c1)/len(c0), alpha=alpha)\n",
    "    # print('Sample Size: %.3f' % result)\n",
    "    results.append(result)"
   ]
  },
  {
   "cell_type": "code",
   "execution_count": 104,
   "metadata": {},
   "outputs": [
    {
     "data": {
      "text/plain": [
       "[<matplotlib.lines.Line2D at 0x12cf46e50>]"
      ]
     },
     "execution_count": 104,
     "metadata": {},
     "output_type": "execute_result"
    },
    {
     "data": {
      "image/png": "[encoded data removed]",
      "text/plain": [
       "<Figure size 432x288 with 1 Axes>"
      ]
     },
     "metadata": {
      "needs_background": "light"
     },
     "output_type": "display_data"
    }
   ],
   "source": [
    "plt.plot(cohens_d_r, results)"
   ]
  },
  {
   "cell_type": "code",
   "execution_count": 204,
   "metadata": {},
   "outputs": [
    {
     "name": "stdout",
     "output_type": "stream",
     "text": [
      "Sample Size: 123.167\n"
     ]
    }
   ],
   "source": [
    "effect = POB\n",
    "alpha = 0.01\n",
    "power = 0.9\n",
    "\n",
    "analysis = TTestIndPower()\n",
    "result = analysis.solve_power(effect, power=power, nobs1=None, ratio=len(c1)/len(c0), alpha=alpha)\n",
    "print('Sample Size: %.3f' % result)"
   ]
  },
  {
   "cell_type": "code",
   "execution_count": null,
   "metadata": {},
   "outputs": [],
   "source": []
  }
 ],
 "metadata": {
  "kernelspec": {
   "display_name": "Python 3",
   "language": "python",
   "name": "python3"
  },
  "language_info": {
   "codemirror_mode": {
    "name": "ipython",
    "version": 3
   },
   "file_extension": ".py",
   "mimetype": "text/x-python",
   "name": "python",
   "nbconvert_exporter": "python",
   "pygments_lexer": "ipython3",
   "version": "3.8.2"
  }
 },
 "nbformat": 4,
 "nbformat_minor": 2
}
