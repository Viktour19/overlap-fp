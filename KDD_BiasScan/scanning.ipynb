{
 "cells": [
  {
   "cell_type": "code",
   "execution_count": 2,
   "metadata": {},
   "outputs": [],
   "source": [
    "import pandas as pd\n",
    "import numpy as np\n",
    "import pickle as pkl\n",
    "\n",
    "from sklearn.linear_model import LogisticRegression\n",
    "from sklearn.svm import SVC\n",
    "from sklearn.ensemble import RandomForestClassifier\n",
    "from sklearn.neighbors import KNeighborsClassifier\n",
    "from sklearn.model_selection import GridSearchCV\n",
    "from sklearn.neural_network import MLPClassifier\n",
    "from sklearn.preprocessing import OrdinalEncoder\n",
    "\n",
    "from BiasScan.MDSS import *\n",
    "\n",
    "import matplotlib.pyplot as plt\n",
    "%matplotlib notebook\n",
    "\n",
    "from tqdm import tqdm\n",
    "from collections import OrderedDict\n",
    "from multiprocessing.pool import Pool\n",
    "from multiprocessing import cpu_count\n",
    "import time"
   ]
  },
  {
   "cell_type": "code",
   "execution_count": 3,
   "metadata": {},
   "outputs": [
    {
     "name": "stdout",
     "output_type": "stream",
     "text": [
      "/Users/victorakinwande/Documents/Development/PosivityViolation/KDD_BiasScan\r\n"
     ]
    }
   ],
   "source": [
    "!pwd"
   ]
  },
  {
   "cell_type": "markdown",
   "metadata": {},
   "source": [
    "### Load Dataset"
   ]
  },
  {
   "cell_type": "code",
   "execution_count": 4,
   "metadata": {},
   "outputs": [],
   "source": [
    "covariates = [\"age\", \"workclass\", \"education\", \"marital-status\", \"occupation\", \n",
    "              \"race\", \"sex\", \"hours-per-week\"]\n",
    "outcome = \"outcome\"\n",
    "\n",
    "\n",
    "# data containing categorical features\n",
    "mdscan_data = pd.read_csv(\"datasets/adult/test.data\")\n",
    "mdscan_data[\"outcome\"] = (mdscan_data[\"outcome\"] == \" >50K.\").astype(np.int)"
   ]
  },
  {
   "cell_type": "markdown",
   "metadata": {},
   "source": [
    "### Define Classifiers"
   ]
  },
  {
   "cell_type": "code",
   "execution_count": 5,
   "metadata": {},
   "outputs": [],
   "source": [
    "classifiers_labels = [\n",
    "    \"LogisticRegression\",\n",
    "    \"RandomForestClassifier\",\n",
    "    \"SVC\",\n",
    "    \"KNeighborsClassifier\",\n",
    "    \"MLPClassifier\"\n",
    "]"
   ]
  },
  {
   "cell_type": "code",
   "execution_count": 4,
   "metadata": {},
   "outputs": [],
   "source": [
    "domains = {}\n",
    "\n",
    "for cov in covariates:\n",
    "    domains[cov] = np.unique(mdscan_data[cov])\n",
    "    \n",
    "observed = 'outcome'\n",
    "expected = 'proba' "
   ]
  },
  {
   "cell_type": "code",
   "execution_count": 5,
   "metadata": {},
   "outputs": [],
   "source": [
    "NUM_RESTARTS = 5\n",
    "NUM_EXPERIMENTS = 10\n",
    "PENALTY = 0.\n",
    "DIRECTION = 'positive'"
   ]
  },
  {
   "cell_type": "markdown",
   "metadata": {},
   "source": [
    "### Test 1"
   ]
  },
  {
   "cell_type": "code",
   "execution_count": null,
   "metadata": {},
   "outputs": [],
   "source": [
    "def experiment1(p, i, seed):\n",
    "    np.random.seed(seed)\n",
    "    \n",
    "    mdscan_data_local = mdscan_data.copy()\n",
    "    results = {}\n",
    "    \n",
    "    # define scanner\n",
    "    scanner = MDSS(\n",
    "        optim_q_mle=bisection_q_mle,\n",
    "        solver_q_min=bisection_q_min,\n",
    "        solver_q_max=bisection_q_max,\n",
    "    )\n",
    "    \n",
    "    for clf_label in classifiers_labels:\n",
    "        # load probability column for the current experiment\n",
    "        filename = \"training/test1/clf=%s_p=%d_i=%d.pkl\" % (clf_label, p, i)\n",
    "        file = open(filename, 'rb')\n",
    "        proba = pkl.load(file)\n",
    "        file.close()\n",
    "        \n",
    "        # add probability column\n",
    "        mdscan_data_local[\"proba\"] = proba\n",
    "\n",
    "        # run MDSS\n",
    "        subset, score = scanner.run_bias_scan(  \n",
    "            coordinates=mdscan_data_local[covariates],\n",
    "            probs=mdscan_data_local['proba'], \n",
    "            outcomes=mdscan_data_local['outcome'],\n",
    "            penalty=PENALTY, \n",
    "            num_iters=NUM_RESTARTS, \n",
    "            direction=DIRECTION,\n",
    "            num_threads=1\n",
    "        )\n",
    "        results[clf_label] = score\n",
    "        \n",
    "    return results"
   ]
  },
  {
   "cell_type": "code",
   "execution_count": 8,
   "metadata": {},
   "outputs": [],
   "source": [
    "percentages = [1, 2, 4, 8, 16, 32]"
   ]
  },
  {
   "cell_type": "code",
   "execution_count": null,
   "metadata": {},
   "outputs": [],
   "source": [
    "num_experiments = NUM_EXPERIMENTS\n",
    "results = {}\n",
    "acc = {}\n",
    "\n",
    "# start time\n",
    "start = time.time()\n",
    "\n",
    "# define thread pool\n",
    "pool = Pool(processes=cpu_count() - 1)\n",
    "\n",
    "for p in percentages:\n",
    "    results[p] = {}\n",
    "    acc[p] = []\n",
    "    seeds = np.random.randint(0, 99999, size=num_experiments)\n",
    "    \n",
    "    for i in range(num_experiments):\n",
    "        acc[p].append(pool.apply_async(experiment1, (p, i, seeds[i])))\n",
    "        \n",
    "# close thread pool & wait for all jobs to be done\n",
    "pool.close()\n",
    "pool.join()\n",
    "\n",
    "for p in percentages:\n",
    "    # collect the results\n",
    "    acc[p] = [res.get() for res in acc[p]]\n",
    "    \n",
    "    for clf_label in classifiers_labels:\n",
    "        for res in acc[p]:\n",
    "            results[p][clf_label] = results[p].get(clf_label, []) + [res[clf_label]]\n",
    "            \n",
    "# print duration\n",
    "print(\"Ellapsed: %.2f\" % (time.time() - start))"
   ]
  },
  {
   "cell_type": "code",
   "execution_count": null,
   "metadata": {},
   "outputs": [],
   "source": [
    "# save results\n",
    "file = open(\"./results/bias_test1.pkl\", 'wb')\n",
    "pkl.dump(results, file)\n",
    "file.close()"
   ]
  },
  {
   "cell_type": "code",
   "execution_count": 9,
   "metadata": {},
   "outputs": [],
   "source": [
    "results = pkl.load(open(\"./results/bias_test1.pkl\", 'rb'))\n",
    "statistics = {}\n",
    "\n",
    "for p in results:\n",
    "    for clf in classifiers_labels:\n",
    "        scores = results[p][clf]\n",
    "        mean_score = np.mean(scores)\n",
    "        stdev_score = np.std(scores)\n",
    "        statistics[clf] = statistics.get(clf, []) + [[mean_score, stdev_score]]"
   ]
  },
  {
   "cell_type": "code",
   "execution_count": 10,
   "metadata": {},
   "outputs": [
    {
     "data": {
      "image/png": "[encoded data removed]",
      "text/plain": [
       "<Figure size 720x360 with 1 Axes>"
      ]
     },
     "metadata": {
      "needs_background": "light"
     },
     "output_type": "display_data"
    }
   ],
   "source": [
    "plt.figure(figsize=(10, 5))\n",
    "\n",
    "for clf in classifiers_labels:\n",
    "    y = np.array(statistics[clf])\n",
    "    plt.errorbar(percentages, y[:, 0], yerr=y[:, 1])\n",
    "\n",
    "plt.legend(classifiers_labels)\n",
    "plt.xlabel(\"Training size (%)\")\n",
    "plt.ylabel(\"Bias Score\")\n",
    "plt.show()"
   ]
  },
  {
   "cell_type": "markdown",
   "metadata": {},
   "source": [
    "### Test 2"
   ]
  },
  {
   "cell_type": "code",
   "execution_count": null,
   "metadata": {},
   "outputs": [],
   "source": [
    "def experiment2(nc, i, seed):\n",
    "    np.random.seed(seed)\n",
    "    \n",
    "    results = {}\n",
    "    mdscan_data_local = mdscan_data.copy()\n",
    "    \n",
    "    # define scanner\n",
    "    scanner = MDSS(\n",
    "        optim_q_mle=bisection_q_mle,\n",
    "        solver_q_min=bisection_q_min,\n",
    "        solver_q_max=bisection_q_max,\n",
    "    )\n",
    "    \n",
    "    for clf_label in classifiers_labels:\n",
    "        # load probability column for the current experiment\n",
    "        filename = \"./training/test2/clf=%s_nc=%d_i=%d.pkl\" % (clf_label, nc, i)\n",
    "        file = open(filename, 'rb')\n",
    "        proba = pkl.load(file)\n",
    "        file.close()\n",
    "        \n",
    "        # add probability column\n",
    "        mdscan_data_local[\"proba\"] = proba\n",
    "\n",
    "        # run MDSS\n",
    "        subset, score = scanner.run_bias_scan(\n",
    "            coordinates=mdscan_data_local[covariates],\n",
    "            probs=mdscan_data_local['proba'], \n",
    "            outcomes=mdscan_data_local['outcome'],\n",
    "            penalty=PENALTY, \n",
    "            num_iters=NUM_RESTARTS, \n",
    "            direction=DIRECTION,\n",
    "            num_threads=1\n",
    "        )\n",
    "        results[clf_label] = score\n",
    "        \n",
    "    return results"
   ]
  },
  {
   "cell_type": "code",
   "execution_count": 11,
   "metadata": {},
   "outputs": [],
   "source": [
    "num_covariates = [1, 2, 3, 4, 5]"
   ]
  },
  {
   "cell_type": "code",
   "execution_count": null,
   "metadata": {},
   "outputs": [],
   "source": [
    "num_experiments = NUM_EXPERIMENTS\n",
    "results = {}\n",
    "acc = {}\n",
    "\n",
    "# start time\n",
    "start = time.time()\n",
    "\n",
    "# define thread pool\n",
    "pool = Pool(processes=cpu_count() - 1)\n",
    "\n",
    "for nc in num_covariates:\n",
    "    results[nc] = {}    \n",
    "    acc[nc] = []\n",
    "    seeds = np.random.randint(0, 99999, size=num_experiments)\n",
    "    \n",
    "    for i in range(num_experiments):\n",
    "        acc[nc].append(pool.apply_async(experiment2, (nc, i, seeds[i])))\n",
    "        \n",
    "# close thread pool & wait for all jobs to be done\n",
    "pool.close()\n",
    "pool.join()\n",
    "\n",
    "for nc in num_covariates:\n",
    "    # collect the results\n",
    "    acc[nc] = [res.get() for res in acc[nc]]\n",
    "    \n",
    "    for clf_label in classifiers_labels:\n",
    "        for res in acc[nc]:\n",
    "            results[nc][clf_label] = results[nc].get(clf_label, []) + [res[clf_label]]\n",
    "            \n",
    "# print duration\n",
    "print(\"Ellapsed: %.2f\" % (time.time() - start))"
   ]
  },
  {
   "cell_type": "code",
   "execution_count": null,
   "metadata": {},
   "outputs": [],
   "source": [
    "# save results\n",
    "file = open(\"./results/bias_test2.pkl\", 'wb')\n",
    "pkl.dump(results, file)\n",
    "file.close()"
   ]
  },
  {
   "cell_type": "code",
   "execution_count": 12,
   "metadata": {},
   "outputs": [],
   "source": [
    "results = pkl.load(open(\"./results/bias_test2.pkl\", 'rb'))\n",
    "statistics = {}\n",
    "\n",
    "for nc in results:\n",
    "    for clf in classifiers_labels:\n",
    "        scores = results[nc][clf]\n",
    "        mean_score = np.mean(scores)\n",
    "        stdev_score = np.std(scores)\n",
    "        \n",
    "        buffer = statistics.get(clf, [])\n",
    "        statistics[clf] = buffer + [[mean_score, stdev_score]]"
   ]
  },
  {
   "cell_type": "code",
   "execution_count": 13,
   "metadata": {},
   "outputs": [
    {
     "data": {
      "image/png": "[encoded data removed]",
      "text/plain": [
       "<Figure size 720x360 with 1 Axes>"
      ]
     },
     "metadata": {
      "needs_background": "light"
     },
     "output_type": "display_data"
    }
   ],
   "source": [
    "plt.figure(figsize=(10, 5))\n",
    "\n",
    "for clf in classifiers_labels:\n",
    "    y = np.array(statistics[clf])\n",
    "    plt.errorbar(num_covariates, y[:, 0], yerr=y[:, 1])\n",
    "\n",
    "plt.legend(classifiers_labels)\n",
    "plt.xlabel(\"Num. covariates dropped\")\n",
    "plt.ylabel(\"Bias Score\")\n",
    "plt.show()"
   ]
  },
  {
   "cell_type": "markdown",
   "metadata": {},
   "source": [
    "### Utils"
   ]
  },
  {
   "cell_type": "code",
   "execution_count": null,
   "metadata": {},
   "outputs": [],
   "source": [
    "def get_subpopulation(df: pd.DataFrame, covariates: dict) -> pd.DataFrame:\n",
    "    \"\"\"\n",
    "    Function that returns the sub-population according to the attributes dictionary passed as argument.\n",
    "    Ex: {gender: [male, female], race: [white, black]}. Returns a data frame containing all rows containing\n",
    "    a male or a female which is black or white.\n",
    "\n",
    "    @param df: population\n",
    "    @param covariates: dictionary where keys are attributes and values are lists of values\n",
    "    corresponding to that attribute.\n",
    "    :return: restricted sub-population imposed by attributes\n",
    "    \"\"\"\n",
    "    # check if dictionary is empty\n",
    "    if not covariates:\n",
    "        return df\n",
    "\n",
    "    mask = np.ones(df.shape[0], dtype=np.bool)\n",
    "    for covariate in covariates:\n",
    "        mask &= np.isin(df[covariate].to_numpy(), covariates[covariate])\n",
    "\n",
    "    return df[mask]"
   ]
  },
  {
   "cell_type": "code",
   "execution_count": null,
   "metadata": {},
   "outputs": [],
   "source": [
    "def get_accuracy(df: pd.DataFrame, s_affected: dict, s_found: dict, ys_cname:str, ps_cname: str):\n",
    "    \"\"\"\n",
    "    Compute accuracy given a sub-population, the affected sub-population\n",
    "    and the sub-population reported by MDSS. Accuracy is computed as the intersection/union of the\n",
    "    two sub-population, affected & found, for the current dataframe\n",
    "\n",
    "    @param df: dataframe sub-population (treatment sub-population)\n",
    "    @param s_affected: sub-population affected\n",
    "    @param s_found: sub-population reported by MDSS\n",
    "    @param ys_cname: outcome column name\n",
    "    @param ps_cname: probability column name\n",
    "    :return: accuracy\n",
    "    \"\"\"\n",
    "    # select affected & found sub-population\n",
    "    df_affected = get_subpopulation(df, s_affected)\n",
    "    df_found = get_subpopulation(df, s_found)\n",
    "\n",
    "    df_affected = df_affected.drop([ys_cname, ps_cname], \"columns\").to_numpy()\n",
    "    df_found = df_found.drop([ys_cname, ps_cname], \"columns\").to_numpy()\n",
    "\n",
    "    # transform in sets\n",
    "    set_affected = set([tuple(x) for x in list(df_affected)])\n",
    "    set_found = set([tuple(x) for x in list(df_found)])\n",
    "\n",
    "    # compute intersection and union\n",
    "    len_intersection = len(set_affected.intersection(set_found))\n",
    "    len_union = len(set_affected.union(set_found))\n",
    "\n",
    "    return len_intersection / len_union"
   ]
  },
  {
   "cell_type": "markdown",
   "metadata": {},
   "source": [
    "### Test 3"
   ]
  },
  {
   "cell_type": "code",
   "execution_count": null,
   "metadata": {},
   "outputs": [],
   "source": [
    "def experiment3(p, i, seed):\n",
    "    np.random.randint(seed)\n",
    "    \n",
    "    mdscan_data_local = mdscan_data.copy()\n",
    "    results = {}\n",
    "    \n",
    "    # define scanner\n",
    "    scanner = MDSS(\n",
    "        optim_q_mle=bisection_q_mle,\n",
    "        solver_q_min=bisection_q_min,\n",
    "        solver_q_max=bisection_q_max,\n",
    "    )\n",
    "\n",
    "    for clf_label in classifiers_labels:\n",
    "        # load probability column for the current experiment\n",
    "        filename = \"./training/test3/clf=%s_p=%d_i=%d.pkl\" % (clf_label, p, i)\n",
    "        file = open(filename, 'rb')\n",
    "        proba = pkl.load(file)\n",
    "        file.close()\n",
    "        \n",
    "        # add probability column\n",
    "        mdscan_data_local[\"proba\"] = proba\n",
    "\n",
    "        # run MDSS\n",
    "        subset, score = scanner.run_bias_scan(\n",
    "            coordinates=mdscan_data_local[covariates],\n",
    "            probs=mdscan_data_local['proba'], \n",
    "            outcomes=mdscan_data_local['outcome'],\n",
    "            penalty=PENALTY, \n",
    "            num_iters=NUM_RESTARTS, \n",
    "            direction=DIRECTION,\n",
    "            num_threads=1\n",
    "        )\n",
    "        results[clf_label] = score\n",
    "    \n",
    "    return results"
   ]
  },
  {
   "cell_type": "code",
   "execution_count": 14,
   "metadata": {},
   "outputs": [],
   "source": [
    "percentages = [1, 2, 4, 8, 16, 32]"
   ]
  },
  {
   "cell_type": "code",
   "execution_count": null,
   "metadata": {},
   "outputs": [],
   "source": [
    "num_experiments = NUM_EXPERIMENTS\n",
    "results = {}\n",
    "acc = {}\n",
    "\n",
    "# transform categorical variables into dummy\n",
    "train_data = pd.get_dummies(mdscan_data, prefix=covariates, columns=covariates)\n",
    "\n",
    "# start time\n",
    "start = time.time()\n",
    "\n",
    "# define thread pool\n",
    "pool = Pool(processes=cpu_count() - 1)\n",
    "\n",
    "for p in percentages:\n",
    "    results[p] = {}    \n",
    "    acc[p] = []\n",
    "    seeds = np.random.randint(0, 99999, size=num_experiments)\n",
    "    \n",
    "    for i in range(num_experiments):\n",
    "        acc[p].append(pool.apply_async(experiment3, (p, i, seeds[i])))\n",
    "        \n",
    "# close thread pool & wait for all jobs to be done\n",
    "pool.close()\n",
    "pool.join()\n",
    "\n",
    "for p in percentages:\n",
    "    # collect the results\n",
    "    acc[p] = [res.get() for res in acc[p]]\n",
    "    \n",
    "    for clf_label in classifiers_labels:\n",
    "        for res in acc[p]:\n",
    "            results[p][clf_label] = results[p].get(clf_label, []) + [res[clf_label]]\n",
    "            \n",
    "# print duration\n",
    "print(\"Ellapsed: %.2f\" % (time.time() - start))"
   ]
  },
  {
   "cell_type": "code",
   "execution_count": null,
   "metadata": {},
   "outputs": [],
   "source": [
    "# save results\n",
    "file = open(\"./results/bias_test3.pkl\", 'wb')\n",
    "pkl.dump(results, file)\n",
    "file.close()"
   ]
  },
  {
   "cell_type": "code",
   "execution_count": 15,
   "metadata": {},
   "outputs": [],
   "source": [
    "results = pkl.load(open(\"./results/bias_test3.pkl\", 'rb'))\n",
    "statistics = {}\n",
    "\n",
    "for p in results:\n",
    "    for clf in classifiers_labels:\n",
    "        scores = results[p][clf]\n",
    "        mean_score = np.mean(scores)\n",
    "        stdev_score = np.std(scores)\n",
    "        \n",
    "        buffer = statistics.get(clf, [])\n",
    "        statistics[clf] = buffer + [[mean_score, stdev_score]]"
   ]
  },
  {
   "cell_type": "code",
   "execution_count": 16,
   "metadata": {},
   "outputs": [
    {
     "data": {
      "image/png": "[encoded data removed]",
      "text/plain": [
       "<Figure size 720x360 with 1 Axes>"
      ]
     },
     "metadata": {
      "needs_background": "light"
     },
     "output_type": "display_data"
    }
   ],
   "source": [
    "plt.figure(figsize=(10, 5))\n",
    "\n",
    "for clf in classifiers_labels:\n",
    "    y = np.array(statistics[clf])\n",
    "    plt.errorbar(percentages, y[:, 0], yerr=y[:, 1])\n",
    "\n",
    "plt.legend(classifiers_labels)\n",
    "plt.xlabel(\"Training size (%)\")\n",
    "plt.ylabel(\"Bias Score\")\n",
    "plt.show()"
   ]
  },
  {
   "cell_type": "markdown",
   "metadata": {},
   "source": [
    "### Test 4"
   ]
  },
  {
   "cell_type": "code",
   "execution_count": null,
   "metadata": {},
   "outputs": [],
   "source": [
    "def experiment4(q, i, seed):\n",
    "    np.random.seed(seed)\n",
    "\n",
    "    score_results = {}\n",
    "    accuracy_results = {}\n",
    "    mdscan_data_local = mdscan_data.copy()\n",
    "    \n",
    "    # define scanner\n",
    "    scanner = MDSS(\n",
    "        optim_q_mle=bisection_q_mle,\n",
    "        solver_q_min=bisection_q_min,\n",
    "        solver_q_max=bisection_q_max,\n",
    "    )\n",
    "    \n",
    "    for clf_label in classifiers_labels:\n",
    "        # load outcome, probability and affected sub-population for the current experiment\n",
    "        filename = \"./training/test4/clf=%s_q=%.2f_i=%d.pkl\" % (clf_label, q, i)\n",
    "        file = open(filename, 'rb')\n",
    "        proba, s_affected = pkl.load(file)\n",
    "        file.close()\n",
    "        \n",
    "        # add probability column\n",
    "        mdscan_data_local[\"proba\"] = proba\n",
    "\n",
    "        # run MDSS\n",
    "        subset, score = scanner.run_bias_scan(\n",
    "            coordinates=mdscan_data_local[covariates],\n",
    "            probs=mdscan_data_local['proba'], \n",
    "            outcomes=mdscan_data_local['outcome'],\n",
    "            penalty=PENALTY, \n",
    "            num_iters=NUM_RESTARTS, \n",
    "            direction=DIRECTION,\n",
    "            num_threads=1\n",
    "        )\n",
    "        accuracy = get_accuracy(mdscan_data_local, s_affected=s_affected, s_found=subset,\n",
    "                               ys_cname=\"outcome\", ps_cname=\"proba\")\n",
    "\n",
    "        # buffer score for the current clssifier\n",
    "        score_results[clf_label] = score\n",
    "        accuracy_results[clf_label] = accuracy\n",
    "        \n",
    "    return score_results, accuracy_results"
   ]
  },
  {
   "cell_type": "code",
   "execution_count": 17,
   "metadata": {},
   "outputs": [],
   "source": [
    "qs = [.9, .7, .5, .3, .1]"
   ]
  },
  {
   "cell_type": "code",
   "execution_count": null,
   "metadata": {},
   "outputs": [],
   "source": [
    "num_experiments = NUM_EXPERIMENTS\n",
    "score_results = {}\n",
    "accuracy_results = {}\n",
    "acc = {}\n",
    "\n",
    "# transform categorical variables into dummy\n",
    "train_data = pd.get_dummies(mdscan_data, prefix=covariates, columns=covariates)\n",
    "\n",
    "# start time\n",
    "start = time.time()\n",
    "\n",
    "# define thread pool\n",
    "pool = Pool(processes=cpu_count() - 1)\n",
    "    \n",
    "for q in qs:\n",
    "    score_results[q] = {}\n",
    "    accuracy_results[q] = {}   \n",
    "    acc[q] = []\n",
    "    seeds = np.random.randint(0, 99999, size=num_experiments)\n",
    "    \n",
    "    for i in range(num_experiments):\n",
    "        acc[q].append(pool.apply_async(experiment4, (q, i, seeds[i])))\n",
    "        \n",
    "# close thread pool & wait for all jobs to be done\n",
    "pool.close()\n",
    "pool.join()\n",
    "\n",
    "\n",
    "for q in qs:\n",
    "    # collect the results\n",
    "    score_acc = [res.get()[0] for res in acc[q]]\n",
    "    accuracy_acc = [res.get()[1] for res in acc[q]]\n",
    "    \n",
    "    for clf_label in classifiers_labels:\n",
    "        for score_res in score_acc:\n",
    "            score_results[q][clf_label] = score_results[q].get(clf_label, []) + [score_res[clf_label]]\n",
    "        \n",
    "        for accuracy_res in accuracy_acc:\n",
    "            accuracy_results[q][clf_label] = accuracy_results[q].get(clf_label, []) + [accuracy_res[clf_label]]\n",
    "\n",
    "# print duration\n",
    "print(\"Ellapsed: %.2f\" % (time.time() - start))"
   ]
  },
  {
   "cell_type": "code",
   "execution_count": null,
   "metadata": {},
   "outputs": [],
   "source": [
    "# save results\n",
    "file = open(\"./results/bias_test4_score.pkl\", 'wb')\n",
    "pkl.dump(score_results, file)\n",
    "file.close()"
   ]
  },
  {
   "cell_type": "code",
   "execution_count": 18,
   "metadata": {},
   "outputs": [],
   "source": [
    "score_results = pkl.load(open(\"./results/bias_test4_score.pkl\", 'rb'))\n",
    "statistics = {}\n",
    "\n",
    "for q in score_results:\n",
    "    for clf in classifiers_labels:\n",
    "        scores = score_results[q][clf]\n",
    "        mean_score = np.mean(scores)\n",
    "        stdev_score = np.std(scores)\n",
    "        \n",
    "        buffer = statistics.get(clf, [])\n",
    "        statistics[clf] = buffer + [[mean_score, stdev_score]]"
   ]
  },
  {
   "cell_type": "code",
   "execution_count": 19,
   "metadata": {},
   "outputs": [
    {
     "data": {
      "image/png": "[encoded data removed]",
      "text/plain": [
       "<Figure size 720x360 with 1 Axes>"
      ]
     },
     "metadata": {
      "needs_background": "light"
     },
     "output_type": "display_data"
    }
   ],
   "source": [
    "plt.figure(figsize=(10, 5))\n",
    "\n",
    "for clf in classifiers_labels:\n",
    "    y = np.array(statistics[clf])\n",
    "    plt.errorbar(qs, y[:, 0], yerr=y[:, 1])\n",
    "\n",
    "plt.legend(classifiers_labels)\n",
    "plt.xlabel(\"Risk factor\")\n",
    "plt.ylabel(\"Bias Score\")\n",
    "plt.show()"
   ]
  },
  {
   "cell_type": "code",
   "execution_count": null,
   "metadata": {},
   "outputs": [],
   "source": [
    "# save results\n",
    "file = open(\"./results/bias_test4_accuracy.pkl\", 'wb')\n",
    "pkl.dump(accuracy_results, file)\n",
    "file.close()"
   ]
  },
  {
   "cell_type": "code",
   "execution_count": 20,
   "metadata": {},
   "outputs": [],
   "source": [
    "accuracy_results = pkl.load(open(\"./results/bias_test4_accuracy.pkl\", 'rb'))\n",
    "statistics = {}\n",
    "\n",
    "for q in accuracy_results:\n",
    "    for clf in classifiers_labels:\n",
    "        accuracies = accuracy_results[q][clf]\n",
    "        mean_accuracy = np.mean(accuracies)\n",
    "        stdev_accuracy = np.std(accuracies)\n",
    "        \n",
    "        buffer = statistics.get(clf, [])\n",
    "        statistics[clf] = buffer + [[mean_accuracy, stdev_accuracy]]"
   ]
  },
  {
   "cell_type": "code",
   "execution_count": 21,
   "metadata": {},
   "outputs": [
    {
     "data": {
      "image/png": "[encoded data removed]",
      "text/plain": [
       "<Figure size 720x360 with 1 Axes>"
      ]
     },
     "metadata": {
      "needs_background": "light"
     },
     "output_type": "display_data"
    }
   ],
   "source": [
    "plt.figure(figsize=(10, 5))\n",
    "\n",
    "for clf in classifiers_labels:\n",
    "    y = np.array(statistics[clf])\n",
    "    plt.errorbar(qs, y[:, 0], yerr=y[:, 1])\n",
    "\n",
    "plt.legend(classifiers_labels)\n",
    "plt.xlabel(\"Risk factor\")\n",
    "plt.ylabel(\"Sub-popilation Accuracy\")\n",
    "plt.show()"
   ]
  },
  {
   "cell_type": "markdown",
   "metadata": {},
   "source": [
    "### Test 5"
   ]
  },
  {
   "cell_type": "code",
   "execution_count": null,
   "metadata": {},
   "outputs": [],
   "source": [
    "def experiment5(cov, i, seed):\n",
    "    np.random.seed(seed)\n",
    "    \n",
    "    results = {}\n",
    "    mdscan_data_local = mdscan_data.copy()\n",
    "    \n",
    "    # define scanner\n",
    "    scanner = MDSS(\n",
    "        optim_q_mle=bisection_q_mle,\n",
    "        solver_q_min=bisection_q_min,\n",
    "        solver_q_max=bisection_q_max,\n",
    "    )\n",
    "    \n",
    "    for clf_label in classifiers_labels:\n",
    "        # load probability column\n",
    "        filename = \"./training/test5/clf=%s_cov=%s_i=%d.pkl\" % (clf_label, cov, i)\n",
    "        file = open(filename, 'rb')\n",
    "        proba = pkl.load(file)\n",
    "        file.close()\n",
    "        \n",
    "        # add probability column\n",
    "        mdscan_data_local[\"proba\"] = proba\n",
    "\n",
    "        # run MDSS\n",
    "        subset, score = scanner.run_bias_scan(\n",
    "            coordinates=mdscan_data_local[covariates],\n",
    "            probs=mdscan_data_local['proba'], \n",
    "            outcomes=mdscan_data_local['outcome'],\n",
    "            penalty=PENALTY, \n",
    "            num_iters=NUM_RESTARTS, \n",
    "            direction=DIRECTION,\n",
    "            num_threads=1\n",
    "        )\n",
    "\n",
    "        # buffer score for the current clssifier\n",
    "        results[clf_label] = score\n",
    "\n",
    "    return results"
   ]
  },
  {
   "cell_type": "code",
   "execution_count": null,
   "metadata": {},
   "outputs": [],
   "source": [
    "num_experiments = NUM_EXPERIMENTS\n",
    "num_rows = mdscan_data.shape[0]\n",
    "results = {}\n",
    "acc = {}\n",
    "\n",
    "# start time\n",
    "start = time.time()\n",
    "\n",
    "# define thread pool\n",
    "pool = Pool(processes=cpu_count() - 1)\n",
    "\n",
    "extended_cov = [None] + covariates\n",
    "for cov in extended_cov:\n",
    "    results[cov] = {}\n",
    "    seeds = np.random.randint(0, 99999, size=num_experiments)\n",
    "    acc[cov] = []\n",
    "    \n",
    "    for i in range(num_experiments):\n",
    "        acc[cov].append(pool.apply_async(experiment5, (cov, i, seeds[i])))\n",
    "        \n",
    "# close thread pool & wait for all jobs to be done\n",
    "pool.close()\n",
    "pool.join()\n",
    "\n",
    "for cov in extended_cov:\n",
    "    # collect the results\n",
    "    acc[cov] = [res.get() for res in acc[cov]]\n",
    "    \n",
    "    for clf_label in classifiers_labels:\n",
    "        for res in acc[cov]:\n",
    "            results[cov][clf_label] = results[cov].get(clf_label, []) + [res[clf_label]]\n",
    "            \n",
    "# print duration\n",
    "print(\"Ellapsed: %.2f\" % (time.time() - start))"
   ]
  },
  {
   "cell_type": "code",
   "execution_count": null,
   "metadata": {},
   "outputs": [],
   "source": [
    "# save results\n",
    "file = open(\"./results/bias_test5.pkl\", 'wb')\n",
    "pkl.dump(results, file)\n",
    "file.close()"
   ]
  },
  {
   "cell_type": "code",
   "execution_count": 22,
   "metadata": {},
   "outputs": [],
   "source": [
    "results = pkl.load(open(\"./results/bias_test5.pkl\", 'rb'))\n",
    "statistics = {}\n",
    "extended_cov = [None] + covariates\n",
    "\n",
    "for clf in classifiers_labels:\n",
    "    statistics[clf] = []\n",
    "    \n",
    "    for cov in extended_cov:\n",
    "        statistics[clf].append(np.mean(results[cov][clf]))"
   ]
  },
  {
   "cell_type": "code",
   "execution_count": 23,
   "metadata": {},
   "outputs": [
    {
     "data": {
      "image/png": "[encoded data removed]",
      "text/plain": [
       "<Figure size 720x360 with 1 Axes>"
      ]
     },
     "metadata": {
      "needs_background": "light"
     },
     "output_type": "display_data"
    }
   ],
   "source": [
    "# set width of bar\n",
    "bar_width = 0.15\n",
    " \n",
    "rs = [np.arange(len(extended_cov))]\n",
    "for i in range(1, len(classifiers_labels)):\n",
    "    r = np.array([x + bar_width for x in rs[i - 1]])\n",
    "    rs.append(r)\n",
    "\n",
    "colors = ['blue', 'orange', 'green', 'red', 'purple']\n",
    "\n",
    "plt.figure(figsize=(10, 5))\n",
    "# Make the plot\n",
    "for idx, clf in enumerate(classifiers_labels):\n",
    "    plt.bar(rs[idx], statistics[clf], color=colors[idx], width=bar_width, edgecolor='white', label=clf)\n",
    "\n",
    "extended_cov[0] = 'No cov. dropped'\n",
    "plt.ylabel('Bias Score')\n",
    "plt.xticks([r + bar_width for r in range(len(rs[0]))], extended_cov, rotation=20)\n",
    " \n",
    "# Create legend & Show graphic\n",
    "plt.legend()\n",
    "plt.show()"
   ]
  },
  {
   "cell_type": "code",
   "execution_count": 24,
   "metadata": {},
   "outputs": [
    {
     "data": {
      "text/html": [
       "<div>\n",
       "<style scoped>\n",
       "    .dataframe tbody tr th:only-of-type {\n",
       "        vertical-align: middle;\n",
       "    }\n",
       "\n",
       "    .dataframe tbody tr th {\n",
       "        vertical-align: top;\n",
       "    }\n",
       "\n",
       "    .dataframe thead th {\n",
       "        text-align: right;\n",
       "    }\n",
       "</style>\n",
       "<table border=\"1\" class=\"dataframe\">\n",
       "  <thead>\n",
       "    <tr style=\"text-align: right;\">\n",
       "      <th></th>\n",
       "      <th>LogisticRegression</th>\n",
       "      <th>RandomForestClassifier</th>\n",
       "      <th>SVC</th>\n",
       "      <th>KNeighborsClassifier</th>\n",
       "      <th>MLPClassifier</th>\n",
       "    </tr>\n",
       "  </thead>\n",
       "  <tbody>\n",
       "    <tr>\n",
       "      <th>No cov. dropped</th>\n",
       "      <td>24.924921</td>\n",
       "      <td>93.125541</td>\n",
       "      <td>108.791722</td>\n",
       "      <td>36.047028</td>\n",
       "      <td>48.053984</td>\n",
       "    </tr>\n",
       "    <tr>\n",
       "      <th>age</th>\n",
       "      <td>51.967192</td>\n",
       "      <td>121.776789</td>\n",
       "      <td>169.717269</td>\n",
       "      <td>63.962345</td>\n",
       "      <td>59.548440</td>\n",
       "    </tr>\n",
       "    <tr>\n",
       "      <th>workclass</th>\n",
       "      <td>24.853007</td>\n",
       "      <td>82.627745</td>\n",
       "      <td>115.972774</td>\n",
       "      <td>44.751360</td>\n",
       "      <td>43.838014</td>\n",
       "    </tr>\n",
       "    <tr>\n",
       "      <th>education</th>\n",
       "      <td>123.210251</td>\n",
       "      <td>172.108663</td>\n",
       "      <td>218.926301</td>\n",
       "      <td>122.199710</td>\n",
       "      <td>114.013197</td>\n",
       "    </tr>\n",
       "    <tr>\n",
       "      <th>marital-status</th>\n",
       "      <td>255.301469</td>\n",
       "      <td>339.005962</td>\n",
       "      <td>398.136733</td>\n",
       "      <td>245.796175</td>\n",
       "      <td>277.680445</td>\n",
       "    </tr>\n",
       "    <tr>\n",
       "      <th>occupation</th>\n",
       "      <td>45.874392</td>\n",
       "      <td>144.133992</td>\n",
       "      <td>181.103697</td>\n",
       "      <td>85.244199</td>\n",
       "      <td>48.695131</td>\n",
       "    </tr>\n",
       "    <tr>\n",
       "      <th>race</th>\n",
       "      <td>25.763164</td>\n",
       "      <td>80.879933</td>\n",
       "      <td>115.760085</td>\n",
       "      <td>41.806783</td>\n",
       "      <td>39.854905</td>\n",
       "    </tr>\n",
       "    <tr>\n",
       "      <th>sex</th>\n",
       "      <td>23.232279</td>\n",
       "      <td>93.624925</td>\n",
       "      <td>107.417215</td>\n",
       "      <td>41.803297</td>\n",
       "      <td>46.368419</td>\n",
       "    </tr>\n",
       "    <tr>\n",
       "      <th>hours-per-week</th>\n",
       "      <td>34.124566</td>\n",
       "      <td>87.796881</td>\n",
       "      <td>137.414898</td>\n",
       "      <td>45.738588</td>\n",
       "      <td>50.772694</td>\n",
       "    </tr>\n",
       "  </tbody>\n",
       "</table>\n",
       "</div>"
      ],
      "text/plain": [
       "                 LogisticRegression  RandomForestClassifier         SVC  \\\n",
       "No cov. dropped           24.924921               93.125541  108.791722   \n",
       "age                       51.967192              121.776789  169.717269   \n",
       "workclass                 24.853007               82.627745  115.972774   \n",
       "education                123.210251              172.108663  218.926301   \n",
       "marital-status           255.301469              339.005962  398.136733   \n",
       "occupation                45.874392              144.133992  181.103697   \n",
       "race                      25.763164               80.879933  115.760085   \n",
       "sex                       23.232279               93.624925  107.417215   \n",
       "hours-per-week            34.124566               87.796881  137.414898   \n",
       "\n",
       "                 KNeighborsClassifier  MLPClassifier  \n",
       "No cov. dropped             36.047028      48.053984  \n",
       "age                         63.962345      59.548440  \n",
       "workclass                   44.751360      43.838014  \n",
       "education                  122.199710     114.013197  \n",
       "marital-status             245.796175     277.680445  \n",
       "occupation                  85.244199      48.695131  \n",
       "race                        41.806783      39.854905  \n",
       "sex                         41.803297      46.368419  \n",
       "hours-per-week              45.738588      50.772694  "
      ]
     },
     "execution_count": 24,
     "metadata": {},
     "output_type": "execute_result"
    }
   ],
   "source": [
    "table = pd.DataFrame(statistics, index=extended_cov)\n",
    "table"
   ]
  },
  {
   "cell_type": "code",
   "execution_count": null,
   "metadata": {},
   "outputs": [],
   "source": []
  }
 ],
 "metadata": {
  "kernelspec": {
   "display_name": "Python 3",
   "language": "python",
   "name": "python3"
  },
  "language_info": {
   "codemirror_mode": {
    "name": "ipython",
    "version": 3
   },
   "file_extension": ".py",
   "mimetype": "text/x-python",
   "name": "python",
   "nbconvert_exporter": "python",
   "pygments_lexer": "ipython3",
   "version": "3.7.4"
  }
 },
 "nbformat": 4,
 "nbformat_minor": 2
}
