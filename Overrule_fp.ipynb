{
 "cells": [
  {
   "cell_type": "code",
   "execution_count": 1,
   "metadata": {},
   "outputs": [],
   "source": [
    "import sys, os\n",
    "import numpy as np\n",
    "sys.path.append('./overlap-code')\n",
    "\n",
    "import matplotlib\n",
    "%matplotlib inline\n",
    "import matplotlib.pyplot as plt\n",
    "from matplotlib import patches\n",
    "import pandas as pd\n",
    "from sklearn.linear_model import LogisticRegression\n",
    "from sklearn.tree import DecisionTreeClassifier\n",
    "from sklearn import tree, datasets\n",
    "from sklearn.neighbors import KernelDensity, KNeighborsClassifier\n",
    "from sklearn import preprocessing\n",
    "from sklearn.model_selection import train_test_split, GridSearchCV\n",
    "from sklearn.calibration import CalibratedClassifierCV\n",
    "from sklearn.metrics import roc_auc_score, f1_score, balanced_accuracy_score, precision_recall_curve, accuracy_score\n",
    "from sklearn.preprocessing import StandardScaler\n",
    "from sklearn.pipeline import make_pipeline\n",
    "\n",
    "from overrule.overrule import OverRule2Stage, OverRule\n",
    "from overrule.baselines import knn, marginal, propscore, svm\n",
    "from overrule.support import SVMSupportEstimator, SupportEstimator\n",
    "from overrule.overlap import SupportOverlapEstimator\n",
    "from overrule.ruleset import BCSRulesetEstimator, RulesetEstimator\n",
    "\n",
    "from utils import get_data, rule_str"
   ]
  },
  {
   "cell_type": "code",
   "execution_count": 2,
   "metadata": {},
   "outputs": [],
   "source": [
    "SEED=0\n",
    "\n",
    "CNF=False\n",
    "VERBOSE=True\n",
    "\n",
    "ALPHA_s=0.99\n",
    "N_REF_MULT_s=0.3\n",
    "ALPHA_o=0.90\n",
    "N_REF_MULT_o=0\n",
    "\n",
    "LAMBDA0_s=0.1 # | 1e-05 fixed cost of term, the smaller the more rules you'll allow \n",
    "LAMBDA1_s=0.001 # cost per literal\n",
    "\n",
    "LAMBDA0_o=0.0000001 # fixed cost of term, the smaller the more rules you'll allow \n",
    "LAMBDA1_o=0.0000001 # cost per literal\n",
    "\n",
    "D=10  # Maximum extra rules per beam seach iteration\n",
    "K=10  # Maximum results returned during beam search\n",
    "B=28  # Width of Beam Search\n",
    "\n",
    "np.random.seed(SEED)\n",
    "w_eps = 1e-8\n",
    "CAT_COLS = []\n"
   ]
  },
  {
   "cell_type": "code",
   "execution_count": 3,
   "metadata": {},
   "outputs": [],
   "source": [
    "data = pd.read_csv('data/fp_pca.csv')\n",
    "X_df, a, y = get_data(data, data.columns[:-2])\n",
    "# X_df = X_df[X_df['v312_3'] == 1]"
   ]
  },
  {
   "cell_type": "code",
   "execution_count": 4,
   "metadata": {},
   "outputs": [
    {
     "data": {
      "text/plain": [
       "Pipeline(memory=None,\n",
       "     steps=[('standardscaler', StandardScaler(copy=True, with_mean=True, with_std=True)), ('gridsearchcv', GridSearchCV(cv=5, error_score='raise-deprecating',\n",
       "       estimator=CalibratedClassifierCV(base_estimator=LogisticRegression(C=1.0, class_weight='balanced', dual=False,\n",
       "          fit_intercept=True...e_dispatch='2*n_jobs', refit=True, return_train_score='warn',\n",
       "       scoring='roc_auc', verbose=0))])"
      ]
     },
     "execution_count": 4,
     "metadata": {},
     "output_type": "execute_result"
    }
   ],
   "source": [
    "base_estimator = LogisticRegression(\n",
    "    penalty=\"l2\", \n",
    "    max_iter=2000,\n",
    "    class_weight=\"balanced\",\n",
    "    random_state=2,\n",
    "    solver='lbfgs'\n",
    ")\n",
    "learner = CalibratedClassifierCV(base_estimator=base_estimator, cv=5, method='sigmoid')\n",
    "param_grid = {'base_estimator__C': np.logspace(-5, 0, 20)}\n",
    "search = GridSearchCV(learner, param_grid, cv=5, scoring='roc_auc')\n",
    "\n",
    "model = make_pipeline(StandardScaler(), search)\n",
    "model.fit(X_df, a)"
   ]
  },
  {
   "cell_type": "code",
   "execution_count": 5,
   "metadata": {},
   "outputs": [
    {
     "data": {
      "text/plain": [
       "Pipeline(memory=None,\n",
       "     steps=[('standardscaler', StandardScaler(copy=True, with_mean=True, with_std=True)), ('calibratedclassifiercv', CalibratedClassifierCV(base_estimator=LogisticRegression(C=0.002335721469090121, class_weight='balanced',\n",
       "          dual=False, fit_intercept=True, intercept_scaling=1,\n",
       "          max_iter=2000, multi_class='warn', n_jobs=None, penalty='l2',\n",
       "          random_state=2, solver='lbfgs', tol=0.0001, verbose=0,\n",
       "          warm_start=False),\n",
       "            cv=5, method='sigmoid'))])"
      ]
     },
     "execution_count": 5,
     "metadata": {},
     "output_type": "execute_result"
    }
   ],
   "source": [
    "clrmodel = make_pipeline(StandardScaler(), model.steps[1][1].best_estimator_) \n",
    "clrmodel.fit(X_df, a)"
   ]
  },
  {
   "cell_type": "code",
   "execution_count": 6,
   "metadata": {},
   "outputs": [
    {
     "data": {
      "text/plain": [
       "0.8104565684551241"
      ]
     },
     "execution_count": 6,
     "metadata": {},
     "output_type": "execute_result"
    }
   ],
   "source": [
    "a_pred = clrmodel.predict_proba(X_df)[:,1]\n",
    "roc_auc_score(a, a_pred, sample_weight=None)"
   ]
  },
  {
   "cell_type": "code",
   "execution_count": 7,
   "metadata": {},
   "outputs": [],
   "source": [
    "def OverruleFit(model, X_df_sample, a_sample, LAMBDA0_s, LAMBDA1_s):\n",
    "\n",
    "    f_cols = X_df_sample.columns\n",
    "    O = propscore.PropensityOverlapEstimator(estimator=model)\n",
    "\n",
    "    RS_s = BCSRulesetEstimator(n_ref_multiplier=N_REF_MULT_s, alpha=ALPHA_s, lambda0=LAMBDA0_s, lambda1=LAMBDA1_s, B=B, CNF=CNF, \n",
    "                               cat_cols=CAT_COLS, seed=SEED, K=K, D=D, binarizer='tree')\n",
    "    RS_o = BCSRulesetEstimator(n_ref_multiplier=N_REF_MULT_o, alpha=ALPHA_o, lambda0=LAMBDA0_o, lambda1=LAMBDA1_o, B=B, CNF=CNF, \n",
    "                               cat_cols=CAT_COLS, seed=SEED, binarizer='tree')\n",
    "\n",
    "    RS_s.fit(X_df_sample, a_sample)\n",
    "    M = OverRule2Stage(O, RS_o, RS_s, refit_s=False)\n",
    "    M.fit(X_df_sample, a_sample)\n",
    "    \n",
    "    TPR = RS_s.predict(X_df_sample).mean()\n",
    "    FPR = RS_s.relative_volume\n",
    "    auc = 1/2 -  (FPR)/2 + TPR/2\n",
    "    score_base = M.score_vs_base(X_df_sample)\n",
    "    \n",
    "    return M, RS_s, RS_o, auc, score_base"
   ]
  },
  {
   "cell_type": "code",
   "execution_count": 8,
   "metadata": {},
   "outputs": [
    {
     "name": "stdout",
     "output_type": "stream",
     "text": [
      "(302221, 28)\n",
      "(5168, 30)\n"
     ]
    }
   ],
   "source": [
    "M_clr, RS_s_clr, RS_o_clr, auc_clr, score_base_clr = OverruleFit(clrmodel, X_df, a, LAMBDA0_s, LAMBDA1_s)"
   ]
  },
  {
   "cell_type": "code",
   "execution_count": 9,
   "metadata": {},
   "outputs": [
    {
     "name": "stdout",
     "output_type": "stream",
     "text": [
      "0.7921542535605298\n",
      "0.8696282992977642\n"
     ]
    }
   ],
   "source": [
    "rules_clr = M_clr.rules(as_str=False)\n",
    "print(auc_clr)\n",
    "print(score_base_clr)"
   ]
  },
  {
   "cell_type": "code",
   "execution_count": 10,
   "metadata": {},
   "outputs": [
    {
     "name": "stdout",
     "output_type": "stream",
     "text": [
      "(6, 30)\n",
      "(2, 7)\n"
     ]
    }
   ],
   "source": [
    "print(RS_o_clr.complexity())\n",
    "print(RS_s_clr.complexity())"
   ]
  },
  {
   "cell_type": "code",
   "execution_count": 11,
   "metadata": {},
   "outputs": [
    {
     "data": {
      "text/plain": [
       "(0.99, 0.1, 0.001, 1e-07, 1e-07)"
      ]
     },
     "execution_count": 11,
     "metadata": {},
     "output_type": "execute_result"
    }
   ],
   "source": [
    "ALPHA_s, LAMBDA0_s, LAMBDA1_s, LAMBDA0_o, LAMBDA1_o"
   ]
  },
  {
   "cell_type": "code",
   "execution_count": 12,
   "metadata": {},
   "outputs": [
    {
     "data": {
      "text/plain": [
       "Pipeline(memory=None,\n",
       "     steps=[('standardscaler', StandardScaler(copy=True, with_mean=True, with_std=True)), ('gridsearchcv', GridSearchCV(cv=5, error_score='raise-deprecating',\n",
       "       estimator=CalibratedClassifierCV(base_estimator=KNeighborsClassifier(algorithm='auto', leaf_size=30, metric='minkowski',\n",
       "           metric_...e_dispatch='2*n_jobs', refit=True, return_train_score='warn',\n",
       "       scoring='roc_auc', verbose=0))])"
      ]
     },
     "execution_count": 12,
     "metadata": {},
     "output_type": "execute_result"
    }
   ],
   "source": [
    "base_estimator = KNeighborsClassifier()\n",
    "\n",
    "learner = CalibratedClassifierCV(base_estimator=base_estimator, cv=5, method='sigmoid')\n",
    "param_grid = {'base_estimator__n_neighbors': list(np.arange(30, 32, 2)), 'base_estimator__metric': ['minkowski']}\n",
    "search = GridSearchCV(learner, param_grid, cv=5, scoring='roc_auc')\n",
    "\n",
    "model = make_pipeline(StandardScaler(), search)\n",
    "model.fit(X_df, a)"
   ]
  },
  {
   "cell_type": "code",
   "execution_count": 13,
   "metadata": {},
   "outputs": [
    {
     "data": {
      "text/plain": [
       "Pipeline(memory=None,\n",
       "     steps=[('standardscaler', StandardScaler(copy=True, with_mean=True, with_std=True)), ('calibratedclassifiercv', CalibratedClassifierCV(base_estimator=KNeighborsClassifier(algorithm='auto', leaf_size=30, metric='minkowski',\n",
       "           metric_params=None, n_jobs=None, n_neighbors=30, p=2,\n",
       "           weights='uniform'),\n",
       "            cv=5, method='sigmoid'))])"
      ]
     },
     "execution_count": 13,
     "metadata": {},
     "output_type": "execute_result"
    }
   ],
   "source": [
    "knnmodel = make_pipeline(StandardScaler(), model.steps[1][1].best_estimator_) \n",
    "knnmodel.fit(X_df, a)"
   ]
  },
  {
   "cell_type": "code",
   "execution_count": 14,
   "metadata": {},
   "outputs": [
    {
     "name": "stdout",
     "output_type": "stream",
     "text": [
      "(302221, 28)\n",
      "(5168, 36)\n"
     ]
    }
   ],
   "source": [
    "M_knn, RS_s_knn, RS_o_knn, auc_knn, score_base_knn = OverruleFit(knnmodel, X_df, a, LAMBDA0_s, LAMBDA1_s)"
   ]
  },
  {
   "cell_type": "code",
   "execution_count": 15,
   "metadata": {},
   "outputs": [
    {
     "name": "stdout",
     "output_type": "stream",
     "text": [
      "0.7921542535605298\n",
      "0.8879001823121724\n"
     ]
    }
   ],
   "source": [
    "rules_knn = M_knn.rules(as_str=False)\n",
    "print(auc_knn)\n",
    "print(score_base_knn)"
   ]
  },
  {
   "cell_type": "code",
   "execution_count": 19,
   "metadata": {},
   "outputs": [
    {
     "name": "stdout",
     "output_type": "stream",
     "text": [
      "(6, 20)\n",
      "(2, 7)\n"
     ]
    }
   ],
   "source": [
    "print(RS_o_knn.complexity())\n",
    "print(RS_s_knn.complexity())"
   ]
  },
  {
   "cell_type": "code",
   "execution_count": 20,
   "metadata": {},
   "outputs": [],
   "source": [
    "model = 'clr'\n",
    "rules = rules_clr\n",
    "RS_s = RS_s_clr\n",
    "RS_o = RS_o_clr\n",
    "auc = auc_clr\n",
    "score_base  = score_base_clr"
   ]
  },
  {
   "cell_type": "code",
   "execution_count": 28,
   "metadata": {},
   "outputs": [],
   "source": [
    "import time\n",
    "outfile = open('results.txt', 'a+')\n",
    "\n",
    "\n",
    "outfile.write('Time: {}\\n'.format(time.time()))\n",
    "outfile.write('Binarizer: {}, {}\\n'.format(RS_s.binarizer, RS_o.binarizer))\n",
    "outfile.write('Params (knn): N_REF_MULT_s {}, N_REF_MULT_o {}, ALPHA_s {}, ALPHA_o {}, LAMBDA0_s {}, \\\n",
    "                LAMBDA1_s {}, LAMBDA0_o {}, LAMBDA1_o {}, B {}, CNF {}\\n\\n'.\n",
    "                    format(N_REF_MULT_s, N_REF_MULT_o, ALPHA_s, ALPHA_o, LAMBDA0_s, LAMBDA1_s, LAMBDA0_o, LAMBDA1_o, B, CNF))\n",
    "\n",
    "outfile.write('Number of reference samples: {}\\n'.format(RS_s.refSamples.shape[0]))\n",
    "outfile.write('Complexity: {}\\n'.format(RS_s.complexity()))\n",
    "outfile.write('Rules support: {}\\n\\n'.format(rule_str(rules[0])))\n",
    "outfile.write('Rules stats support: {}\\n\\n'.format(rules_stats(RS_s.rules, X_df, a))) \n",
    "outfile.write('Number of Rules: {}\\n'.format(np.sum([len(rule) for rule in rules])))\n",
    "outfile.write('Number of Literals: {}\\n'.format(np.sum([len(rule_) for rule in rules for rule_ in rule])))\n",
    "outfile.write('AUC: Coverage of data points (TPR) to Coverage of reference points: (FPR): {}\\n'.format(auc))\n",
    "outfile.write('AUC between rules and base estimator (propensity): {}\\n\\n'.format(score_base))\n",
    "\n",
    "outfile.close()"
   ]
  },
  {
   "cell_type": "code",
   "execution_count": 27,
   "metadata": {},
   "outputs": [],
   "source": [
    "from exps.supp_synthetic.synth_utils import compliance\n",
    "\n",
    "def rules_stats(r_rules, df, a):\n",
    "\n",
    "    rules = r_rules(transform=lambda a,b: b, fmt='%.1f')\n",
    "    n_rules = float(len(rules))\n",
    "    n_rules_literals = float(np.sum([len(rule) for rule in rules]))\n",
    "\n",
    "    # Record more detailed rules information, e.g., proportion covered\n",
    "    D = pd.concat([\n",
    "        df,\n",
    "        pd.DataFrame(np.ones_like(a), columns=['support_set'])\n",
    "        ], axis=1)\n",
    "    Cs = compliance(D, rules)\n",
    "\n",
    "    # This is everywhere, to be clear\n",
    "    I1 = np.where(D['support_set'].values==1)[0]\n",
    "\n",
    "    rule_stats = []\n",
    "    for i in range(len(rules)):\n",
    "        # Instances covered by rule\n",
    "        d = {}\n",
    "        d['rule'] = rules[i]\n",
    "        d['n_covered'] = float(Cs[i][:,I1].prod(0).sum())\n",
    "        d['p_covered'] = float(Cs[i][:,I1].prod(0).mean())\n",
    "        rule_stats.append(d)\n",
    "    return rule_stats"
   ]
  },
  {
   "cell_type": "code",
   "execution_count": 68,
   "metadata": {},
   "outputs": [],
   "source": [
    "hyp_res = []\n",
    "\n",
    "def find_hyp_config(hyp_res):\n",
    "    max_auc = 0\n",
    "    max_complexity = 0\n",
    "    max_hyp = {}\n",
    "    for res in hyp_res:\n",
    "        if res['auc'] > max_auc:\n",
    "            max_hyp = res\n",
    "            max_auc = res['auc']\n",
    "            max_complexity = res['complexity'][0] * res['complexity'][1]\n",
    "            \n",
    "    max_lambda1 = max_hyp['lambda1']\n",
    "    \n",
    "    candidates = []\n",
    "    for res in hyp_res:\n",
    "        if res['lambda1'] == max_lambda1:\n",
    "            \n",
    "            if res['complexity'][0] * res['complexity'][1] < max_complexity:\n",
    "                candidates.append(res)\n",
    "    \n",
    "    max_c_auc = 0\n",
    "    max_c = {}\n",
    "    for c in candidates:\n",
    "        if c['auc'] > max_c_auc:\n",
    "            max_c = c\n",
    "            max_c_auc = c['auc']\n",
    "        \n",
    "    return max_hyp, max_c"
   ]
  },
  {
   "cell_type": "code",
   "execution_count": null,
   "metadata": {},
   "outputs": [],
   "source": [
    "find_hyp_config(hyp_res)"
   ]
  },
  {
   "cell_type": "code",
   "execution_count": 35,
   "metadata": {},
   "outputs": [],
   "source": [
    "with open('varencoding.txt', 'r') as f: \n",
    "    entire_doc = f.read()\n",
    "\n",
    "encoding = entire_doc.split(';')\n",
    "\n",
    "var_encoding = dict()\n",
    "for var in encoding:\n",
    "    var = var.strip()\n",
    "    splits = var.split('\\n')\n",
    "    k = splits[0].replace('define', '').strip()\n",
    "    vs = {}\n",
    "    for i in range(1, len(splits)):\n",
    "        v = splits[i].strip().split(\" \\\"\")\n",
    "        vs.update({v[0]: v[1].replace('\"', '')})\n",
    "    \n",
    "    var_encoding.update({k.lower(): vs})\n",
    "\n",
    "var_list = pd.read_csv('data/encoding.csv')\n",
    "\n",
    "\n",
    "def transcribe(rule_stats):\n",
    "    for single_rset in rule_stats:\n",
    "        single_rset_rule = single_rset['rule']\n",
    "        p_covered = round(single_rset['p_covered'] * 100, 3)\n",
    "        print(p_covered)\n",
    "        for i in range(len(single_rset_rule)):\n",
    "            rule = single_rset_rule[i]\n",
    "            \n",
    "            if 'index' in rule[0]:\n",
    "                var = rule[0]\n",
    "                rule_str = var + \" \" + rule[1] + \" \" +  str(round(rule[2]))\n",
    "\n",
    "            elif '_' in rule[0]:\n",
    "                var = rule[0].split(\"_\")[0]\n",
    "                level = rule[0].split(\"_\")[1]\n",
    "\n",
    "                var_str = var_list[var_list['var_name'] == var].label.values[0]\n",
    "                level_str = var_encoding[var][level]\n",
    "\n",
    "                rule_str = var_str + \" is \" + rule[1] + \" \\\"\" + level_str + \"\\\"\"\n",
    "                \n",
    "            else:\n",
    "\n",
    "                var = rule[0]\n",
    "                var_str = var_list[var_list['var_name'] == var].label.values[0]\n",
    "                rule_str = var_str + \" \" + rule[1] + \" \" +  str(round(rule[2]))\n",
    "                \n",
    "                \n",
    "            if i != len(single_rset_rule) - 1:\n",
    "                rule_str = rule_str + \" and\"\n",
    "                    \n",
    "#             print(\"& \" + rule_str + \" \\\\\\\\\")\n",
    "            print(rule_str)\n",
    "        print('\\n')"
   ]
  },
  {
   "cell_type": "code",
   "execution_count": 30,
   "metadata": {},
   "outputs": [],
   "source": [
    "support_rule_stats = rules_stats(RS_s.rules, X_df, a)\n",
    "clr_rule_stats = rules_stats(RS_o.rules, X_df, a)"
   ]
  },
  {
   "cell_type": "code",
   "execution_count": 31,
   "metadata": {},
   "outputs": [],
   "source": [
    "pcas = [col for col in X_df.columns if 'index' in col]\n",
    "pcas = np.array_split(pcas, 2)"
   ]
  },
  {
   "cell_type": "code",
   "execution_count": 32,
   "metadata": {},
   "outputs": [
    {
     "data": {
      "image/png": "[encoded data removed]",
      "text/plain": [
       "<Figure size 1152x576 with 8 Axes>"
      ]
     },
     "metadata": {},
     "output_type": "display_data"
    }
   ],
   "source": [
    "fig, axs = plt.subplots(2, 4)\n",
    "fig.set_size_inches(16, 8)\n",
    "\n",
    "for i in range(2):\n",
    "    for j in range(4):\n",
    "        axs[i][j].hist(X_df[pcas[i][j]])"
   ]
  },
  {
   "cell_type": "code",
   "execution_count": 36,
   "metadata": {},
   "outputs": [
    {
     "name": "stdout",
     "output_type": "stream",
     "text": [
      "support\n",
      "12.427\n",
      "BirthCount_index > -5 and\n",
      "Residence_index <= 46 and\n",
      "Main wall material is not \"Stone with mud\" and\n",
      "Sons at home > 2 and\n",
      "Current contraceptive method is not \"Female sterilization\"\n",
      "\n",
      "\n",
      "79.058\n",
      "BirthCount_index > -5 and\n",
      "Sons at home <= 2\n",
      "\n",
      "\n",
      "overlap -clr\n",
      "35.422\n",
      "MaritalStatus_index > -1 and\n",
      "Wealth_Assets_index > -36570 and\n",
      "Ethnicity is not \"Boran\" and\n",
      "Ethnicity is not \"Maasai\" and\n",
      "Sons who have died <= 2 and\n",
      "Index last child prior to maternity-health (calendar) > 0 and\n",
      "Visited by fieldworker in last 12 months is not \"Yes\" and\n",
      "Cohabitation duration (grouped) is not \"0-4\"\n",
      "\n",
      "\n",
      "11.984\n",
      "MaritalStatus_index > -1 and\n",
      "Ethnicity is not \"Maasai\" and\n",
      "Current contraceptive method is  \"Implants/Norplant\" and\n",
      "Cohabitation duration (grouped) is not \"0-4\"\n",
      "\n",
      "\n",
      "27.385\n",
      "Ethnicity is not \"Maasai\" and\n",
      "Age of household head <= 46 and\n",
      "Current contraceptive method is  \"Injections\" and\n",
      "Visited by fieldworker in last 12 months is not \"Yes\"\n",
      "\n",
      "\n",
      "29.014\n",
      "MaritalStatus_index > -1 and\n",
      "Sons at home <= 4 and\n",
      "Current contraceptive method is  \"Injections\" and\n",
      "Cohabitation duration (grouped) is not \"0-4\"\n",
      "\n",
      "\n",
      "10.781\n",
      "MaritalStatus_index > -1 and\n",
      "Wealth_Assets_index <= -36570 and\n",
      "Ethnicity is not \"Maasai\" and\n",
      "Sons who have died <= 2 and\n",
      "Index last child prior to maternity-health (calendar) > 0 and\n",
      "Current contraceptive method is not \"Implants/Norplant\" and\n",
      "Current contraceptive method is not \"Injections\" and\n",
      "Cohabitation duration (grouped) is not \"0-4\"\n",
      "\n",
      "\n",
      "18.64\n",
      "Region is  \"Eastern\" and\n",
      "Ethnicity is not \"Boran\"\n",
      "\n",
      "\n"
     ]
    }
   ],
   "source": [
    "print(\"support\")\n",
    "transcribe(support_rule_stats)\n",
    "\n",
    "print(\"overlap -clr\")\n",
    "\n",
    "transcribe(clr_rule_stats)"
   ]
  },
  {
   "cell_type": "code",
   "execution_count": 37,
   "metadata": {},
   "outputs": [],
   "source": [
    "# support = X_df[(~X_df[\"v116_97\"].astype(bool) & ~X_df[\"v122_7\"].astype(bool) & (X_df[\"v201\"] > 0.500))| (X_df[\"v116_97\"].astype(bool) & X_df[\"v122_7\"].astype(bool) & (X_df[\"v201\"] > 0.500) & (X_df[\"v202\"] <= 2.500) & ~X_df[\"v513_3\"].astype(bool) & ~X_df[\"v602_4\"].astype(bool))]\n",
    "\n",
    "# propensity = X_df[((X_df[\"v191\"] <= 290545.000) & (X_df[\"v191\"] > -188796.000))]\n",
    "\n",
    "# print(len(support)/len(X_df))\n",
    "# print(len(propensity)/len(X_df))\n",
    "\n",
    "# X_overlap = pd.merge(support, propensity, how='inner')\n",
    "# print(len(X_overlap) / len(X_df))"
   ]
  },
  {
   "cell_type": "code",
   "execution_count": null,
   "metadata": {},
   "outputs": [],
   "source": [
    "import seaborn as sns\n",
    "x = []\n",
    "y = []\n",
    "v = []\n",
    "for r in results:\n",
    "    x.append(r['lambda0'])\n",
    "    y.append(r['lambda1'])\n",
    "    \n",
    "    v.append(r['auc'])\n",
    "\n",
    "plot = sns.scatterplot(x=[str(X) for X in x], y=[str(Y) for Y in y], hue=v, hue_order= [0.5,0.6,0.7,0.8,0.9,1.0])\n",
    "leg = plot.get_legend()\n",
    "for t in leg.texts:\n",
    "    t.set_text(float(t.get_text()[:4]))\n",
    "\n",
    "plt.xlabel('λ0')\n",
    "plt.ylabel('λ1')"
   ]
  },
  {
   "cell_type": "code",
   "execution_count": null,
   "metadata": {},
   "outputs": [],
   "source": [
    "# LAMBDA_0 = np.logspace(-6, 0, 10)\n",
    "# LAMBDA_1 = np.logspace(-6, 0, 10)\n",
    "\n",
    "# for lambda_0 in LAMBDA_0:\n",
    "    \n",
    "#     for lambda_1 in LAMBDA_1:\n"
   ]
  }
 ],
 "metadata": {
  "kernelspec": {
   "display_name": ".testenv",
   "language": "python",
   "name": ".testenv"
  },
  "language_info": {
   "codemirror_mode": {
    "name": "ipython",
    "version": 3
   },
   "file_extension": ".py",
   "mimetype": "text/x-python",
   "name": "python",
   "nbconvert_exporter": "python",
   "pygments_lexer": "ipython3",
   "version": "3.5.2"
  }
 },
 "nbformat": 4,
 "nbformat_minor": 4
}
