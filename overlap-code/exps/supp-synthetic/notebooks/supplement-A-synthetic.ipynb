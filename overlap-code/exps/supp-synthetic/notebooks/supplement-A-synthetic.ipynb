{
 "cells": [
  {
   "cell_type": "markdown",
   "metadata": {},
   "source": [
    "# Supplement A: Synthetic Experiments\n",
    "\n",
    "This notebook reads in the results from the synthetic experiments, and creates the relevant Tables in Appendix A.\n",
    "\n",
    "Note that the semi-synthetic experiment is not included here, because it is not reproducible without access to the original data."
   ]
  },
  {
   "cell_type": "code",
   "execution_count": null,
   "metadata": {},
   "outputs": [],
   "source": [
    "result_str = 'grid_search.+'\n",
    "base_dir = \"../results\""
   ]
  },
  {
   "cell_type": "code",
   "execution_count": null,
   "metadata": {},
   "outputs": [],
   "source": [
    "import pandas as pd\n",
    "import numpy as np\n",
    "import os\n",
    "import re\n",
    "\n",
    "from hp_analysis import get_data"
   ]
  },
  {
   "cell_type": "code",
   "execution_count": null,
   "metadata": {},
   "outputs": [],
   "source": [
    "files = [\"{}/{}\".format(base_dir, f) for f in os.listdir(base_dir) if re.match(result_str, f)]"
   ]
  },
  {
   "cell_type": "code",
   "execution_count": null,
   "metadata": {},
   "outputs": [],
   "source": [
    "df_all = pd.concat([get_data(f)[0] for f in files], axis=0, ignore_index=True, sort=True)"
   ]
  },
  {
   "cell_type": "code",
   "execution_count": null,
   "metadata": {},
   "outputs": [],
   "source": [
    "def df_values_to_str(df):\n",
    "    for row in df.values:\n",
    "        this_row_str = \" & \".join(str(i) for i in row.tolist())\n",
    "        this_row_str += \"\\\\\\\\\"\n",
    "        print(this_row_str)"
   ]
  },
  {
   "cell_type": "markdown",
   "metadata": {},
   "source": [
    "## Table S1"
   ]
  },
  {
   "cell_type": "code",
   "execution_count": null,
   "metadata": {},
   "outputs": [],
   "source": [
    "this_df = pd.pivot_table(\n",
    "        data=df_all,\n",
    "        values=['id_exclusion_rr'],\n",
    "        columns='B').round(2)"
   ]
  },
  {
   "cell_type": "code",
   "execution_count": null,
   "metadata": {},
   "outputs": [],
   "source": [
    "this_df"
   ]
  },
  {
   "cell_type": "code",
   "execution_count": null,
   "metadata": {},
   "outputs": [],
   "source": [
    "df_values_to_str(this_df)"
   ]
  },
  {
   "cell_type": "markdown",
   "metadata": {},
   "source": [
    "**Claim**: In this experiment, every time the LP identifies the correct rule, that rule is also picked up in the rounded rules."
   ]
  },
  {
   "cell_type": "code",
   "execution_count": 11,
   "metadata": {},
   "outputs": [],
   "source": [
    "assert(abs(df_all['id_exclusion_lp'] - df_all['id_exclusion_rr']).sum() == 0)"
   ]
  },
  {
   "cell_type": "markdown",
   "metadata": {},
   "source": [
    "## Table S2a-S2c"
   ]
  },
  {
   "cell_type": "code",
   "execution_count": 19,
   "metadata": {},
   "outputs": [
    {
     "data": {
      "text/html": [
       "<div>\n",
       "<style scoped>\n",
       "    .dataframe tbody tr th:only-of-type {\n",
       "        vertical-align: middle;\n",
       "    }\n",
       "\n",
       "    .dataframe tbody tr th {\n",
       "        vertical-align: top;\n",
       "    }\n",
       "\n",
       "    .dataframe thead tr th {\n",
       "        text-align: left;\n",
       "    }\n",
       "\n",
       "    .dataframe thead tr:last-of-type th {\n",
       "        text-align: right;\n",
       "    }\n",
       "</style>\n",
       "<table border=\"1\" class=\"dataframe\">\n",
       "  <thead>\n",
       "    <tr>\n",
       "      <th></th>\n",
       "      <th colspan=\"3\" halign=\"left\">id_exclusion_rr</th>\n",
       "    </tr>\n",
       "    <tr>\n",
       "      <th>lambda1</th>\n",
       "      <th>0.000001</th>\n",
       "      <th>0.000100</th>\n",
       "      <th>0.010000</th>\n",
       "    </tr>\n",
       "    <tr>\n",
       "      <th>alpha</th>\n",
       "      <th></th>\n",
       "      <th></th>\n",
       "      <th></th>\n",
       "    </tr>\n",
       "  </thead>\n",
       "  <tbody>\n",
       "    <tr>\n",
       "      <td>0.95</td>\n",
       "      <td>1</td>\n",
       "      <td>1</td>\n",
       "      <td>0</td>\n",
       "    </tr>\n",
       "    <tr>\n",
       "      <td>0.96</td>\n",
       "      <td>1</td>\n",
       "      <td>1</td>\n",
       "      <td>0</td>\n",
       "    </tr>\n",
       "    <tr>\n",
       "      <td>0.97</td>\n",
       "      <td>1</td>\n",
       "      <td>1</td>\n",
       "      <td>1</td>\n",
       "    </tr>\n",
       "    <tr>\n",
       "      <td>0.98</td>\n",
       "      <td>1</td>\n",
       "      <td>1</td>\n",
       "      <td>1</td>\n",
       "    </tr>\n",
       "    <tr>\n",
       "      <td>0.99</td>\n",
       "      <td>1</td>\n",
       "      <td>1</td>\n",
       "      <td>1</td>\n",
       "    </tr>\n",
       "  </tbody>\n",
       "</table>\n",
       "</div>"
      ],
      "text/plain": [
       "        id_exclusion_rr                  \n",
       "lambda1        0.000001 0.000100 0.010000\n",
       "alpha                                    \n",
       "0.95                  1        1        0\n",
       "0.96                  1        1        0\n",
       "0.97                  1        1        1\n",
       "0.98                  1        1        1\n",
       "0.99                  1        1        1"
      ]
     },
     "execution_count": 19,
     "metadata": {},
     "output_type": "execute_result"
    }
   ],
   "source": [
    "# Table S2a\n",
    "this_df = pd.pivot_table(\n",
    "        data=df_all.query('B==15'),\n",
    "        values=['id_exclusion_rr'],\n",
    "        index='alpha',\n",
    "        columns='lambda1').round(2)\n",
    "this_df\n",
    "# df_values_to_str(this_df)"
   ]
  },
  {
   "cell_type": "code",
   "execution_count": 20,
   "metadata": {},
   "outputs": [
    {
     "data": {
      "text/html": [
       "<div>\n",
       "<style scoped>\n",
       "    .dataframe tbody tr th:only-of-type {\n",
       "        vertical-align: middle;\n",
       "    }\n",
       "\n",
       "    .dataframe tbody tr th {\n",
       "        vertical-align: top;\n",
       "    }\n",
       "\n",
       "    .dataframe thead tr th {\n",
       "        text-align: left;\n",
       "    }\n",
       "\n",
       "    .dataframe thead tr:last-of-type th {\n",
       "        text-align: right;\n",
       "    }\n",
       "</style>\n",
       "<table border=\"1\" class=\"dataframe\">\n",
       "  <thead>\n",
       "    <tr>\n",
       "      <th></th>\n",
       "      <th colspan=\"3\" halign=\"left\">n_rules</th>\n",
       "    </tr>\n",
       "    <tr>\n",
       "      <th>lambda1</th>\n",
       "      <th>0.000001</th>\n",
       "      <th>0.000100</th>\n",
       "      <th>0.010000</th>\n",
       "    </tr>\n",
       "    <tr>\n",
       "      <th>alpha</th>\n",
       "      <th></th>\n",
       "      <th></th>\n",
       "      <th></th>\n",
       "    </tr>\n",
       "  </thead>\n",
       "  <tbody>\n",
       "    <tr>\n",
       "      <td>0.95</td>\n",
       "      <td>23.67</td>\n",
       "      <td>15.75</td>\n",
       "      <td>5.00</td>\n",
       "    </tr>\n",
       "    <tr>\n",
       "      <td>0.96</td>\n",
       "      <td>35.58</td>\n",
       "      <td>33.33</td>\n",
       "      <td>4.00</td>\n",
       "    </tr>\n",
       "    <tr>\n",
       "      <td>0.97</td>\n",
       "      <td>39.83</td>\n",
       "      <td>31.92</td>\n",
       "      <td>4.00</td>\n",
       "    </tr>\n",
       "    <tr>\n",
       "      <td>0.98</td>\n",
       "      <td>44.17</td>\n",
       "      <td>47.17</td>\n",
       "      <td>23.83</td>\n",
       "    </tr>\n",
       "    <tr>\n",
       "      <td>0.99</td>\n",
       "      <td>31.42</td>\n",
       "      <td>31.25</td>\n",
       "      <td>27.67</td>\n",
       "    </tr>\n",
       "  </tbody>\n",
       "</table>\n",
       "</div>"
      ],
      "text/plain": [
       "         n_rules                  \n",
       "lambda1 0.000001 0.000100 0.010000\n",
       "alpha                             \n",
       "0.95       23.67    15.75     5.00\n",
       "0.96       35.58    33.33     4.00\n",
       "0.97       39.83    31.92     4.00\n",
       "0.98       44.17    47.17    23.83\n",
       "0.99       31.42    31.25    27.67"
      ]
     },
     "execution_count": 20,
     "metadata": {},
     "output_type": "execute_result"
    }
   ],
   "source": [
    "# Table S2b\n",
    "\n",
    "this_df = pd.pivot_table(\n",
    "        data=df_all.query('B==15'),\n",
    "        values=['n_rules'],\n",
    "        index='alpha',\n",
    "        columns='lambda1').round(2)\n",
    "this_df"
   ]
  },
  {
   "cell_type": "code",
   "execution_count": 17,
   "metadata": {},
   "outputs": [],
   "source": [
    "# df_values_to_str(this_df)"
   ]
  },
  {
   "cell_type": "code",
   "execution_count": 16,
   "metadata": {},
   "outputs": [
    {
     "data": {
      "text/html": [
       "<div>\n",
       "<style scoped>\n",
       "    .dataframe tbody tr th:only-of-type {\n",
       "        vertical-align: middle;\n",
       "    }\n",
       "\n",
       "    .dataframe tbody tr th {\n",
       "        vertical-align: top;\n",
       "    }\n",
       "\n",
       "    .dataframe thead tr th {\n",
       "        text-align: left;\n",
       "    }\n",
       "\n",
       "    .dataframe thead tr:last-of-type th {\n",
       "        text-align: right;\n",
       "    }\n",
       "</style>\n",
       "<table border=\"1\" class=\"dataframe\">\n",
       "  <thead>\n",
       "    <tr>\n",
       "      <th></th>\n",
       "      <th colspan=\"3\" halign=\"left\">rule_n_perfect</th>\n",
       "    </tr>\n",
       "    <tr>\n",
       "      <th>lambda1</th>\n",
       "      <th>0.000001</th>\n",
       "      <th>0.000100</th>\n",
       "      <th>0.010000</th>\n",
       "    </tr>\n",
       "    <tr>\n",
       "      <th>alpha</th>\n",
       "      <th></th>\n",
       "      <th></th>\n",
       "      <th></th>\n",
       "    </tr>\n",
       "  </thead>\n",
       "  <tbody>\n",
       "    <tr>\n",
       "      <td>0.95</td>\n",
       "      <td>12.50</td>\n",
       "      <td>9.25</td>\n",
       "      <td>0.00</td>\n",
       "    </tr>\n",
       "    <tr>\n",
       "      <td>0.96</td>\n",
       "      <td>20.75</td>\n",
       "      <td>18.67</td>\n",
       "      <td>0.00</td>\n",
       "    </tr>\n",
       "    <tr>\n",
       "      <td>0.97</td>\n",
       "      <td>24.67</td>\n",
       "      <td>24.92</td>\n",
       "      <td>1.00</td>\n",
       "    </tr>\n",
       "    <tr>\n",
       "      <td>0.98</td>\n",
       "      <td>30.17</td>\n",
       "      <td>28.33</td>\n",
       "      <td>14.00</td>\n",
       "    </tr>\n",
       "    <tr>\n",
       "      <td>0.99</td>\n",
       "      <td>23.00</td>\n",
       "      <td>24.08</td>\n",
       "      <td>20.42</td>\n",
       "    </tr>\n",
       "  </tbody>\n",
       "</table>\n",
       "</div>"
      ],
      "text/plain": [
       "        rule_n_perfect                  \n",
       "lambda1       0.000001 0.000100 0.010000\n",
       "alpha                                   \n",
       "0.95             12.50     9.25     0.00\n",
       "0.96             20.75    18.67     0.00\n",
       "0.97             24.67    24.92     1.00\n",
       "0.98             30.17    28.33    14.00\n",
       "0.99             23.00    24.08    20.42"
      ]
     },
     "execution_count": 16,
     "metadata": {},
     "output_type": "execute_result"
    }
   ],
   "source": [
    "# Table S2c\n",
    "this_df = pd.pivot_table(\n",
    "        data=df_all.query('B==15'),\n",
    "        values=['rule_n_perfect'],\n",
    "        index='alpha',\n",
    "        columns='lambda1').round(2)\n",
    "this_df\n",
    "#df_values_to_str(this_df)"
   ]
  },
  {
   "cell_type": "markdown",
   "metadata": {},
   "source": [
    "## Table 5"
   ]
  },
  {
   "cell_type": "code",
   "execution_count": 30,
   "metadata": {},
   "outputs": [],
   "source": [
    "df_print = df_all.query(\"B == 15\"\n",
    "            ).groupby(['alpha', 'lambda0', 'lambda1']\n",
    "                      ).mean()[['id_exclusion_rr', 'n_rules', 'rule_n_perfect', 'rule_avg_length']].round(2)"
   ]
  },
  {
   "cell_type": "code",
   "execution_count": 32,
   "metadata": {},
   "outputs": [
    {
     "name": "stdout",
     "output_type": "stream",
     "text": [
      "0.95 & 0e+00 & 1e-06 & 1.00 & 31.00 & 17.00 & 2.36\\\\\n",
      "0.95 & 0e+00 & 1e-04 & 1.00 & 19.33 & 12.00 & 2.25\\\\\n",
      "0.95 & 0e+00 & 1e-02 & 0.00 & 5.00 & 0.00 & 1.00\\\\\n",
      "0.95 & 1e-06 & 1e-06 & 1.00 & 30.67 & 17.00 & 2.37\\\\\n",
      "0.95 & 1e-06 & 1e-04 & 1.00 & 19.33 & 12.00 & 2.25\\\\\n",
      "0.95 & 1e-06 & 1e-02 & 0.00 & 5.00 & 0.00 & 1.00\\\\\n",
      "0.95 & 1e-04 & 1e-06 & 1.00 & 27.00 & 15.00 & 2.36\\\\\n",
      "0.95 & 1e-04 & 1e-04 & 1.00 & 18.33 & 12.00 & 2.23\\\\\n",
      "0.95 & 1e-04 & 1e-02 & 0.00 & 5.00 & 0.00 & 1.00\\\\\n",
      "0.95 & 1e-02 & 1e-06 & 1.00 & 6.00 & 1.00 & 1.17\\\\\n",
      "0.95 & 1e-02 & 1e-04 & 1.00 & 6.00 & 1.00 & 1.17\\\\\n",
      "0.95 & 1e-02 & 1e-02 & 0.00 & 5.00 & 0.00 & 1.00\\\\\n",
      "0.96 & 0e+00 & 1e-06 & 1.00 & 46.33 & 28.33 & 2.69\\\\\n",
      "0.96 & 0e+00 & 1e-04 & 1.00 & 43.67 & 25.00 & 2.43\\\\\n",
      "0.96 & 0e+00 & 1e-02 & 0.00 & 4.00 & 0.00 & 1.00\\\\\n",
      "0.96 & 1e-06 & 1e-06 & 1.00 & 45.33 & 27.67 & 2.70\\\\\n",
      "0.96 & 1e-06 & 1e-04 & 1.00 & 43.67 & 25.67 & 2.41\\\\\n",
      "0.96 & 1e-06 & 1e-02 & 0.00 & 4.00 & 0.00 & 1.00\\\\\n",
      "0.96 & 1e-04 & 1e-06 & 1.00 & 45.67 & 26.00 & 2.67\\\\\n",
      "0.96 & 1e-04 & 1e-04 & 1.00 & 41.00 & 23.00 & 2.41\\\\\n",
      "0.96 & 1e-04 & 1e-02 & 0.00 & 4.00 & 0.00 & 1.00\\\\\n",
      "0.96 & 1e-02 & 1e-06 & 1.00 & 5.00 & 1.00 & 1.20\\\\\n",
      "0.96 & 1e-02 & 1e-04 & 1.00 & 5.00 & 1.00 & 1.20\\\\\n",
      "0.96 & 1e-02 & 1e-02 & 0.00 & 4.00 & 0.00 & 1.00\\\\\n",
      "0.97 & 0e+00 & 1e-06 & 1.00 & 49.67 & 31.00 & 2.74\\\\\n",
      "0.97 & 0e+00 & 1e-04 & 1.00 & 38.00 & 30.00 & 2.51\\\\\n",
      "0.97 & 0e+00 & 1e-02 & 1.00 & 4.00 & 1.00 & 1.25\\\\\n",
      "0.97 & 1e-06 & 1e-06 & 1.00 & 49.67 & 31.00 & 2.73\\\\\n",
      "0.97 & 1e-06 & 1e-04 & 1.00 & 38.00 & 30.00 & 2.51\\\\\n",
      "0.97 & 1e-06 & 1e-02 & 1.00 & 4.00 & 1.00 & 1.25\\\\\n",
      "0.97 & 1e-04 & 1e-06 & 1.00 & 48.33 & 29.00 & 2.71\\\\\n",
      "0.97 & 1e-04 & 1e-04 & 1.00 & 37.33 & 29.33 & 2.55\\\\\n",
      "0.97 & 1e-04 & 1e-02 & 1.00 & 4.00 & 1.00 & 1.25\\\\\n",
      "0.97 & 1e-02 & 1e-06 & 1.00 & 11.67 & 7.67 & 2.27\\\\\n",
      "0.97 & 1e-02 & 1e-04 & 1.00 & 14.33 & 10.33 & 2.43\\\\\n",
      "0.97 & 1e-02 & 1e-02 & 1.00 & 4.00 & 1.00 & 1.25\\\\\n",
      "0.98 & 0e+00 & 1e-06 & 1.00 & 47.00 & 33.67 & 2.82\\\\\n",
      "0.98 & 0e+00 & 1e-04 & 1.00 & 50.67 & 30.33 & 2.74\\\\\n",
      "0.98 & 0e+00 & 1e-02 & 1.00 & 27.33 & 16.00 & 1.97\\\\\n",
      "0.98 & 1e-06 & 1e-06 & 1.00 & 46.67 & 33.33 & 2.81\\\\\n",
      "0.98 & 1e-06 & 1e-04 & 1.00 & 50.67 & 30.33 & 2.74\\\\\n",
      "0.98 & 1e-06 & 1e-02 & 1.00 & 27.00 & 15.67 & 1.97\\\\\n",
      "0.98 & 1e-04 & 1e-06 & 1.00 & 46.00 & 31.33 & 2.74\\\\\n",
      "0.98 & 1e-04 & 1e-04 & 1.00 & 50.67 & 31.00 & 2.74\\\\\n",
      "0.98 & 1e-04 & 1e-02 & 1.00 & 28.00 & 16.33 & 1.99\\\\\n",
      "0.98 & 1e-02 & 1e-06 & 1.00 & 37.00 & 22.33 & 2.29\\\\\n",
      "0.98 & 1e-02 & 1e-04 & 1.00 & 36.67 & 21.67 & 2.26\\\\\n",
      "0.98 & 1e-02 & 1e-02 & 1.00 & 13.00 & 8.00 & 1.95\\\\\n",
      "0.99 & 0e+00 & 1e-06 & 1.00 & 33.00 & 23.33 & 2.33\\\\\n",
      "0.99 & 0e+00 & 1e-04 & 1.00 & 33.00 & 27.33 & 2.33\\\\\n",
      "0.99 & 0e+00 & 1e-02 & 1.00 & 28.33 & 21.00 & 1.96\\\\\n",
      "0.99 & 1e-06 & 1e-06 & 1.00 & 33.00 & 21.67 & 2.36\\\\\n",
      "0.99 & 1e-06 & 1e-04 & 1.00 & 34.33 & 24.67 & 2.30\\\\\n",
      "0.99 & 1e-06 & 1e-02 & 1.00 & 28.33 & 21.00 & 1.96\\\\\n",
      "0.99 & 1e-04 & 1e-06 & 1.00 & 31.33 & 25.67 & 2.34\\\\\n",
      "0.99 & 1e-04 & 1e-04 & 1.00 & 27.00 & 20.67 & 2.17\\\\\n",
      "0.99 & 1e-04 & 1e-02 & 1.00 & 28.33 & 21.00 & 1.96\\\\\n",
      "0.99 & 1e-02 & 1e-06 & 1.00 & 28.33 & 21.33 & 2.08\\\\\n",
      "0.99 & 1e-02 & 1e-04 & 1.00 & 30.67 & 23.67 & 2.11\\\\\n",
      "0.99 & 1e-02 & 1e-02 & 1.00 & 25.67 & 18.67 & 1.96\\\\\n"
     ]
    }
   ],
   "source": [
    "for idx, row in enumerate(df_print.values):\n",
    "    \n",
    "    index_list = [c for c in df_print.index.values[idx]]\n",
    "    index_str = \"{:.2f} & {:.0e} & {:.0e}\".format(*index_list)\n",
    "        \n",
    "    value_str = ' & '.join([\"{:.2f}\".format(c) for c in row])\n",
    "    \n",
    "    print(' & '.join([index_str, value_str]) + '\\\\\\\\')"
   ]
  }
 ],
 "metadata": {
  "kernelspec": {
   "display_name": "Python 3",
   "language": "python",
   "name": "python3"
  },
  "language_info": {
   "codemirror_mode": {
    "name": "ipython",
    "version": 3
   },
   "file_extension": ".py",
   "mimetype": "text/x-python",
   "name": "python",
   "nbconvert_exporter": "python",
   "pygments_lexer": "ipython3",
   "version": "3.6.10"
  }
 },
 "nbformat": 4,
 "nbformat_minor": 2
}
