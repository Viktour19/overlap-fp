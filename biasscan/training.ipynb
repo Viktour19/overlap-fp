{
 "cells": [
  {
   "cell_type": "code",
   "execution_count": 1,
   "metadata": {},
   "outputs": [],
   "source": [
    "import pandas as pd\n",
    "import numpy as np\n",
    "import pickle as pkl\n",
    "\n",
    "from sklearn.linear_model import LogisticRegression\n",
    "from sklearn.svm import SVC\n",
    "from sklearn.ensemble import RandomForestClassifier\n",
    "from sklearn.neighbors import KNeighborsClassifier\n",
    "from sklearn.model_selection import GridSearchCV\n",
    "from sklearn.neural_network import MLPClassifier\n",
    "from sklearn.preprocessing import OrdinalEncoder\n",
    "\n",
    "from BiasScan.src.MDSS import *\n",
    "from BiasScan.src.score import *\n",
    "from BiasScan.src.priority import *\n",
    "\n",
    "import matplotlib.pyplot as plt\n",
    "%matplotlib notebook\n",
    "\n",
    "from tqdm import tqdm\n",
    "from collections import OrderedDict\n",
    "from multiprocessing.pool import Pool\n",
    "from multiprocessing import cpu_count\n",
    "from itertools import count\n",
    "import time"
   ]
  },
  {
   "cell_type": "code",
   "execution_count": 2,
   "metadata": {},
   "outputs": [],
   "source": [
    "NUM_CPUS = cpu_count()\n",
    "NUM_EXPERIMENTS = 10"
   ]
  },
  {
   "cell_type": "markdown",
   "metadata": {},
   "source": [
    "### Load Dataset"
   ]
  },
  {
   "cell_type": "code",
   "execution_count": 3,
   "metadata": {},
   "outputs": [],
   "source": [
    "covariates = [\"age\", \"workclass\", \"education\", \"marital-status\", \"occupation\", \n",
    "              \"race\", \"sex\", \"hours-per-week\"]\n",
    "outcome = \"outcome\"\n",
    "\n",
    "# data containing categorical features\n",
    "mdscan_data_train = pd.read_csv(\"datasets/adult/train.data\")\n",
    "mdscan_data_test = pd.read_csv(\"datasets/adult/test.data\")\n",
    "mdscan_data_both = pd.concat([mdscan_data_train, mdscan_data_test], axis=0, ignore_index=True)\n",
    "\n",
    "# transform outcome into binary\n",
    "mdscan_data_train[\"outcome\"] = (mdscan_data_train[\"outcome\"] == \" >50K\").astype(np.int)\n",
    "mdscan_data_test[\"outcome\"] = (mdscan_data_test[\"outcome\"] == \" >50K.\").astype(np.int)"
   ]
  },
  {
   "cell_type": "markdown",
   "metadata": {},
   "source": [
    "### Define Classifiers"
   ]
  },
  {
   "cell_type": "code",
   "execution_count": 4,
   "metadata": {},
   "outputs": [],
   "source": [
    "classifiers_labels = [\n",
    "    \"LogisticRegression\",\n",
    "    #\"RandomForestClassifier\",\n",
    "    #\"SVC\",\n",
    "    #\"KNeighborsClassifier\",\n",
    "    #\"MLPClassifier\"\n",
    "]"
   ]
  },
  {
   "cell_type": "code",
   "execution_count": 5,
   "metadata": {},
   "outputs": [],
   "source": [
    "domains = {}\n",
    "\n",
    "for cov in covariates:\n",
    "    domains[cov] = np.unique(mdscan_data_both[cov])\n",
    "    \n",
    "observed = 'outcome'\n",
    "expected = 'proba' "
   ]
  },
  {
   "cell_type": "markdown",
   "metadata": {},
   "source": [
    "### Utils"
   ]
  },
  {
   "cell_type": "code",
   "execution_count": 6,
   "metadata": {},
   "outputs": [],
   "source": [
    "def model_selection(X: np.array, y: np.array, clf_label: str):\n",
    "    \"\"\"\n",
    "    Returns the best model using cross validation on the dataset passed as argument\n",
    "    @param X: feature matrix\n",
    "    @param y: outcome matrix\n",
    "    @param clf_label: classifier label [LogisticRegression, RandomForestClassifier, SVC, KNeighborsClassifier]\n",
    "    :return: best classifier\n",
    "    \"\"\"\n",
    "    \n",
    "    if clf_label == \"LogisticRegression\":\n",
    "        return LogisticRegression(solver='lbfgs', max_iter=10000)\n",
    "    \n",
    "    if clf_label == \"RandomForestClassifier\":\n",
    "        randforest = RandomForestClassifier()\n",
    "        parameters = {\n",
    "            'n_estimators': [100, 200, 300, 400],\n",
    "            'criterion': ['gini', 'entropy'],\n",
    "            'max_depth': [2, 4, 8, 16, None]\n",
    "        }\n",
    "        clf = GridSearchCV(randforest, parameters, cv=5, scoring='roc_auc', iid=True, n_jobs=1)\n",
    "        clf = clf.fit(X, y)\n",
    "        return clf.best_estimator_\n",
    "    \n",
    "    if clf_label == \"SVC\":\n",
    "        svc = SVC(kernel='rbf', gamma='auto', probability=True)\n",
    "        return svc\n",
    "    \n",
    "    if clf_label == \"KNeighborsClassifier\":\n",
    "        knn = KNeighborsClassifier()\n",
    "        parameters = {\n",
    "            'n_neighbors': [5, 10, 15, 20, 25, 30, 35, 40, 45, 50]\n",
    "        }\n",
    "        clf = GridSearchCV(knn, parameters, cv=5, scoring='roc_auc', iid=True, n_jobs=1)\n",
    "        clf = clf.fit(X, y)\n",
    "        return clf.best_estimator_\n",
    "    \n",
    "    # if clf_label == \"MLPClassifier\"\n",
    "    mlp = MLPClassifier(hidden_layer_sizes=64, max_iter=10000)\n",
    "    return mlp"
   ]
  },
  {
   "cell_type": "markdown",
   "metadata": {},
   "source": [
    "### Test 1"
   ]
  },
  {
   "cell_type": "markdown",
   "metadata": {},
   "source": [
    "We drastically reduce the available training data (uniformly).  This is where we train logistic regression but only on 1% of the data.  This model will have low AUC -- but the question is is the model making systematic errors against a particular subpopulation.  This is what is addressed by bias scan.  We will then see how AUC and bias changes when scanning over 2% of data.  Then 4%, 8%, 16% and 32% of the available data.  As training data increases we expect to see less bias -- but it isn't clear how different models will respond to this."
   ]
  },
  {
   "cell_type": "code",
   "execution_count": 7,
   "metadata": {},
   "outputs": [],
   "source": [
    "def experiment1(p: int, i: int, seed: int):\n",
    "    \"\"\"\n",
    "    @param p: percentage of the population to be kept\n",
    "    @param i: experiment index\n",
    "    @param seed: experiment seed\n",
    "    \"\"\"\n",
    "    np.random.seed(seed)\n",
    "    \n",
    "    results = {}\n",
    "    num_rows = mdscan_data_train.shape[0]\n",
    "    \n",
    "    # select with replacement p% of the total number of rows\n",
    "    indexes = np.random.choice(np.arange(num_rows), size=num_rows * p // 100, replace=True)\n",
    "    sub_train_data = train_data.loc[indexes, :].to_numpy()\n",
    "\n",
    "    # first column is the outcome\n",
    "    X_train, y_train = sub_train_data[:, 1:], sub_train_data[:, 0]\n",
    "    X = test_data.to_numpy()[:, 1:]\n",
    "\n",
    "    for clf_label in classifiers_labels:\n",
    "        # train the classifier on smaller dataset\n",
    "        clf = model_selection(X=X_train, y=y_train, clf_label=clf_label)\n",
    "        clf = clf.fit(X_train, y_train)\n",
    "\n",
    "        # predict the probability on the entier datast\n",
    "        proba = clf.predict_proba(X)[:, 1]\n",
    "        \n",
    "        # save probability in a file\n",
    "        filename = \"./training/test1/clf=%s_p=%d_i=%d.pkl\" % (clf_label, p, i)\n",
    "        file = open(filename, 'wb')\n",
    "        pkl.dump(proba, file)\n",
    "        file.close()"
   ]
  },
  {
   "cell_type": "code",
   "execution_count": 8,
   "metadata": {},
   "outputs": [
    {
     "name": "stdout",
     "output_type": "stream",
     "text": [
      "Ellapsed: 6.25\n"
     ]
    }
   ],
   "source": [
    "percentages = [1, 2, 4, 8, 16, 32]\n",
    "num_experiments = NUM_EXPERIMENTS\n",
    "\n",
    "# transform categorical variables into dummy\n",
    "train_data = pd.get_dummies(mdscan_data_train, prefix=covariates, columns=covariates)\n",
    "test_data = pd.get_dummies(mdscan_data_test, prefix=covariates, columns=covariates)\n",
    "\n",
    "# start time\n",
    "start = time.time()\n",
    "\n",
    "# define thread pool\n",
    "pool = Pool(processes=NUM_CPUS)\n",
    "    \n",
    "for p in percentages:\n",
    "    # get a seed for each thread. Otherwise they will gave the same result\n",
    "    seeds = np.random.randint(0, 99999, size=num_experiments)\n",
    "    \n",
    "    for i in range(num_experiments):\n",
    "        pool.apply_async(experiment1, (p, i, seeds[i]))\n",
    "        \n",
    "# close thread pool & wait for all jobs to be done\n",
    "pool.close()\n",
    "pool.join()\n",
    "\n",
    "# print duration\n",
    "print(\"Ellapsed: %.2f\" % (time.time() - start))"
   ]
  },
  {
   "cell_type": "markdown",
   "metadata": {},
   "source": [
    "### Test 2"
   ]
  },
  {
   "cell_type": "markdown",
   "metadata": {},
   "source": [
    "We remove some features from the training data. Note we remove some rows as well (50%). We first remove 1 feature at random. Then 2 features at random. Then 3, 4, 5 features at random. This allows us to to bootstrap samples and train a half dozen different models that all have race removed but each of the models is trained on a different sample of rows that are sampled at 50% with replacement."
   ]
  },
  {
   "cell_type": "code",
   "execution_count": 9,
   "metadata": {},
   "outputs": [],
   "source": [
    "def experiment2(nc, i, seed):\n",
    "    \"\"\"\n",
    "    @param nc: number of covariates/features to be removed\n",
    "    @param i: experiment index\n",
    "    @param seed: experiment seed\n",
    "    \"\"\"\n",
    "    np.random.seed(seed)\n",
    "    \n",
    "    results = {}\n",
    "    mdscan_data_train_ = mdscan_data_train.copy()\n",
    "    mdscan_data_test_ = mdscan_data_test.copy()\n",
    "    num_rows = mdscan_data_train_.shape[0]\n",
    "    \n",
    "    # select at random covariates to be dropped\n",
    "    covariates_dropped = np.random.choice(covariates, size=nc, replace=False)\n",
    "\n",
    "    # drop covariates from dataframe\n",
    "    sub_mdscan_data_train = mdscan_data_train_.drop(covariates_dropped, axis=1)\n",
    "    sub_mdscan_data_test = mdscan_data_test_.drop(covariates_dropped, axis=1)\n",
    "\n",
    "    # convert sub_mdscan_data to one hot encodings / dummy variables\n",
    "    columns = list(set(covariates).difference(set(covariates_dropped)))\n",
    "    train_data = pd.get_dummies(sub_mdscan_data_train, prefix=columns, columns=columns)\n",
    "    test_data = pd.get_dummies(sub_mdscan_data_test, prefix=columns, columns=columns)\n",
    "    \n",
    "    # select rows for training\n",
    "    indexes = np.random.choice(np.arange(num_rows), size=num_rows // 2, replace=True)\n",
    "    sub_train_data = train_data.loc[indexes, :].to_numpy()\n",
    "\n",
    "    # first column is the outcome\n",
    "    X_train, y_train = sub_train_data[:, 1:], sub_train_data[:, 0]\n",
    "    X = test_data.to_numpy()[:, 1:]\n",
    "\n",
    "    for clf_label in classifiers_labels:\n",
    "        # train the classifier on smaller dataset\n",
    "        clf = model_selection(X=X_train, y=y_train, clf_label=clf_label)\n",
    "        clf = clf.fit(X_train, y_train)\n",
    "\n",
    "        # predict the probability on the entier datast\n",
    "        proba = clf.predict_proba(X)[:, 1]\n",
    "\n",
    "        # save probability in a file\n",
    "        filename = \"./training/test2/clf=%s_nc=%d_i=%d.pkl\" % (clf_label, nc, i)\n",
    "        file = open(filename, 'wb')\n",
    "        pkl.dump(proba, file)\n",
    "        file.close()"
   ]
  },
  {
   "cell_type": "code",
   "execution_count": 10,
   "metadata": {},
   "outputs": [
    {
     "name": "stdout",
     "output_type": "stream",
     "text": [
      "Ellapsed: 17.22\n"
     ]
    }
   ],
   "source": [
    "num_covariates = [1, 2, 3, 4, 5]\n",
    "num_experiments = NUM_EXPERIMENTS\n",
    "\n",
    "# start time\n",
    "start = time.time()\n",
    "\n",
    "# define thread pool\n",
    "pool = Pool(processes=NUM_CPUS)\n",
    "\n",
    "for nc in num_covariates:\n",
    "    seeds = np.random.randint(0, 99999, size=num_experiments)\n",
    "    for i in range(num_experiments):\n",
    "        pool.apply_async(experiment2, (nc, i, seeds[i]))\n",
    "        \n",
    "# close thread pool & wait for all jobs to be done\n",
    "pool.close()\n",
    "pool.join()\n",
    "\n",
    "# print duration\n",
    "print(\"Ellapsed: %.2f\" % (time.time() - start))"
   ]
  },
  {
   "cell_type": "markdown",
   "metadata": {},
   "source": [
    "### Utils"
   ]
  },
  {
   "cell_type": "code",
   "execution_count": 11,
   "metadata": {},
   "outputs": [],
   "source": [
    "def random_subpopulation(df_train: pd.DataFrame, df_test: pd.DataFrame, domains: OrderedDict, num_cov: int, \n",
    "                         value_prob: float, threshold: int = 1, max_iter: int = 1000): \n",
    "    \"\"\"\n",
    "    A sub-population is selected at random taking in consideration the arguments.\n",
    "    \n",
    "    @param df_train: dataframe containing the train population\n",
    "    @param df_test: dataframe containing the test population\n",
    "    @param domains: mapping between covariates and their possible values\n",
    "    @param num_cov: number of covariates to be included in the affected sub-population\n",
    "    @param value_prob: probability of affecting a value of a covariate\n",
    "    @param threshold: minimum number of rows in a sub-population\n",
    "    @param max_iter: maximum number of iteration to search a population. If exceeded, return None\n",
    "    :return: a new dataframe that contains the bias sub-population, sub-population affected\n",
    "    \"\"\"\n",
    "    \n",
    "    # generate affected sup-population\n",
    "    for i in count():\n",
    "        cov_affected = np.random.choice(list(domains.keys()), size=num_cov, replace=False)\n",
    "\n",
    "        # for each covariate affected, choose with prob value_prob the values that are affected\n",
    "        s_affected = dict()\n",
    "\n",
    "        for cov in cov_affected:\n",
    "            mask = np.random.rand(len(domains[cov])) < value_prob\n",
    "\n",
    "            # if every covariate value was picked, remove one\n",
    "            # if none of the covariate value was picked, pick one\n",
    "            if np.all(mask) or not np.any(mask):\n",
    "                index = np.random.randint(0, len(mask))\n",
    "                mask[index] = 0 if np.all(mask) else 1\n",
    "\n",
    "            s_affected[cov] = domains[cov][mask]\n",
    "\n",
    "        # create mask of affected sub-population\n",
    "        mask_train = np.ones((df_train.shape[0], )).astype(np.bool)\n",
    "        mask_test = np.ones((df_test.shape[0], )).astype(np.bool)\n",
    "        \n",
    "        for cov in s_affected:\n",
    "            mask_train &= np.isin(df_train[cov].to_numpy(), s_affected[cov])\n",
    "            mask_test  &= np.isin(df_test[cov].to_numpy(), s_affected[cov])\n",
    "        \n",
    "        # check if there is any entry corresponding to the affected sub-population\n",
    "        # if not, repeat the generating process\n",
    "        if np.sum(mask_train) > threshold and np.sum(mask_test) > threshold:\n",
    "            break\n",
    "        \n",
    "        if i > max_iter:\n",
    "            return None\n",
    "        \n",
    "    return s_affected"
   ]
  },
  {
   "cell_type": "code",
   "execution_count": 12,
   "metadata": {},
   "outputs": [],
   "source": [
    "def bias_subpopulation(df: pd.DataFrame, s_affected: dict, ys_cname: str, q: float):\n",
    "    \"\"\"\n",
    "    The sub-population passed as argument is biased\n",
    "    \n",
    "    @param df: dataframe containing the entier initially unbiased population\n",
    "    @param s_affected: sub-population to be biased\n",
    "    @param ys_cname: outcome column name\n",
    "    @param q: risk factor\n",
    "    :return: the entier population containing the biased sub-population\n",
    "    \"\"\"\n",
    "    sub_df = MDSS.get_subpopulation(df, s_affected)\n",
    "    indexes = sub_df.index\n",
    "    \n",
    "    # generate outcome corresponding to H1\n",
    "    mean_y = df[ys_cname].to_numpy()[indexes].mean()\n",
    "    p = q * mean_y / (1 - mean_y + q * mean_y)\n",
    "    df.loc[indexes, ys_cname] = (np.random.rand(len(indexes)) < p).astype(np.int)\n",
    "    return df"
   ]
  },
  {
   "cell_type": "markdown",
   "metadata": {},
   "source": [
    "### Test 3"
   ]
  },
  {
   "cell_type": "markdown",
   "metadata": {},
   "source": [
    "Covariate shift.  This is where we also reduce the number of rows -- but not uniformly!  We pick a random subset (female, black or other) and then we reduce the number of rows in the training set that correspond to that subset.  This is different from 1 above because it changes the joint distribution of X's because we are removing only certain types of records. At first, only 1% of that subset is kept. Then 2% of that subset. Then 4%, 8%, 16%, 32% of that subset."
   ]
  },
  {
   "cell_type": "code",
   "execution_count": 13,
   "metadata": {},
   "outputs": [],
   "source": [
    "def experiment3(s_affected: dict, p: int, i: int, seed: int):\n",
    "    \"\"\"\n",
    "    @param s_affected: sub-population from which we sample\n",
    "    @param p: percentage of that sub-population to be sampled\n",
    "    @param i: experiment index\n",
    "    @param seed: experiment seed\n",
    "    \"\"\"\n",
    "    np.random.randint(seed)\n",
    "    \n",
    "    # extract rows containing that sub-population\n",
    "    sub_mdscan_data_train = MDSS.get_subpopulation(mdscan_data_train, s_affected)\n",
    "    \n",
    "    # extract the indexes corresponding to that sub-population (sub_indexes)\n",
    "    # and all the other indexes that correspond to rows that are not part\n",
    "    # of that sub-population (compl_sub_indexes)\n",
    "    sub_indexes = set(sub_mdscan_data_train.index)\n",
    "    compl_sub_indexes = set(mdscan_data_train.index).difference(sub_indexes)\n",
    "\n",
    "    # select at random with replacement p% from the sub_indexes\n",
    "    num_rows = len(sub_indexes)\n",
    "    sub_indexes = np.random.choice(list(sub_indexes), size=num_rows * p // 100, replace=True)\n",
    "\n",
    "    # get final indexes as the concatentaion of the complement indexes and the p percentage of indexes\n",
    "    indexes = list(compl_sub_indexes) + list(sub_indexes)\n",
    "    sub_train_data = train_data.loc[indexes, :].to_numpy()\n",
    "\n",
    "    # first column is the outcome\n",
    "    X_train, y_train = sub_train_data[:, 1:], sub_train_data[:, 0]\n",
    "    X = test_data.to_numpy()[:, 1:]\n",
    "    \n",
    "    for clf_label in classifiers_labels:\n",
    "        # train the classifier on smaller dataset\n",
    "        clf = model_selection(X=X_train, y=y_train, clf_label=clf_label)\n",
    "        clf = clf.fit(X_train, y_train)\n",
    "\n",
    "        # predict the probability on the entier datast\n",
    "        proba = clf.predict_proba(X)[:, 1]\n",
    "       \n",
    "        # save probability in a file\n",
    "        filename = \"training/test3/clf=%s_p=%d_i=%d.pkl\" % (clf_label, p, i)\n",
    "        file = open(filename, 'wb')\n",
    "        pkl.dump(proba, file)\n",
    "        file.close()"
   ]
  },
  {
   "cell_type": "code",
   "execution_count": 14,
   "metadata": {},
   "outputs": [
    {
     "name": "stdout",
     "output_type": "stream",
     "text": [
      "Ellapsed: 74.29\n"
     ]
    }
   ],
   "source": [
    "percentages = [1, 2, 4, 8, 16, 32]\n",
    "num_experiments = NUM_EXPERIMENTS\n",
    "\n",
    "# transform categorical variables into dummy\n",
    "train_data = pd.get_dummies(mdscan_data_train, prefix=covariates, columns=covariates)\n",
    "test_data = pd.get_dummies(mdscan_data_test, prefix=covariates, columns=covariates)\n",
    "\n",
    "# list of affected sub-populations\n",
    "ss_affected = []\n",
    "\n",
    "for i in range(num_experiments):\n",
    "    # select random sub-population\n",
    "    s_affected = random_subpopulation(df_train=mdscan_data_train, df_test=mdscan_data_test, \n",
    "                                      domains=domains, num_cov=3, value_prob=0.5, threshold=100)\n",
    "    assert s_affected is not None, \"Couldn't find any sub-population\"\n",
    "    ss_affected.append(s_affected)\n",
    "    \n",
    "# start time\n",
    "start = time.time()\n",
    "    \n",
    "# define thread pool\n",
    "pool = Pool(processes=NUM_CPUS)\n",
    "\n",
    "for p in percentages:\n",
    "    seeds = np.random.randint(0, 99999, size=num_experiments)    \n",
    "    for i, s_affected in enumerate(ss_affected):\n",
    "        pool.apply_async(experiment3, (s_affected, p, i, seeds[i]))\n",
    "        \n",
    "# close thread pool & wait for all jobs to be done\n",
    "pool.close()\n",
    "pool.join()\n",
    "\n",
    "# print duration\n",
    "print(\"Ellapsed: %.2f\" % (time.time() - start))"
   ]
  },
  {
   "cell_type": "markdown",
   "metadata": {},
   "source": [
    "### Test 4"
   ]
  },
  {
   "cell_type": "markdown",
   "metadata": {},
   "source": [
    "Transfer learning.  Here we also pick a random subset apriori.  But instead of reducing the number of rows in the training data that correspond to that group (which 3 does), we now change the Y outcomes from this particular subgroup BEFORE training.  This means the model is learning a different Y|X (outcomes conditioned on X) for that subgroup.  So when we compare it back to the original unaltered data for scanning, we should see the bias induced by these changes in Y. "
   ]
  },
  {
   "cell_type": "code",
   "execution_count": 15,
   "metadata": {},
   "outputs": [],
   "source": [
    "def experiment4(s_affected, q, i, seed):\n",
    "    np.random.seed(seed)\n",
    "\n",
    "    score_results = {}\n",
    "    accuracy_results = {}\n",
    "    \n",
    "    # introduce bias in that sub-population\n",
    "    mdscan_data_train_ = mdscan_data_train.copy()\n",
    "    mdscan_data_train_ = bias_subpopulation(df=mdscan_data_train_, s_affected=s_affected, \n",
    "                                          ys_cname=\"outcome\", q=q)\n",
    "    train_data = pd.get_dummies(mdscan_data_train_, prefix=covariates, columns=covariates)\n",
    "    \n",
    "    # first column is the outcome\n",
    "    X_train, y_train = train_data.to_numpy()[:, 1:], train_data.to_numpy()[:, 0]\n",
    "    X = test_data.to_numpy()[:, 1:]\n",
    "\n",
    "    for clf_label in classifiers_labels:\n",
    "        # train the classifier on smaller dataset\n",
    "        clf = model_selection(X=X_train, y=y_train, clf_label=clf_label)\n",
    "        clf = clf.fit(X_train, y_train)\n",
    "\n",
    "        # predict the probability on the entier datast\n",
    "        proba = clf.predict_proba(X)[:, 1]\n",
    "        \n",
    "        # save probability into a file\n",
    "        filename = \"./training/test4/clf=%s_q=%.2f_i=%d.pkl\" % (clf_label, q, i)\n",
    "        file = open(filename, 'wb')\n",
    "        pkl.dump((proba, s_affected), file)\n",
    "        file.close()"
   ]
  },
  {
   "cell_type": "code",
   "execution_count": 16,
   "metadata": {},
   "outputs": [
    {
     "name": "stdout",
     "output_type": "stream",
     "text": [
      "Ellapsed: 63.78\n"
     ]
    }
   ],
   "source": [
    "qs = [.9, .7, .5, .3, .1]\n",
    "num_experiments = NUM_EXPERIMENTS\n",
    "\n",
    "# transform categorical variables into dummy\n",
    "\n",
    "test_data = pd.get_dummies(mdscan_data_test, prefix=covariates, columns=covariates)\n",
    "\n",
    "# list of affected sub-populations\n",
    "ss_affected = []\n",
    "\n",
    "for i in range(num_experiments):\n",
    "    # select random sub-population\n",
    "    s_affected = random_subpopulation(df_train=mdscan_data_train, df_test=mdscan_data_test, domains=domains, \n",
    "                                      num_cov=3, value_prob=0.5, threshold=100)\n",
    "    assert s_affected is not None, \"Couldn't find any sub-population\"\n",
    "    ss_affected.append(s_affected)\n",
    "    \n",
    "# start time\n",
    "start = time.time()\n",
    "    \n",
    "# define thread pool\n",
    "pool = Pool(processes=NUM_CPUS)\n",
    "\n",
    "for q in qs:\n",
    "    seeds = np.random.randint(0, 99999, size=num_experiments)    \n",
    "    for i, s_affected in enumerate(ss_affected):\n",
    "        pool.apply_async(experiment4, (s_affected, q, i, seeds[i]))\n",
    "        \n",
    "# close thread pool & wait for all jobs to be done\n",
    "pool.close()\n",
    "pool.join()\n",
    "\n",
    "# print duration\n",
    "print(\"Ellapsed: %.2f\" % (time.time() - start))"
   ]
  },
  {
   "cell_type": "markdown",
   "metadata": {},
   "source": [
    "### Test 5"
   ]
  },
  {
   "cell_type": "markdown",
   "metadata": {},
   "source": [
    "Eliminate columns one at the time to see the bias effect induced by removing a feature."
   ]
  },
  {
   "cell_type": "code",
   "execution_count": 17,
   "metadata": {},
   "outputs": [],
   "source": [
    "def experiment5(cov, i, seed):\n",
    "    np.random.seed(seed)\n",
    "    \n",
    "    results = {}\n",
    "    num_rows = mdscan_data_train.shape[0]\n",
    "    mdscan_data_train_ = mdscan_data_train.copy()\n",
    "    mdscan_data_test_ = mdscan_data_test.copy()\n",
    "    \n",
    "    # drop covariates from dataframe\n",
    "    sub_mdscan_data_train = mdscan_data_train_.drop([cov], axis=1) if cov else mdscan_data_train_\n",
    "    sub_mdscan_data_test = mdscan_data_test_.drop([cov], axis=1) if cov else mdscan_data_test_\n",
    "    \n",
    "    # convert sub_mdscan_data to one hot encodings / dummy variables\n",
    "    columns = list(set(covariates).difference(set([cov]))) if cov else covariates\n",
    "    \n",
    "    train_data = pd.get_dummies(sub_mdscan_data_train, prefix=columns, columns=columns)\n",
    "    indexes = np.random.choice(np.arange(num_rows), num_rows // 2, replace=False)\n",
    "    sub_train_data = train_data.loc[indexes, :].to_numpy()\n",
    "    test_data = pd.get_dummies(sub_mdscan_data_test, prefix=columns, columns=columns)\n",
    "    \n",
    "    # first column is the outcome\n",
    "    X_train, y_train = sub_train_data[:, 1:], sub_train_data[:, 0]\n",
    "    X = test_data.to_numpy()[:, 1:]\n",
    "\n",
    "    for clf_label in classifiers_labels:\n",
    "        # train the classifier on smaller dataset\n",
    "        clf = model_selection(X=X_train, y=y_train, clf_label=clf_label)\n",
    "        clf = clf.fit(X_train, y_train)\n",
    "\n",
    "        # predict the probability on the entier datast\n",
    "        proba = clf.predict_proba(X)[:, 1]\n",
    "           \n",
    "        # save probability into a file\n",
    "        filename = \"training/test5/clf=%s_cov=%s_i=%d.pkl\" % (clf_label, cov, i)\n",
    "        file = open(filename, 'wb')\n",
    "        pkl.dump(proba, file)\n",
    "        file.close()"
   ]
  },
  {
   "cell_type": "code",
   "execution_count": 18,
   "metadata": {},
   "outputs": [
    {
     "name": "stdout",
     "output_type": "stream",
     "text": [
      "Ellapsed: 45.98\n"
     ]
    }
   ],
   "source": [
    "num_experiments = NUM_EXPERIMENTS\n",
    "\n",
    "# start time\n",
    "start = time.time()\n",
    "\n",
    "# define thread pool\n",
    "pool = Pool(processes=NUM_CPUS)\n",
    "\n",
    "extended_cov = [None] + covariates\n",
    "for cov in extended_cov:   \n",
    "    seeds = np.random.randint(0, 99999, size=num_experiments)\n",
    "    for i in range(num_experiments):\n",
    "        pool.apply_async(experiment5, (cov, i, seeds[i]))\n",
    "        \n",
    "# close thread pool & wait for all jobs to be done\n",
    "pool.close()\n",
    "pool.join()\n",
    "\n",
    "# print duration\n",
    "print(\"Ellapsed: %.2f\" % (time.time() - start))"
   ]
  }
 ],
 "metadata": {
  "kernelspec": {
   "display_name": "Python 3",
   "language": "python",
   "name": "python3"
  },
  "language_info": {
   "codemirror_mode": {
    "name": "ipython",
    "version": 3
   },
   "file_extension": ".py",
   "mimetype": "text/x-python",
   "name": "python",
   "nbconvert_exporter": "python",
   "pygments_lexer": "ipython3",
   "version": "3.6.8"
  }
 },
 "nbformat": 4,
 "nbformat_minor": 2
}
